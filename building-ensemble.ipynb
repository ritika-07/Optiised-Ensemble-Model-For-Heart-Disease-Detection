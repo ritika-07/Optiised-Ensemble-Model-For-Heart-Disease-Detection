{
 "cells": [
  {
   "cell_type": "markdown",
   "metadata": {
    "papermill": {
     "duration": 0.044395,
     "end_time": "2022-03-26T06:40:11.903239",
     "exception": false,
     "start_time": "2022-03-26T06:40:11.858844",
     "status": "completed"
    },
    "tags": []
   },
   "source": [
    "# **HEART DISEASE ANALYSIS** "
   ]
  },
  {
   "cell_type": "markdown",
   "metadata": {
    "papermill": {
     "duration": 0.044509,
     "end_time": "2022-03-26T06:40:11.995046",
     "exception": false,
     "start_time": "2022-03-26T06:40:11.950537",
     "status": "completed"
    },
    "tags": []
   },
   "source": [
    "---\n",
    "## **1. Importing Packages and Dataset**"
   ]
  },
  {
   "cell_type": "code",
   "execution_count": 1,
   "metadata": {
    "execution": {
     "iopub.execute_input": "2022-03-26T06:40:12.091369Z",
     "iopub.status.busy": "2022-03-26T06:40:12.090646Z",
     "iopub.status.idle": "2022-03-26T06:40:14.916333Z",
     "shell.execute_reply": "2022-03-26T06:40:14.917171Z",
     "shell.execute_reply.started": "2022-03-26T06:39:02.906735Z"
    },
    "papermill": {
     "duration": 2.879418,
     "end_time": "2022-03-26T06:40:14.917426",
     "exception": false,
     "start_time": "2022-03-26T06:40:12.038008",
     "status": "completed"
    },
    "tags": []
   },
   "outputs": [],
   "source": [
    "#loading dataset\n",
    "import pandas as pd\n",
    "import numpy as np\n",
    "\n",
    "#visualisation\n",
    "import matplotlib.pyplot as plt\n",
    "%matplotlib inline\n",
    "import seaborn as sns\n",
    "\n",
    "#EDA\n",
    "from collections import Counter\n",
    "import pandas_profiling as pp\n",
    "\n",
    "# data preprocessing\n",
    "from sklearn.preprocessing import StandardScaler\n",
    "\n",
    "# data splitting\n",
    "from sklearn.model_selection import train_test_split\n",
    "\n",
    "# data modeling\n",
    "from sklearn.metrics import confusion_matrix,accuracy_score,roc_curve,classification_report\n",
    "from sklearn.linear_model import LogisticRegression\n",
    "from sklearn.naive_bayes import GaussianNB\n",
    "from xgboost import XGBClassifier\n",
    "from sklearn.ensemble import RandomForestClassifier\n",
    "from sklearn.tree import DecisionTreeClassifier\n",
    "from sklearn.neighbors import KNeighborsClassifier\n",
    "from sklearn.naive_bayes import GaussianNB\n",
    "from sklearn.svm import SVC\n",
    "from sklearn.metrics import mean_squared_log_error\n",
    "\n",
    "#ensembling\n",
    "from mlxtend.classifier import StackingCVClassifier\n",
    "\n",
    "#time\n",
    "import time"
   ]
  },
  {
   "cell_type": "code",
   "execution_count": 2,
   "metadata": {
    "_cell_guid": "79c7e3d0-c299-4dcb-8224-4455121ee9b0",
    "_uuid": "d629ff2d2480ee46fbb7e2d37f6b5fab8052498a",
    "execution": {
     "iopub.execute_input": "2022-03-26T06:40:15.019398Z",
     "iopub.status.busy": "2022-03-26T06:40:15.018647Z",
     "iopub.status.idle": "2022-03-26T06:40:15.066583Z",
     "shell.execute_reply": "2022-03-26T06:40:15.067121Z",
     "shell.execute_reply.started": "2022-03-26T06:39:03.149573Z"
    },
    "papermill": {
     "duration": 0.099744,
     "end_time": "2022-03-26T06:40:15.067289",
     "exception": false,
     "start_time": "2022-03-26T06:40:14.967545",
     "status": "completed"
    },
    "tags": []
   },
   "outputs": [
    {
     "data": {
      "text/html": [
       "<div>\n",
       "<style scoped>\n",
       "    .dataframe tbody tr th:only-of-type {\n",
       "        vertical-align: middle;\n",
       "    }\n",
       "\n",
       "    .dataframe tbody tr th {\n",
       "        vertical-align: top;\n",
       "    }\n",
       "\n",
       "    .dataframe thead th {\n",
       "        text-align: right;\n",
       "    }\n",
       "</style>\n",
       "<table border=\"1\" class=\"dataframe\">\n",
       "  <thead>\n",
       "    <tr style=\"text-align: right;\">\n",
       "      <th></th>\n",
       "      <th>age</th>\n",
       "      <th>sex</th>\n",
       "      <th>cp</th>\n",
       "      <th>trestbps</th>\n",
       "      <th>chol</th>\n",
       "      <th>fbs</th>\n",
       "      <th>restecg</th>\n",
       "      <th>thalach</th>\n",
       "      <th>exang</th>\n",
       "      <th>oldpeak</th>\n",
       "      <th>slope</th>\n",
       "      <th>ca</th>\n",
       "      <th>thal</th>\n",
       "      <th>target</th>\n",
       "    </tr>\n",
       "  </thead>\n",
       "  <tbody>\n",
       "    <tr>\n",
       "      <th>0</th>\n",
       "      <td>63</td>\n",
       "      <td>1</td>\n",
       "      <td>3</td>\n",
       "      <td>145</td>\n",
       "      <td>233</td>\n",
       "      <td>1</td>\n",
       "      <td>0</td>\n",
       "      <td>150</td>\n",
       "      <td>0</td>\n",
       "      <td>2.3</td>\n",
       "      <td>0</td>\n",
       "      <td>0</td>\n",
       "      <td>1</td>\n",
       "      <td>1</td>\n",
       "    </tr>\n",
       "    <tr>\n",
       "      <th>1</th>\n",
       "      <td>37</td>\n",
       "      <td>1</td>\n",
       "      <td>2</td>\n",
       "      <td>130</td>\n",
       "      <td>250</td>\n",
       "      <td>0</td>\n",
       "      <td>1</td>\n",
       "      <td>187</td>\n",
       "      <td>0</td>\n",
       "      <td>3.5</td>\n",
       "      <td>0</td>\n",
       "      <td>0</td>\n",
       "      <td>2</td>\n",
       "      <td>1</td>\n",
       "    </tr>\n",
       "    <tr>\n",
       "      <th>2</th>\n",
       "      <td>41</td>\n",
       "      <td>0</td>\n",
       "      <td>1</td>\n",
       "      <td>130</td>\n",
       "      <td>204</td>\n",
       "      <td>0</td>\n",
       "      <td>0</td>\n",
       "      <td>172</td>\n",
       "      <td>0</td>\n",
       "      <td>1.4</td>\n",
       "      <td>2</td>\n",
       "      <td>0</td>\n",
       "      <td>2</td>\n",
       "      <td>1</td>\n",
       "    </tr>\n",
       "    <tr>\n",
       "      <th>3</th>\n",
       "      <td>56</td>\n",
       "      <td>1</td>\n",
       "      <td>1</td>\n",
       "      <td>120</td>\n",
       "      <td>236</td>\n",
       "      <td>0</td>\n",
       "      <td>1</td>\n",
       "      <td>178</td>\n",
       "      <td>0</td>\n",
       "      <td>0.8</td>\n",
       "      <td>2</td>\n",
       "      <td>0</td>\n",
       "      <td>2</td>\n",
       "      <td>1</td>\n",
       "    </tr>\n",
       "    <tr>\n",
       "      <th>4</th>\n",
       "      <td>57</td>\n",
       "      <td>0</td>\n",
       "      <td>0</td>\n",
       "      <td>120</td>\n",
       "      <td>354</td>\n",
       "      <td>0</td>\n",
       "      <td>1</td>\n",
       "      <td>163</td>\n",
       "      <td>1</td>\n",
       "      <td>0.6</td>\n",
       "      <td>2</td>\n",
       "      <td>0</td>\n",
       "      <td>2</td>\n",
       "      <td>1</td>\n",
       "    </tr>\n",
       "  </tbody>\n",
       "</table>\n",
       "</div>"
      ],
      "text/plain": [
       "   age  sex  cp  trestbps  chol  fbs  restecg  thalach  exang  oldpeak  slope  \\\n",
       "0   63    1   3       145   233    1        0      150      0      2.3      0   \n",
       "1   37    1   2       130   250    0        1      187      0      3.5      0   \n",
       "2   41    0   1       130   204    0        0      172      0      1.4      2   \n",
       "3   56    1   1       120   236    0        1      178      0      0.8      2   \n",
       "4   57    0   0       120   354    0        1      163      1      0.6      2   \n",
       "\n",
       "   ca  thal  target  \n",
       "0   0     1       1  \n",
       "1   0     2       1  \n",
       "2   0     2       1  \n",
       "3   0     2       1  \n",
       "4   0     2       1  "
      ]
     },
     "execution_count": 2,
     "metadata": {},
     "output_type": "execute_result"
    }
   ],
   "source": [
    "data = pd.read_csv('../input/health-care-data-set-on-heart-attack-possibility/heart.csv')\n",
    "data.head()"
   ]
  },
  {
   "cell_type": "markdown",
   "metadata": {
    "papermill": {
     "duration": 0.043435,
     "end_time": "2022-03-26T06:40:15.155580",
     "exception": false,
     "start_time": "2022-03-26T06:40:15.112145",
     "status": "completed"
    },
    "tags": []
   },
   "source": [
    "---\n",
    "## **2. Exploratory Data Analysis**"
   ]
  },
  {
   "cell_type": "code",
   "execution_count": 3,
   "metadata": {
    "execution": {
     "iopub.execute_input": "2022-03-26T06:40:15.246731Z",
     "iopub.status.busy": "2022-03-26T06:40:15.245695Z",
     "iopub.status.idle": "2022-03-26T06:40:15.266469Z",
     "shell.execute_reply": "2022-03-26T06:40:15.267302Z",
     "shell.execute_reply.started": "2022-03-26T06:39:03.377863Z"
    },
    "papermill": {
     "duration": 0.068623,
     "end_time": "2022-03-26T06:40:15.267509",
     "exception": false,
     "start_time": "2022-03-26T06:40:15.198886",
     "status": "completed"
    },
    "tags": []
   },
   "outputs": [
    {
     "name": "stdout",
     "output_type": "stream",
     "text": [
      "<class 'pandas.core.frame.DataFrame'>\n",
      "RangeIndex: 303 entries, 0 to 302\n",
      "Data columns (total 14 columns):\n",
      " #   Column    Non-Null Count  Dtype  \n",
      "---  ------    --------------  -----  \n",
      " 0   age       303 non-null    int64  \n",
      " 1   sex       303 non-null    int64  \n",
      " 2   cp        303 non-null    int64  \n",
      " 3   trestbps  303 non-null    int64  \n",
      " 4   chol      303 non-null    int64  \n",
      " 5   fbs       303 non-null    int64  \n",
      " 6   restecg   303 non-null    int64  \n",
      " 7   thalach   303 non-null    int64  \n",
      " 8   exang     303 non-null    int64  \n",
      " 9   oldpeak   303 non-null    float64\n",
      " 10  slope     303 non-null    int64  \n",
      " 11  ca        303 non-null    int64  \n",
      " 12  thal      303 non-null    int64  \n",
      " 13  target    303 non-null    int64  \n",
      "dtypes: float64(1), int64(13)\n",
      "memory usage: 33.3 KB\n"
     ]
    }
   ],
   "source": [
    "data.info()"
   ]
  },
  {
   "cell_type": "markdown",
   "metadata": {
    "papermill": {
     "duration": 0.044588,
     "end_time": "2022-03-26T06:40:15.364105",
     "exception": false,
     "start_time": "2022-03-26T06:40:15.319517",
     "status": "completed"
    },
    "tags": []
   },
   "source": [
    "### **Missing Value Detection**"
   ]
  },
  {
   "cell_type": "code",
   "execution_count": 4,
   "metadata": {
    "execution": {
     "iopub.execute_input": "2022-03-26T06:40:15.456033Z",
     "iopub.status.busy": "2022-03-26T06:40:15.455349Z",
     "iopub.status.idle": "2022-03-26T06:40:15.463153Z",
     "shell.execute_reply": "2022-03-26T06:40:15.463767Z",
     "shell.execute_reply.started": "2022-03-26T06:39:03.607425Z"
    },
    "papermill": {
     "duration": 0.056113,
     "end_time": "2022-03-26T06:40:15.463917",
     "exception": false,
     "start_time": "2022-03-26T06:40:15.407804",
     "status": "completed"
    },
    "tags": []
   },
   "outputs": [
    {
     "data": {
      "text/plain": [
       "age         0\n",
       "sex         0\n",
       "cp          0\n",
       "trestbps    0\n",
       "chol        0\n",
       "fbs         0\n",
       "restecg     0\n",
       "thalach     0\n",
       "exang       0\n",
       "oldpeak     0\n",
       "slope       0\n",
       "ca          0\n",
       "thal        0\n",
       "target      0\n",
       "dtype: int64"
      ]
     },
     "execution_count": 4,
     "metadata": {},
     "output_type": "execute_result"
    }
   ],
   "source": [
    "data.isnull().sum()"
   ]
  },
  {
   "cell_type": "markdown",
   "metadata": {
    "papermill": {
     "duration": 0.043977,
     "end_time": "2022-03-26T06:40:15.552896",
     "exception": false,
     "start_time": "2022-03-26T06:40:15.508919",
     "status": "completed"
    },
    "tags": []
   },
   "source": [
    "### **Descriptive statistics**"
   ]
  },
  {
   "cell_type": "code",
   "execution_count": 5,
   "metadata": {
    "execution": {
     "iopub.execute_input": "2022-03-26T06:40:15.676730Z",
     "iopub.status.busy": "2022-03-26T06:40:15.675817Z",
     "iopub.status.idle": "2022-03-26T06:40:15.727704Z",
     "shell.execute_reply": "2022-03-26T06:40:15.727052Z",
     "shell.execute_reply.started": "2022-03-26T06:39:03.980546Z"
    },
    "papermill": {
     "duration": 0.125198,
     "end_time": "2022-03-26T06:40:15.727827",
     "exception": false,
     "start_time": "2022-03-26T06:40:15.602629",
     "status": "completed"
    },
    "tags": []
   },
   "outputs": [
    {
     "data": {
      "text/html": [
       "<div>\n",
       "<style scoped>\n",
       "    .dataframe tbody tr th:only-of-type {\n",
       "        vertical-align: middle;\n",
       "    }\n",
       "\n",
       "    .dataframe tbody tr th {\n",
       "        vertical-align: top;\n",
       "    }\n",
       "\n",
       "    .dataframe thead th {\n",
       "        text-align: right;\n",
       "    }\n",
       "</style>\n",
       "<table border=\"1\" class=\"dataframe\">\n",
       "  <thead>\n",
       "    <tr style=\"text-align: right;\">\n",
       "      <th></th>\n",
       "      <th>age</th>\n",
       "      <th>sex</th>\n",
       "      <th>cp</th>\n",
       "      <th>trestbps</th>\n",
       "      <th>chol</th>\n",
       "      <th>fbs</th>\n",
       "      <th>restecg</th>\n",
       "      <th>thalach</th>\n",
       "      <th>exang</th>\n",
       "      <th>oldpeak</th>\n",
       "      <th>slope</th>\n",
       "      <th>ca</th>\n",
       "      <th>thal</th>\n",
       "      <th>target</th>\n",
       "    </tr>\n",
       "  </thead>\n",
       "  <tbody>\n",
       "    <tr>\n",
       "      <th>count</th>\n",
       "      <td>303.000000</td>\n",
       "      <td>303.000000</td>\n",
       "      <td>303.000000</td>\n",
       "      <td>303.000000</td>\n",
       "      <td>303.000000</td>\n",
       "      <td>303.000000</td>\n",
       "      <td>303.000000</td>\n",
       "      <td>303.000000</td>\n",
       "      <td>303.000000</td>\n",
       "      <td>303.000000</td>\n",
       "      <td>303.000000</td>\n",
       "      <td>303.000000</td>\n",
       "      <td>303.000000</td>\n",
       "      <td>303.000000</td>\n",
       "    </tr>\n",
       "    <tr>\n",
       "      <th>mean</th>\n",
       "      <td>54.366337</td>\n",
       "      <td>0.683168</td>\n",
       "      <td>0.966997</td>\n",
       "      <td>131.623762</td>\n",
       "      <td>246.264026</td>\n",
       "      <td>0.148515</td>\n",
       "      <td>0.528053</td>\n",
       "      <td>149.646865</td>\n",
       "      <td>0.326733</td>\n",
       "      <td>1.039604</td>\n",
       "      <td>1.399340</td>\n",
       "      <td>0.729373</td>\n",
       "      <td>2.313531</td>\n",
       "      <td>0.544554</td>\n",
       "    </tr>\n",
       "    <tr>\n",
       "      <th>std</th>\n",
       "      <td>9.082101</td>\n",
       "      <td>0.466011</td>\n",
       "      <td>1.032052</td>\n",
       "      <td>17.538143</td>\n",
       "      <td>51.830751</td>\n",
       "      <td>0.356198</td>\n",
       "      <td>0.525860</td>\n",
       "      <td>22.905161</td>\n",
       "      <td>0.469794</td>\n",
       "      <td>1.161075</td>\n",
       "      <td>0.616226</td>\n",
       "      <td>1.022606</td>\n",
       "      <td>0.612277</td>\n",
       "      <td>0.498835</td>\n",
       "    </tr>\n",
       "    <tr>\n",
       "      <th>min</th>\n",
       "      <td>29.000000</td>\n",
       "      <td>0.000000</td>\n",
       "      <td>0.000000</td>\n",
       "      <td>94.000000</td>\n",
       "      <td>126.000000</td>\n",
       "      <td>0.000000</td>\n",
       "      <td>0.000000</td>\n",
       "      <td>71.000000</td>\n",
       "      <td>0.000000</td>\n",
       "      <td>0.000000</td>\n",
       "      <td>0.000000</td>\n",
       "      <td>0.000000</td>\n",
       "      <td>0.000000</td>\n",
       "      <td>0.000000</td>\n",
       "    </tr>\n",
       "    <tr>\n",
       "      <th>25%</th>\n",
       "      <td>47.500000</td>\n",
       "      <td>0.000000</td>\n",
       "      <td>0.000000</td>\n",
       "      <td>120.000000</td>\n",
       "      <td>211.000000</td>\n",
       "      <td>0.000000</td>\n",
       "      <td>0.000000</td>\n",
       "      <td>133.500000</td>\n",
       "      <td>0.000000</td>\n",
       "      <td>0.000000</td>\n",
       "      <td>1.000000</td>\n",
       "      <td>0.000000</td>\n",
       "      <td>2.000000</td>\n",
       "      <td>0.000000</td>\n",
       "    </tr>\n",
       "    <tr>\n",
       "      <th>50%</th>\n",
       "      <td>55.000000</td>\n",
       "      <td>1.000000</td>\n",
       "      <td>1.000000</td>\n",
       "      <td>130.000000</td>\n",
       "      <td>240.000000</td>\n",
       "      <td>0.000000</td>\n",
       "      <td>1.000000</td>\n",
       "      <td>153.000000</td>\n",
       "      <td>0.000000</td>\n",
       "      <td>0.800000</td>\n",
       "      <td>1.000000</td>\n",
       "      <td>0.000000</td>\n",
       "      <td>2.000000</td>\n",
       "      <td>1.000000</td>\n",
       "    </tr>\n",
       "    <tr>\n",
       "      <th>75%</th>\n",
       "      <td>61.000000</td>\n",
       "      <td>1.000000</td>\n",
       "      <td>2.000000</td>\n",
       "      <td>140.000000</td>\n",
       "      <td>274.500000</td>\n",
       "      <td>0.000000</td>\n",
       "      <td>1.000000</td>\n",
       "      <td>166.000000</td>\n",
       "      <td>1.000000</td>\n",
       "      <td>1.600000</td>\n",
       "      <td>2.000000</td>\n",
       "      <td>1.000000</td>\n",
       "      <td>3.000000</td>\n",
       "      <td>1.000000</td>\n",
       "    </tr>\n",
       "    <tr>\n",
       "      <th>max</th>\n",
       "      <td>77.000000</td>\n",
       "      <td>1.000000</td>\n",
       "      <td>3.000000</td>\n",
       "      <td>200.000000</td>\n",
       "      <td>564.000000</td>\n",
       "      <td>1.000000</td>\n",
       "      <td>2.000000</td>\n",
       "      <td>202.000000</td>\n",
       "      <td>1.000000</td>\n",
       "      <td>6.200000</td>\n",
       "      <td>2.000000</td>\n",
       "      <td>4.000000</td>\n",
       "      <td>3.000000</td>\n",
       "      <td>1.000000</td>\n",
       "    </tr>\n",
       "  </tbody>\n",
       "</table>\n",
       "</div>"
      ],
      "text/plain": [
       "              age         sex          cp    trestbps        chol         fbs  \\\n",
       "count  303.000000  303.000000  303.000000  303.000000  303.000000  303.000000   \n",
       "mean    54.366337    0.683168    0.966997  131.623762  246.264026    0.148515   \n",
       "std      9.082101    0.466011    1.032052   17.538143   51.830751    0.356198   \n",
       "min     29.000000    0.000000    0.000000   94.000000  126.000000    0.000000   \n",
       "25%     47.500000    0.000000    0.000000  120.000000  211.000000    0.000000   \n",
       "50%     55.000000    1.000000    1.000000  130.000000  240.000000    0.000000   \n",
       "75%     61.000000    1.000000    2.000000  140.000000  274.500000    0.000000   \n",
       "max     77.000000    1.000000    3.000000  200.000000  564.000000    1.000000   \n",
       "\n",
       "          restecg     thalach       exang     oldpeak       slope          ca  \\\n",
       "count  303.000000  303.000000  303.000000  303.000000  303.000000  303.000000   \n",
       "mean     0.528053  149.646865    0.326733    1.039604    1.399340    0.729373   \n",
       "std      0.525860   22.905161    0.469794    1.161075    0.616226    1.022606   \n",
       "min      0.000000   71.000000    0.000000    0.000000    0.000000    0.000000   \n",
       "25%      0.000000  133.500000    0.000000    0.000000    1.000000    0.000000   \n",
       "50%      1.000000  153.000000    0.000000    0.800000    1.000000    0.000000   \n",
       "75%      1.000000  166.000000    1.000000    1.600000    2.000000    1.000000   \n",
       "max      2.000000  202.000000    1.000000    6.200000    2.000000    4.000000   \n",
       "\n",
       "             thal      target  \n",
       "count  303.000000  303.000000  \n",
       "mean     2.313531    0.544554  \n",
       "std      0.612277    0.498835  \n",
       "min      0.000000    0.000000  \n",
       "25%      2.000000    0.000000  \n",
       "50%      2.000000    1.000000  \n",
       "75%      3.000000    1.000000  \n",
       "max      3.000000    1.000000  "
      ]
     },
     "execution_count": 5,
     "metadata": {},
     "output_type": "execute_result"
    }
   ],
   "source": [
    "data.describe()"
   ]
  },
  {
   "cell_type": "code",
   "execution_count": 6,
   "metadata": {
    "execution": {
     "iopub.execute_input": "2022-03-26T06:40:15.826241Z",
     "iopub.status.busy": "2022-03-26T06:40:15.825188Z",
     "iopub.status.idle": "2022-03-26T06:40:35.009541Z",
     "shell.execute_reply": "2022-03-26T06:40:35.008925Z",
     "shell.execute_reply.started": "2022-03-26T06:39:04.227956Z"
    },
    "papermill": {
     "duration": 19.236971,
     "end_time": "2022-03-26T06:40:35.009679",
     "exception": false,
     "start_time": "2022-03-26T06:40:15.772708",
     "status": "completed"
    },
    "tags": []
   },
   "outputs": [
    {
     "data": {
      "application/vnd.jupyter.widget-view+json": {
       "model_id": "249188201c8448f58ca35fd66a551730",
       "version_major": 2,
       "version_minor": 0
      },
      "text/plain": [
       "HBox(children=(FloatProgress(value=0.0, description='variables', max=14.0, style=ProgressStyle(description_wid…"
      ]
     },
     "metadata": {},
     "output_type": "display_data"
    },
    {
     "name": "stdout",
     "output_type": "stream",
     "text": [
      "\n"
     ]
    },
    {
     "data": {
      "application/vnd.jupyter.widget-view+json": {
       "model_id": "efc8afdaa2c440a29ffc653768072992",
       "version_major": 2,
       "version_minor": 0
      },
      "text/plain": [
       "HBox(children=(FloatProgress(value=0.0, description='correlations', max=6.0, style=ProgressStyle(description_w…"
      ]
     },
     "metadata": {},
     "output_type": "display_data"
    },
    {
     "name": "stdout",
     "output_type": "stream",
     "text": [
      "\n"
     ]
    },
    {
     "data": {
      "application/vnd.jupyter.widget-view+json": {
       "model_id": "d56a8bf625b545929307918b87430a8d",
       "version_major": 2,
       "version_minor": 0
      },
      "text/plain": [
       "HBox(children=(FloatProgress(value=0.0, description='interactions [continuous]', max=36.0, style=ProgressStyle…"
      ]
     },
     "metadata": {},
     "output_type": "display_data"
    },
    {
     "name": "stdout",
     "output_type": "stream",
     "text": [
      "\n"
     ]
    },
    {
     "data": {
      "application/vnd.jupyter.widget-view+json": {
       "model_id": "c3f7f935855547c7a0194db7f219eccd",
       "version_major": 2,
       "version_minor": 0
      },
      "text/plain": [
       "HBox(children=(FloatProgress(value=0.0, description='table', max=1.0, style=ProgressStyle(description_width='i…"
      ]
     },
     "metadata": {},
     "output_type": "display_data"
    },
    {
     "name": "stdout",
     "output_type": "stream",
     "text": [
      "\n"
     ]
    },
    {
     "data": {
      "application/vnd.jupyter.widget-view+json": {
       "model_id": "23b11befc55044b8bf54ba13a0d8fc19",
       "version_major": 2,
       "version_minor": 0
      },
      "text/plain": [
       "HBox(children=(FloatProgress(value=0.0, description='missing', max=2.0, style=ProgressStyle(description_width=…"
      ]
     },
     "metadata": {},
     "output_type": "display_data"
    },
    {
     "name": "stdout",
     "output_type": "stream",
     "text": [
      "\n"
     ]
    },
    {
     "data": {
      "application/vnd.jupyter.widget-view+json": {
       "model_id": "f95f787f5d2a45b8860754272f2e937f",
       "version_major": 2,
       "version_minor": 0
      },
      "text/plain": [
       "HBox(children=(FloatProgress(value=0.0, description='warnings', max=3.0, style=ProgressStyle(description_width…"
      ]
     },
     "metadata": {},
     "output_type": "display_data"
    },
    {
     "name": "stdout",
     "output_type": "stream",
     "text": [
      "\n"
     ]
    },
    {
     "data": {
      "application/vnd.jupyter.widget-view+json": {
       "model_id": "92b71c9334f342bfa8dd796a3a3e0643",
       "version_major": 2,
       "version_minor": 0
      },
      "text/plain": [
       "HBox(children=(FloatProgress(value=0.0, description='package', max=1.0, style=ProgressStyle(description_width=…"
      ]
     },
     "metadata": {},
     "output_type": "display_data"
    },
    {
     "name": "stdout",
     "output_type": "stream",
     "text": [
      "\n"
     ]
    },
    {
     "data": {
      "application/vnd.jupyter.widget-view+json": {
       "model_id": "2fed7f9117114728ae837d64a42ecbd9",
       "version_major": 2,
       "version_minor": 0
      },
      "text/plain": [
       "HBox(children=(FloatProgress(value=0.0, description='build report structure', max=1.0, style=ProgressStyle(des…"
      ]
     },
     "metadata": {},
     "output_type": "display_data"
    },
    {
     "name": "stdout",
     "output_type": "stream",
     "text": [
      "\n"
     ]
    }
   ],
   "source": [
    "profile=pp.ProfileReport(data)\n",
    "profile.to_file(\"edaOutput.html\")"
   ]
  },
  {
   "cell_type": "markdown",
   "metadata": {
    "papermill": {
     "duration": 0.051833,
     "end_time": "2022-03-26T06:40:35.115338",
     "exception": false,
     "start_time": "2022-03-26T06:40:35.063505",
     "status": "completed"
    },
    "tags": []
   },
   "source": [
    "---\n",
    "## **3. Model prepration**"
   ]
  },
  {
   "cell_type": "markdown",
   "metadata": {
    "papermill": {
     "duration": 0.051443,
     "end_time": "2022-03-26T06:40:35.218588",
     "exception": false,
     "start_time": "2022-03-26T06:40:35.167145",
     "status": "completed"
    },
    "tags": []
   },
   "source": [
    "### **Scaling the data**"
   ]
  },
  {
   "cell_type": "code",
   "execution_count": 7,
   "metadata": {
    "execution": {
     "iopub.execute_input": "2022-03-26T06:40:35.335746Z",
     "iopub.status.busy": "2022-03-26T06:40:35.330701Z",
     "iopub.status.idle": "2022-03-26T06:40:35.344358Z",
     "shell.execute_reply": "2022-03-26T06:40:35.343695Z",
     "shell.execute_reply.started": "2022-03-26T06:39:21.925520Z"
    },
    "papermill": {
     "duration": 0.074067,
     "end_time": "2022-03-26T06:40:35.344492",
     "exception": false,
     "start_time": "2022-03-26T06:40:35.270425",
     "status": "completed"
    },
    "tags": []
   },
   "outputs": [],
   "source": [
    "y = data[\"target\"]\n",
    "X = data.drop('target',axis=1)\n",
    "X_train, X_test, y_train, y_test = train_test_split(X, y, test_size=0.20, random_state = 0)\n",
    "\n",
    "scaler = StandardScaler()\n",
    "X_train = scaler.fit_transform(X_train)\n",
    "\n",
    "X_test = scaler.transform(X_test)\n"
   ]
  },
  {
   "cell_type": "markdown",
   "metadata": {
    "papermill": {
     "duration": 0.051321,
     "end_time": "2022-03-26T06:40:35.448006",
     "exception": false,
     "start_time": "2022-03-26T06:40:35.396685",
     "status": "completed"
    },
    "tags": []
   },
   "source": [
    "### **Check if data is symmetric to avoid data imbalancing issue**"
   ]
  },
  {
   "cell_type": "code",
   "execution_count": 8,
   "metadata": {
    "execution": {
     "iopub.execute_input": "2022-03-26T06:40:35.558654Z",
     "iopub.status.busy": "2022-03-26T06:40:35.557990Z",
     "iopub.status.idle": "2022-03-26T06:40:35.562995Z",
     "shell.execute_reply": "2022-03-26T06:40:35.562375Z",
     "shell.execute_reply.started": "2022-03-26T06:39:21.945604Z"
    },
    "papermill": {
     "duration": 0.062929,
     "end_time": "2022-03-26T06:40:35.563110",
     "exception": false,
     "start_time": "2022-03-26T06:40:35.500181",
     "status": "completed"
    },
    "tags": []
   },
   "outputs": [
    {
     "name": "stdout",
     "output_type": "stream",
     "text": [
      "[0 1]\n"
     ]
    },
    {
     "data": {
      "text/plain": [
       "Counter({1: 131, 0: 111})"
      ]
     },
     "execution_count": 8,
     "metadata": {},
     "output_type": "execute_result"
    }
   ],
   "source": [
    "print(y_test.unique())\n",
    "Counter(y_train)"
   ]
  },
  {
   "cell_type": "markdown",
   "metadata": {
    "papermill": {
     "duration": 0.052397,
     "end_time": "2022-03-26T06:40:35.669990",
     "exception": false,
     "start_time": "2022-03-26T06:40:35.617593",
     "status": "completed"
    },
    "tags": []
   },
   "source": [
    "### **ML Models Analysed:**\n",
    "\n",
    "> ####  1. Logistic Regression\n",
    "> #### 2. Naive Bayes\n",
    "> #### 3. Random Forest Classifier\n",
    "> #### 4. Extreme Gradient Boost\n",
    "> #### 5. K-Nearest Neighbour\n",
    "> #### 6. Decision Tree\n",
    "> #### 7. Support Vector Machine\n"
   ]
  },
  {
   "cell_type": "markdown",
   "metadata": {
    "papermill": {
     "duration": 0.052908,
     "end_time": "2022-03-26T06:40:35.775915",
     "exception": false,
     "start_time": "2022-03-26T06:40:35.723007",
     "status": "completed"
    },
    "tags": []
   },
   "source": [
    "### **I) LOGISTIC REGRESSION**"
   ]
  },
  {
   "cell_type": "code",
   "execution_count": 9,
   "metadata": {
    "execution": {
     "iopub.execute_input": "2022-03-26T06:40:35.906240Z",
     "iopub.status.busy": "2022-03-26T06:40:35.905373Z",
     "iopub.status.idle": "2022-03-26T06:40:35.924180Z",
     "shell.execute_reply": "2022-03-26T06:40:35.924855Z",
     "shell.execute_reply.started": "2022-03-26T06:39:21.965617Z"
    },
    "papermill": {
     "duration": 0.096252,
     "end_time": "2022-03-26T06:40:35.925041",
     "exception": false,
     "start_time": "2022-03-26T06:40:35.828789",
     "status": "completed"
    },
    "tags": []
   },
   "outputs": [
    {
     "name": "stdout",
     "output_type": "stream",
     "text": [
      "Training Time:  9.980440139770508\n",
      "\n",
      "confussion matrix\n",
      "[[21  6]\n",
      " [ 3 31]]\n",
      "\n",
      "\n",
      "Accuracy of Logistic Regression: 85.24590163934425 \n",
      "\n",
      "              precision    recall  f1-score   support\n",
      "\n",
      "           0       0.88      0.78      0.82        27\n",
      "           1       0.84      0.91      0.87        34\n",
      "\n",
      "    accuracy                           0.85        61\n",
      "   macro avg       0.86      0.84      0.85        61\n",
      "weighted avg       0.85      0.85      0.85        61\n",
      "\n",
      "For input:  [58.0, 0.0, 0.0, 100.0, 248.0, 0.0, 0.0, 122.0, 0.0, 1.0, 1.0, 0.0, 2.0]\n",
      "Predicted output:  [1]\n",
      "Prediction Time:  1.766204833984375\n"
     ]
    }
   ],
   "source": [
    "stime = time.time()\n",
    "\n",
    "m1 = 'Logistic Regression'\n",
    "lr = LogisticRegression()\n",
    "model = lr.fit(X_train, y_train)\n",
    "lr_predict = lr.predict(X_test)\n",
    "\n",
    "etime = time.time()\n",
    "print(\"Training Time: \", (etime-stime)*1000)\n",
    "print()\n",
    "\n",
    "lr_conf_matrix = confusion_matrix(y_test, lr_predict)\n",
    "lr_acc_score = accuracy_score(y_test, lr_predict)\n",
    "print(\"confussion matrix\")\n",
    "print(lr_conf_matrix)\n",
    "print(\"\\n\")\n",
    "print(\"Accuracy of Logistic Regression:\",lr_acc_score*100,'\\n')\n",
    "print(classification_report(y_test,lr_predict))\n",
    "\n",
    "values= [58.0, 0.0, 0.0, 100.0, 248.0, 0.0, 0.0, 122.0, 0.0, 1.0, 1.0, 0.0, 2.0]\n",
    "indexes=['age', 'sex', 'cp', 'trestbps', 'chol', 'fbs', 'restecg', 'thalach', 'exang', 'oldpeak', 'slope', 'ca', 'thal'] \n",
    "\n",
    "stime = time.time()\n",
    "input_series=pd.Series(values, index=indexes)\n",
    "input_series = scaler.transform(input_series.values.reshape(1,-1))\n",
    "print(\"For input: \", values)\n",
    "print(\"Predicted output: \", lr.predict(input_series))\n",
    "etime = time.time()\n",
    "print(\"Prediction Time: \", (etime-stime)*1000)\n",
    "\n"
   ]
  },
  {
   "cell_type": "markdown",
   "metadata": {
    "papermill": {
     "duration": 0.054145,
     "end_time": "2022-03-26T06:40:36.037544",
     "exception": false,
     "start_time": "2022-03-26T06:40:35.983399",
     "status": "completed"
    },
    "tags": []
   },
   "source": [
    "### **II) NAIVE BAYES**"
   ]
  },
  {
   "cell_type": "code",
   "execution_count": 10,
   "metadata": {
    "execution": {
     "iopub.execute_input": "2022-03-26T06:40:36.159044Z",
     "iopub.status.busy": "2022-03-26T06:40:36.153564Z",
     "iopub.status.idle": "2022-03-26T06:40:36.173594Z",
     "shell.execute_reply": "2022-03-26T06:40:36.174158Z",
     "shell.execute_reply.started": "2022-03-26T06:39:22.006407Z"
    },
    "papermill": {
     "duration": 0.082705,
     "end_time": "2022-03-26T06:40:36.174351",
     "exception": false,
     "start_time": "2022-03-26T06:40:36.091646",
     "status": "completed"
    },
    "tags": []
   },
   "outputs": [
    {
     "name": "stdout",
     "output_type": "stream",
     "text": [
      "Training Time:  2.6755332946777344\n",
      "\n",
      "confussion matrix\n",
      "[[21  6]\n",
      " [ 3 31]]\n",
      "\n",
      "\n",
      "Accuracy of Naive Bayes model: 85.24590163934425 \n",
      "\n",
      "              precision    recall  f1-score   support\n",
      "\n",
      "           0       0.88      0.78      0.82        27\n",
      "           1       0.84      0.91      0.87        34\n",
      "\n",
      "    accuracy                           0.85        61\n",
      "   macro avg       0.86      0.84      0.85        61\n",
      "weighted avg       0.85      0.85      0.85        61\n",
      "\n",
      "For input:  [58.0, 0.0, 0.0, 100.0, 248.0, 0.0, 0.0, 122.0, 0.0, 1.0, 1.0, 0.0, 2.0]\n",
      "Predicted:  [1]\n",
      "Prediction Time:  2.0873546600341797\n"
     ]
    }
   ],
   "source": [
    "stime = time.time()\n",
    "\n",
    "m2 = 'Naive Bayes'\n",
    "nb = GaussianNB()\n",
    "nb.fit(X_train,y_train)\n",
    "nbpred = nb.predict(X_test)\n",
    "\n",
    "etime = time.time()\n",
    "print(\"Training Time: \", (etime-stime)*1000)\n",
    "print()\n",
    "\n",
    "nb_conf_matrix = confusion_matrix(y_test, nbpred)\n",
    "nb_acc_score = accuracy_score(y_test, nbpred)\n",
    "print(\"confussion matrix\")\n",
    "print(nb_conf_matrix)\n",
    "print(\"\\n\")\n",
    "print(\"Accuracy of Naive Bayes model:\",nb_acc_score*100,'\\n')\n",
    "print(classification_report(y_test,nbpred))\n",
    "\n",
    "values= [58.0, 0.0, 0.0, 100.0, 248.0, 0.0, 0.0, 122.0, 0.0, 1.0, 1.0, 0.0, 2.0]\n",
    "indexes=['age', 'sex', 'cp', 'trestbps', 'chol', 'fbs', 'restecg', 'thalach', 'exang', 'oldpeak', 'slope', 'ca', 'thal'] \n",
    "\n",
    "stime = time.time()\n",
    "input_series=pd.Series(values, index=indexes)\n",
    "input_series = scaler.transform(input_series.values.reshape(1,-1))\n",
    "print(\"For input: \", values)\n",
    "print(\"Predicted: \", nb.predict(input_series))\n",
    "etime = time.time()\n",
    "print(\"Prediction Time: \", (etime-stime)*1000)"
   ]
  },
  {
   "cell_type": "markdown",
   "metadata": {
    "papermill": {
     "duration": 0.052982,
     "end_time": "2022-03-26T06:40:36.280694",
     "exception": false,
     "start_time": "2022-03-26T06:40:36.227712",
     "status": "completed"
    },
    "tags": []
   },
   "source": [
    "### **III) RANDOM FOREST**"
   ]
  },
  {
   "cell_type": "code",
   "execution_count": 11,
   "metadata": {
    "execution": {
     "iopub.execute_input": "2022-03-26T06:40:36.392369Z",
     "iopub.status.busy": "2022-03-26T06:40:36.391349Z",
     "iopub.status.idle": "2022-03-26T06:40:36.471683Z",
     "shell.execute_reply": "2022-03-26T06:40:36.469933Z",
     "shell.execute_reply.started": "2022-03-26T06:39:22.037377Z"
    },
    "papermill": {
     "duration": 0.137145,
     "end_time": "2022-03-26T06:40:36.471858",
     "exception": false,
     "start_time": "2022-03-26T06:40:36.334713",
     "status": "completed"
    },
    "tags": []
   },
   "outputs": [
    {
     "name": "stdout",
     "output_type": "stream",
     "text": [
      "Training Time:  45.09878158569336\n",
      "\n",
      "confussion matrix\n",
      "[[22  5]\n",
      " [ 4 30]]\n",
      "\n",
      "\n",
      "Accuracy of Random Forest: 85.24590163934425 \n",
      "\n",
      "              precision    recall  f1-score   support\n",
      "\n",
      "           0       0.85      0.81      0.83        27\n",
      "           1       0.86      0.88      0.87        34\n",
      "\n",
      "    accuracy                           0.85        61\n",
      "   macro avg       0.85      0.85      0.85        61\n",
      "weighted avg       0.85      0.85      0.85        61\n",
      "\n",
      "For input:  [58.0, 0.0, 0.0, 100.0, 248.0, 0.0, 0.0, 122.0, 0.0, 1.0, 1.0, 0.0, 2.0]\n",
      "Predicted:  [1]\n",
      "Prediction Time:  5.057811737060547\n"
     ]
    }
   ],
   "source": [
    "stime = time.time()\n",
    "\n",
    "m3 = 'Random Forest Classfier'\n",
    "rf = RandomForestClassifier(n_estimators=20, random_state=2,max_depth=5)\n",
    "rf.fit(X_train,y_train)\n",
    "rf_predicted = rf.predict(X_test)\n",
    "\n",
    "etime = time.time()\n",
    "print(\"Training Time: \", (etime-stime)*1000)\n",
    "print()\n",
    "\n",
    "rf_conf_matrix = confusion_matrix(y_test, rf_predicted)\n",
    "rf_acc_score = accuracy_score(y_test, rf_predicted)\n",
    "print(\"confussion matrix\")\n",
    "print(rf_conf_matrix)\n",
    "print(\"\\n\")\n",
    "print(\"Accuracy of Random Forest:\",rf_acc_score*100,'\\n')\n",
    "print(classification_report(y_test,rf_predicted))\n",
    "\n",
    "values= [58.0, 0.0, 0.0, 100.0, 248.0, 0.0, 0.0, 122.0, 0.0, 1.0, 1.0, 0.0, 2.0]\n",
    "indexes=['age', 'sex', 'cp', 'trestbps', 'chol', 'fbs', 'restecg', 'thalach', 'exang', 'oldpeak', 'slope', 'ca', 'thal'] \n",
    "\n",
    "stime = time.time()\n",
    "input_series=pd.Series(values, index=indexes)\n",
    "input_series = scaler.transform(input_series.values.reshape(1,-1))\n",
    "print(\"For input: \", values)\n",
    "print(\"Predicted: \", rf.predict(input_series))\n",
    "etime = time.time()\n",
    "print(\"Prediction Time: \", (etime-stime)*1000)"
   ]
  },
  {
   "cell_type": "markdown",
   "metadata": {
    "papermill": {
     "duration": 0.053233,
     "end_time": "2022-03-26T06:40:36.578610",
     "exception": false,
     "start_time": "2022-03-26T06:40:36.525377",
     "status": "completed"
    },
    "tags": []
   },
   "source": [
    "### Code to find optimal random state value\n",
    "### Best performance at n_estimators=20"
   ]
  },
  {
   "cell_type": "code",
   "execution_count": 12,
   "metadata": {
    "execution": {
     "iopub.execute_input": "2022-03-26T06:40:36.693521Z",
     "iopub.status.busy": "2022-03-26T06:40:36.692419Z",
     "iopub.status.idle": "2022-03-26T06:40:36.696606Z",
     "shell.execute_reply": "2022-03-26T06:40:36.697083Z",
     "shell.execute_reply.started": "2022-03-26T06:39:22.119035Z"
    },
    "papermill": {
     "duration": 0.065251,
     "end_time": "2022-03-26T06:40:36.697260",
     "exception": false,
     "start_time": "2022-03-26T06:40:36.632009",
     "status": "completed"
    },
    "tags": []
   },
   "outputs": [
    {
     "data": {
      "text/plain": [
       "'#Check optimal random state\\nfrom sklearn.ensemble import RandomForestClassifier\\n\\nmax_accuracy = 0\\n\\n\\nfor x in range(2000):\\n    rf = RandomForestClassifier(random_state=x)\\n    rf.fit(X_train,y_train)\\n    Y_pred_rf = rf.predict(X_test)\\n    current_accuracy = round(accuracy_score(Y_pred_rf,y_test)*100,2)\\n    if(current_accuracy>max_accuracy):\\n        max_accuracy = current_accuracy\\n        best_x = x\\n        \\nprint(max_accuracy)\\nprint(best_x)\\n\\nrf = RandomForestClassifier(random_state=best_x)\\nrf.fit(X_train,y_train)\\nY_pred_rf = rf.predict(X_test)\\nY_pred_rf.shape\\n\\nscore_rf = round(accuracy_score(Y_pred_rf,y_test)*100,2)\\n\\nprint(\"The accuracy score achieved using Decision Tree is: \"+str(score_rf)+\" %\")'"
      ]
     },
     "execution_count": 12,
     "metadata": {},
     "output_type": "execute_result"
    }
   ],
   "source": [
    "\"\"\"#Check optimal random state\n",
    "from sklearn.ensemble import RandomForestClassifier\n",
    "\n",
    "max_accuracy = 0\n",
    "\n",
    "\n",
    "for x in range(2000):\n",
    "    rf = RandomForestClassifier(random_state=x)\n",
    "    rf.fit(X_train,y_train)\n",
    "    Y_pred_rf = rf.predict(X_test)\n",
    "    current_accuracy = round(accuracy_score(Y_pred_rf,y_test)*100,2)\n",
    "    if(current_accuracy>max_accuracy):\n",
    "        max_accuracy = current_accuracy\n",
    "        best_x = x\n",
    "        \n",
    "print(max_accuracy)\n",
    "print(best_x)\n",
    "\n",
    "rf = RandomForestClassifier(random_state=best_x)\n",
    "rf.fit(X_train,y_train)\n",
    "Y_pred_rf = rf.predict(X_test)\n",
    "Y_pred_rf.shape\n",
    "\n",
    "score_rf = round(accuracy_score(Y_pred_rf,y_test)*100,2)\n",
    "\n",
    "print(\"The accuracy score achieved using Decision Tree is: \"+str(score_rf)+\" %\")\"\"\""
   ]
  },
  {
   "cell_type": "markdown",
   "metadata": {
    "papermill": {
     "duration": 0.053308,
     "end_time": "2022-03-26T06:40:36.804630",
     "exception": false,
     "start_time": "2022-03-26T06:40:36.751322",
     "status": "completed"
    },
    "tags": []
   },
   "source": [
    "### **IV) EXTREME GRADIENT BOOST**"
   ]
  },
  {
   "cell_type": "code",
   "execution_count": 13,
   "metadata": {
    "execution": {
     "iopub.execute_input": "2022-03-26T06:40:36.928720Z",
     "iopub.status.busy": "2022-03-26T06:40:36.927876Z",
     "iopub.status.idle": "2022-03-26T06:40:36.973735Z",
     "shell.execute_reply": "2022-03-26T06:40:36.975036Z",
     "shell.execute_reply.started": "2022-03-26T06:39:22.128127Z"
    },
    "papermill": {
     "duration": 0.117017,
     "end_time": "2022-03-26T06:40:36.975378",
     "exception": false,
     "start_time": "2022-03-26T06:40:36.858361",
     "status": "completed"
    },
    "tags": []
   },
   "outputs": [
    {
     "name": "stdout",
     "output_type": "stream",
     "text": [
      "Training Time:  29.536962509155273\n",
      "\n",
      "confussion matrix\n",
      "[[24  3]\n",
      " [ 3 31]]\n",
      "\n",
      "\n",
      "Accuracy of Extreme Gradient Boost: 90.1639344262295 \n",
      "\n",
      "              precision    recall  f1-score   support\n",
      "\n",
      "           0       0.89      0.89      0.89        27\n",
      "           1       0.91      0.91      0.91        34\n",
      "\n",
      "    accuracy                           0.90        61\n",
      "   macro avg       0.90      0.90      0.90        61\n",
      "weighted avg       0.90      0.90      0.90        61\n",
      "\n",
      "For input:  [58.0, 0.0, 0.0, 100.0, 248.0, 0.0, 0.0, 122.0, 0.0, 1.0, 1.0, 0.0, 2.0]\n",
      "Predicted:  [1]\n",
      "Prediction Time:  2.5315284729003906\n"
     ]
    }
   ],
   "source": [
    "stime = time.time()\n",
    "\n",
    "m4 = 'Extreme Gradient Boost'\n",
    "xgb = XGBClassifier(learning_rate=0.01, n_estimators=25, max_depth=15,gamma=0.6, subsample=0.52,colsample_bytree=0.6,seed=27, \n",
    "                    reg_lambda=2, booster='dart', colsample_bylevel=0.6, colsample_bynode=0.5)\n",
    "xgb.fit(X_train, y_train)\n",
    "xgb_predicted = xgb.predict(X_test)\n",
    "\n",
    "etime = time.time()\n",
    "print(\"Training Time: \", (etime-stime)*1000)\n",
    "print()\n",
    "\n",
    "xgb_conf_matrix = confusion_matrix(y_test, xgb_predicted)\n",
    "xgb_acc_score = accuracy_score(y_test, xgb_predicted)\n",
    "print(\"confussion matrix\")\n",
    "print(xgb_conf_matrix)\n",
    "print(\"\\n\")\n",
    "print(\"Accuracy of Extreme Gradient Boost:\",xgb_acc_score*100,'\\n')\n",
    "print(classification_report(y_test,xgb_predicted))\n",
    "\n",
    "values= [58.0, 0.0, 0.0, 100.0, 248.0, 0.0, 0.0, 122.0, 0.0, 1.0, 1.0, 0.0, 2.0]\n",
    "indexes=['age', 'sex', 'cp', 'trestbps', 'chol', 'fbs', 'restecg', 'thalach', 'exang', 'oldpeak', 'slope', 'ca', 'thal'] \n",
    "\n",
    "stime = time.time()\n",
    "input_series=pd.Series(values, index=indexes)\n",
    "input_series = scaler.transform(input_series.values.reshape(1,-1))\n",
    "print(\"For input: \", values)\n",
    "print(\"Predicted: \", xgb.predict(input_series))\n",
    "etime = time.time()\n",
    "print(\"Prediction Time: \", (etime-stime)*1000)"
   ]
  },
  {
   "cell_type": "markdown",
   "metadata": {
    "papermill": {
     "duration": 0.070636,
     "end_time": "2022-03-26T06:40:37.117821",
     "exception": false,
     "start_time": "2022-03-26T06:40:37.047185",
     "status": "completed"
    },
    "tags": []
   },
   "source": [
    "### **V) K NEAREST NEIGHBOR**"
   ]
  },
  {
   "cell_type": "code",
   "execution_count": 14,
   "metadata": {
    "execution": {
     "iopub.execute_input": "2022-03-26T06:40:37.251384Z",
     "iopub.status.busy": "2022-03-26T06:40:37.250609Z",
     "iopub.status.idle": "2022-03-26T06:40:37.279654Z",
     "shell.execute_reply": "2022-03-26T06:40:37.278548Z",
     "shell.execute_reply.started": "2022-03-26T06:39:22.177268Z"
    },
    "papermill": {
     "duration": 0.097296,
     "end_time": "2022-03-26T06:40:37.279839",
     "exception": false,
     "start_time": "2022-03-26T06:40:37.182543",
     "status": "completed"
    },
    "tags": []
   },
   "outputs": [
    {
     "name": "stdout",
     "output_type": "stream",
     "text": [
      "Training Time:  8.201122283935547\n",
      "\n",
      "confussion matrix\n",
      "[[24  3]\n",
      " [ 4 30]]\n",
      "\n",
      "\n",
      "Accuracy of K-NeighborsClassifier: 88.52459016393442 \n",
      "\n",
      "              precision    recall  f1-score   support\n",
      "\n",
      "           0       0.86      0.89      0.87        27\n",
      "           1       0.91      0.88      0.90        34\n",
      "\n",
      "    accuracy                           0.89        61\n",
      "   macro avg       0.88      0.89      0.88        61\n",
      "weighted avg       0.89      0.89      0.89        61\n",
      "\n",
      "For input:  [58.0, 0.0, 0.0, 100.0, 248.0, 0.0, 0.0, 122.0, 0.0, 1.0, 1.0, 0.0, 2.0]\n",
      "Predicted:  [1]\n",
      "Prediction Time:  4.393815994262695\n"
     ]
    }
   ],
   "source": [
    "stime = time.time()\n",
    "\n",
    "m5 = 'K-NeighborsClassifier'\n",
    "knn = KNeighborsClassifier(n_neighbors=10)\n",
    "knn.fit(X_train, y_train)\n",
    "knn_predicted = knn.predict(X_test)\n",
    "\n",
    "etime = time.time()\n",
    "print(\"Training Time: \", (etime-stime)*1000)\n",
    "print()\n",
    "\n",
    "knn_conf_matrix = confusion_matrix(y_test, knn_predicted)\n",
    "knn_acc_score = accuracy_score(y_test, knn_predicted)\n",
    "print(\"confussion matrix\")\n",
    "print(knn_conf_matrix)\n",
    "print(\"\\n\")\n",
    "print(\"Accuracy of K-NeighborsClassifier:\",knn_acc_score*100,'\\n')\n",
    "print(classification_report(y_test,knn_predicted))\n",
    "\n",
    "values= [58.0, 0.0, 0.0, 100.0, 248.0, 0.0, 0.0, 122.0, 0.0, 1.0, 1.0, 0.0, 2.0]\n",
    "indexes=['age', 'sex', 'cp', 'trestbps', 'chol', 'fbs', 'restecg', 'thalach', 'exang', 'oldpeak', 'slope', 'ca', 'thal'] \n",
    "\n",
    "stime = time.time()\n",
    "input_series=pd.Series(values, index=indexes)\n",
    "input_series = scaler.transform(input_series.values.reshape(1,-1))\n",
    "print(\"For input: \", values)\n",
    "print(\"Predicted: \", knn.predict(input_series))\n",
    "etime = time.time()\n",
    "print(\"Prediction Time: \", (etime-stime)*1000)"
   ]
  },
  {
   "cell_type": "markdown",
   "metadata": {
    "papermill": {
     "duration": 0.06202,
     "end_time": "2022-03-26T06:40:37.413165",
     "exception": false,
     "start_time": "2022-03-26T06:40:37.351145",
     "status": "completed"
    },
    "tags": []
   },
   "source": [
    "### **VI) DECISION TREE**"
   ]
  },
  {
   "cell_type": "code",
   "execution_count": 15,
   "metadata": {
    "execution": {
     "iopub.execute_input": "2022-03-26T06:40:37.533415Z",
     "iopub.status.busy": "2022-03-26T06:40:37.532288Z",
     "iopub.status.idle": "2022-03-26T06:40:37.561327Z",
     "shell.execute_reply": "2022-03-26T06:40:37.561878Z",
     "shell.execute_reply.started": "2022-03-26T06:39:22.217537Z"
    },
    "papermill": {
     "duration": 0.089281,
     "end_time": "2022-03-26T06:40:37.562042",
     "exception": false,
     "start_time": "2022-03-26T06:40:37.472761",
     "status": "completed"
    },
    "tags": []
   },
   "outputs": [
    {
     "name": "stdout",
     "output_type": "stream",
     "text": [
      "Training Time:  2.771139144897461\n",
      "\n",
      "confussion matrix\n",
      "[[23  4]\n",
      " [ 7 27]]\n",
      "\n",
      "\n",
      "Accuracy of DecisionTreeClassifier: 81.9672131147541 \n",
      "\n",
      "              precision    recall  f1-score   support\n",
      "\n",
      "           0       0.77      0.85      0.81        27\n",
      "           1       0.87      0.79      0.83        34\n",
      "\n",
      "    accuracy                           0.82        61\n",
      "   macro avg       0.82      0.82      0.82        61\n",
      "weighted avg       0.82      0.82      0.82        61\n",
      "\n",
      "For input:  [58.0, 0.0, 0.0, 100.0, 248.0, 0.0, 0.0, 122.0, 0.0, 1.0, 1.0, 0.0, 2.0]\n",
      "Predicted:  [1]\n",
      "Prediction Time:  2.2957324981689453\n"
     ]
    }
   ],
   "source": [
    "stime = time.time()\n",
    "\n",
    "m6 = 'DecisionTreeClassifier'\n",
    "dt = DecisionTreeClassifier(criterion = 'entropy',random_state=0,max_depth = 6)\n",
    "dt.fit(X_train, y_train)\n",
    "dt_predicted = dt.predict(X_test)\n",
    "\n",
    "etime = time.time()\n",
    "print(\"Training Time: \", (etime-stime)*1000)\n",
    "print()\n",
    "\n",
    "dt_conf_matrix = confusion_matrix(y_test, dt_predicted)\n",
    "dt_acc_score = accuracy_score(y_test, dt_predicted)\n",
    "print(\"confussion matrix\")\n",
    "print(dt_conf_matrix)\n",
    "print(\"\\n\")\n",
    "print(\"Accuracy of DecisionTreeClassifier:\",dt_acc_score*100,'\\n')\n",
    "print(classification_report(y_test,dt_predicted))\n",
    "\n",
    "values= [58.0, 0.0, 0.0, 100.0, 248.0, 0.0, 0.0, 122.0, 0.0, 1.0, 1.0, 0.0, 2.0]\n",
    "indexes=['age', 'sex', 'cp', 'trestbps', 'chol', 'fbs', 'restecg', 'thalach', 'exang', 'oldpeak', 'slope', 'ca', 'thal'] \n",
    "\n",
    "stime = time.time()\n",
    "input_series=pd.Series(values, index=indexes)\n",
    "input_series = scaler.transform(input_series.values.reshape(1,-1))\n",
    "print(\"For input: \", values)\n",
    "print(\"Predicted: \", dt.predict(input_series))\n",
    "etime = time.time()\n",
    "print(\"Prediction Time: \", (etime-stime)*1000)"
   ]
  },
  {
   "cell_type": "markdown",
   "metadata": {
    "papermill": {
     "duration": 0.064882,
     "end_time": "2022-03-26T06:40:37.696583",
     "exception": false,
     "start_time": "2022-03-26T06:40:37.631701",
     "status": "completed"
    },
    "tags": []
   },
   "source": [
    "### **VII) SUPPORT VECTOR MACHINE**"
   ]
  },
  {
   "cell_type": "code",
   "execution_count": 16,
   "metadata": {
    "execution": {
     "iopub.execute_input": "2022-03-26T06:40:37.812118Z",
     "iopub.status.busy": "2022-03-26T06:40:37.811440Z",
     "iopub.status.idle": "2022-03-26T06:40:37.848714Z",
     "shell.execute_reply": "2022-03-26T06:40:37.847709Z",
     "shell.execute_reply.started": "2022-03-26T06:39:22.254298Z"
    },
    "papermill": {
     "duration": 0.096694,
     "end_time": "2022-03-26T06:40:37.848894",
     "exception": false,
     "start_time": "2022-03-26T06:40:37.752200",
     "status": "completed"
    },
    "tags": []
   },
   "outputs": [
    {
     "name": "stdout",
     "output_type": "stream",
     "text": [
      "Training Time:  4.766702651977539\n",
      "\n",
      "confussion matrix\n",
      "[[23  4]\n",
      " [ 3 31]]\n",
      "\n",
      "\n",
      "Accuracy of Support Vector Classifier: 88.52459016393442 \n",
      "\n",
      "              precision    recall  f1-score   support\n",
      "\n",
      "           0       0.88      0.85      0.87        27\n",
      "           1       0.89      0.91      0.90        34\n",
      "\n",
      "    accuracy                           0.89        61\n",
      "   macro avg       0.89      0.88      0.88        61\n",
      "weighted avg       0.89      0.89      0.88        61\n",
      "\n",
      "For input:  [58.0, 0.0, 0.0, 100.0, 248.0, 0.0, 0.0, 122.0, 0.0, 1.0, 1.0, 0.0, 2.0]\n",
      "Predicted:  [1]\n",
      "Prediction Time:  1.70135498046875\n"
     ]
    }
   ],
   "source": [
    "stime = time.time()\n",
    "\n",
    "m7 = 'Support Vector Classifier'\n",
    "svc =  SVC(kernel='rbf', C=2)\n",
    "svc.fit(X_train, y_train)\n",
    "svc_predicted = svc.predict(X_test)\n",
    "\n",
    "etime = time.time()\n",
    "print(\"Training Time: \", (etime-stime)*1000)\n",
    "print()\n",
    "\n",
    "svc_conf_matrix = confusion_matrix(y_test, svc_predicted)\n",
    "svc_acc_score = accuracy_score(y_test, svc_predicted)\n",
    "print(\"confussion matrix\")\n",
    "print(svc_conf_matrix)\n",
    "print(\"\\n\")\n",
    "print(\"Accuracy of Support Vector Classifier:\",svc_acc_score*100,'\\n')\n",
    "print(classification_report(y_test,svc_predicted))\n",
    "\n",
    "values= [58.0, 0.0, 0.0, 100.0, 248.0, 0.0, 0.0, 122.0, 0.0, 1.0, 1.0, 0.0, 2.0]\n",
    "indexes=['age', 'sex', 'cp', 'trestbps', 'chol', 'fbs', 'restecg', 'thalach', 'exang', 'oldpeak', 'slope', 'ca', 'thal'] \n",
    "\n",
    "stime = time.time()\n",
    "input_series=pd.Series(values, index=indexes)\n",
    "input_series = scaler.transform(input_series.values.reshape(1,-1))\n",
    "print(\"For input: \", values)\n",
    "print(\"Predicted: \", svc.predict(input_series))\n",
    "etime = time.time()\n",
    "print(\"Prediction Time: \", (etime-stime)*1000)"
   ]
  },
  {
   "cell_type": "markdown",
   "metadata": {
    "papermill": {
     "duration": 0.05495,
     "end_time": "2022-03-26T06:40:37.967683",
     "exception": false,
     "start_time": "2022-03-26T06:40:37.912733",
     "status": "completed"
    },
    "tags": []
   },
   "source": [
    "---\n",
    "## 4) **Model Evaluation**"
   ]
  },
  {
   "cell_type": "markdown",
   "metadata": {
    "papermill": {
     "duration": 0.057058,
     "end_time": "2022-03-26T06:40:38.628486",
     "exception": false,
     "start_time": "2022-03-26T06:40:38.571428",
     "status": "completed"
    },
    "tags": []
   },
   "source": [
    "### **ROC**"
   ]
  },
  {
   "cell_type": "code",
   "execution_count": 18,
   "metadata": {
    "execution": {
     "iopub.execute_input": "2022-03-26T06:40:38.745203Z",
     "iopub.status.busy": "2022-03-26T06:40:38.744197Z",
     "iopub.status.idle": "2022-03-26T06:40:39.124538Z",
     "shell.execute_reply": "2022-03-26T06:40:39.125127Z",
     "shell.execute_reply.started": "2022-03-26T06:39:22.653058Z"
    },
    "papermill": {
     "duration": 0.4403,
     "end_time": "2022-03-26T06:40:39.125302",
     "exception": false,
     "start_time": "2022-03-26T06:40:38.685002",
     "status": "completed"
    },
    "tags": []
   },
   "outputs": [
    {
     "data": {
      "image/png": "[encoded data removed]",
      "text/plain": [
       "<Figure size 720x360 with 1 Axes>"
      ]
     },
     "metadata": {},
     "output_type": "display_data"
    }
   ],
   "source": [
    "lr_false_positive_rate,lr_true_positive_rate,lr_threshold = roc_curve(y_test,lr_predict)\n",
    "nb_false_positive_rate,nb_true_positive_rate,nb_threshold = roc_curve(y_test,nbpred)\n",
    "rf_false_positive_rate,rf_true_positive_rate,rf_threshold = roc_curve(y_test,rf_predicted)                                                             \n",
    "xgb_false_positive_rate,xgb_true_positive_rate,xgb_threshold = roc_curve(y_test,xgb_predicted)\n",
    "knn_false_positive_rate,knn_true_positive_rate,knn_threshold = roc_curve(y_test,knn_predicted)\n",
    "dt_false_positive_rate,dt_true_positive_rate,dt_threshold = roc_curve(y_test,dt_predicted)\n",
    "svc_false_positive_rate,svc_true_positive_rate,svc_threshold = roc_curve(y_test,svc_predicted)\n",
    "\n",
    "\n",
    "sns.set_style('whitegrid')\n",
    "plt.figure(figsize=(10,5))\n",
    "plt.title('Reciver Operating Characterstic Curve')\n",
    "plt.plot(lr_false_positive_rate,lr_true_positive_rate,label='Logistic Regression')\n",
    "plt.plot(nb_false_positive_rate,nb_true_positive_rate,label='Naive Bayes')\n",
    "plt.plot(rf_false_positive_rate,rf_true_positive_rate,label='Random Forest')\n",
    "plt.plot(xgb_false_positive_rate,xgb_true_positive_rate,label='Extreme Gradient Boost')\n",
    "plt.plot(knn_false_positive_rate,knn_true_positive_rate,label='K-Nearest Neighbor')\n",
    "plt.plot(dt_false_positive_rate,dt_true_positive_rate,label='Desion Tree')\n",
    "plt.plot(svc_false_positive_rate,svc_true_positive_rate,label='Support Vector Classifier')\n",
    "plt.plot([0,1],ls='--')\n",
    "plt.plot([0,0],[1,0],c='.5')\n",
    "plt.plot([1,1],c='.5')\n",
    "plt.ylabel('True positive rate')\n",
    "plt.xlabel('False positive rate')\n",
    "plt.legend()\n",
    "plt.show()"
   ]
  },
  {
   "cell_type": "markdown",
   "metadata": {
    "papermill": {
     "duration": 0.058385,
     "end_time": "2022-03-26T06:40:39.291921",
     "exception": false,
     "start_time": "2022-03-26T06:40:39.233536",
     "status": "completed"
    },
    "tags": []
   },
   "source": [
    "### **Accuracy**"
   ]
  },
  {
   "cell_type": "code",
   "execution_count": 19,
   "metadata": {
    "execution": {
     "iopub.execute_input": "2022-03-26T06:40:39.413469Z",
     "iopub.status.busy": "2022-03-26T06:40:39.412447Z",
     "iopub.status.idle": "2022-03-26T06:40:39.425783Z",
     "shell.execute_reply": "2022-03-26T06:40:39.426353Z",
     "shell.execute_reply.started": "2022-03-26T06:39:23.015646Z"
    },
    "papermill": {
     "duration": 0.07555,
     "end_time": "2022-03-26T06:40:39.426503",
     "exception": false,
     "start_time": "2022-03-26T06:40:39.350953",
     "status": "completed"
    },
    "tags": []
   },
   "outputs": [
    {
     "data": {
      "text/html": [
       "<div>\n",
       "<style scoped>\n",
       "    .dataframe tbody tr th:only-of-type {\n",
       "        vertical-align: middle;\n",
       "    }\n",
       "\n",
       "    .dataframe tbody tr th {\n",
       "        vertical-align: top;\n",
       "    }\n",
       "\n",
       "    .dataframe thead th {\n",
       "        text-align: right;\n",
       "    }\n",
       "</style>\n",
       "<table border=\"1\" class=\"dataframe\">\n",
       "  <thead>\n",
       "    <tr style=\"text-align: right;\">\n",
       "      <th></th>\n",
       "      <th>Model</th>\n",
       "      <th>Accuracy</th>\n",
       "    </tr>\n",
       "  </thead>\n",
       "  <tbody>\n",
       "    <tr>\n",
       "      <th>0</th>\n",
       "      <td>Logistic Regression</td>\n",
       "      <td>85.245902</td>\n",
       "    </tr>\n",
       "    <tr>\n",
       "      <th>1</th>\n",
       "      <td>Naive Bayes</td>\n",
       "      <td>85.245902</td>\n",
       "    </tr>\n",
       "    <tr>\n",
       "      <th>2</th>\n",
       "      <td>Random Forest</td>\n",
       "      <td>85.245902</td>\n",
       "    </tr>\n",
       "    <tr>\n",
       "      <th>3</th>\n",
       "      <td>Extreme Gradient Boost</td>\n",
       "      <td>90.163934</td>\n",
       "    </tr>\n",
       "    <tr>\n",
       "      <th>4</th>\n",
       "      <td>K-Nearest Neighbour</td>\n",
       "      <td>88.524590</td>\n",
       "    </tr>\n",
       "    <tr>\n",
       "      <th>5</th>\n",
       "      <td>Decision Tree</td>\n",
       "      <td>81.967213</td>\n",
       "    </tr>\n",
       "    <tr>\n",
       "      <th>6</th>\n",
       "      <td>Support Vector Machine</td>\n",
       "      <td>88.524590</td>\n",
       "    </tr>\n",
       "  </tbody>\n",
       "</table>\n",
       "</div>"
      ],
      "text/plain": [
       "                    Model   Accuracy\n",
       "0     Logistic Regression  85.245902\n",
       "1             Naive Bayes  85.245902\n",
       "2           Random Forest  85.245902\n",
       "3  Extreme Gradient Boost  90.163934\n",
       "4     K-Nearest Neighbour  88.524590\n",
       "5           Decision Tree  81.967213\n",
       "6  Support Vector Machine  88.524590"
      ]
     },
     "execution_count": 19,
     "metadata": {},
     "output_type": "execute_result"
    }
   ],
   "source": [
    "model_ev = pd.DataFrame({'Model': ['Logistic Regression','Naive Bayes','Random Forest','Extreme Gradient Boost',\n",
    "                    'K-Nearest Neighbour','Decision Tree','Support Vector Machine'], 'Accuracy': [lr_acc_score*100,\n",
    "                    nb_acc_score*100,rf_acc_score*100,xgb_acc_score*100,knn_acc_score*100,dt_acc_score*100,svc_acc_score*100]})\n",
    "model_ev"
   ]
  },
  {
   "cell_type": "code",
   "execution_count": 20,
   "metadata": {
    "execution": {
     "iopub.execute_input": "2022-03-26T06:40:39.548303Z",
     "iopub.status.busy": "2022-03-26T06:40:39.547607Z",
     "iopub.status.idle": "2022-03-26T06:40:39.740932Z",
     "shell.execute_reply": "2022-03-26T06:40:39.741471Z",
     "shell.execute_reply.started": "2022-03-26T06:39:23.033605Z"
    },
    "papermill": {
     "duration": 0.256044,
     "end_time": "2022-03-26T06:40:39.741632",
     "exception": false,
     "start_time": "2022-03-26T06:40:39.485588",
     "status": "completed"
    },
    "tags": []
   },
   "outputs": [
    {
     "data": {
      "image/png": "[encoded data removed]",
      "text/plain": [
       "<Figure size 864x360 with 1 Axes>"
      ]
     },
     "metadata": {},
     "output_type": "display_data"
    }
   ],
   "source": [
    "colors = ['darksalmon','lightgreen','lightblue','palevioletred','pink','plum','gold',]\n",
    "plt.figure(figsize=(12,5))\n",
    "plt.title(\"barplot Represent Accuracy of different models\")\n",
    "plt.xlabel(\"Accuracy %\")\n",
    "plt.ylabel(\"Algorithms\")\n",
    "plt.bar(model_ev['Model'],model_ev['Accuracy'],color = colors)\n",
    "plt.show()"
   ]
  },
  {
   "cell_type": "markdown",
   "metadata": {
    "papermill": {
     "duration": 0.059799,
     "end_time": "2022-03-26T06:40:39.862147",
     "exception": false,
     "start_time": "2022-03-26T06:40:39.802348",
     "status": "completed"
    },
    "tags": []
   },
   "source": [
    "---\n",
    "## **5) Optimised Ensemble Model**\n"
   ]
  },
  {
   "cell_type": "markdown",
   "metadata": {
    "papermill": {
     "duration": 0.061758,
     "end_time": "2022-03-26T06:40:39.983850",
     "exception": false,
     "start_time": "2022-03-26T06:40:39.922092",
     "status": "completed"
    },
    "tags": []
   },
   "source": [
    "### **Stacking** \n",
    "\n",
    "> #### The best performing models, XGB, KNN and SVM are used"
   ]
  },
  {
   "cell_type": "code",
   "execution_count": 21,
   "metadata": {
    "execution": {
     "iopub.execute_input": "2022-03-26T06:40:40.113132Z",
     "iopub.status.busy": "2022-03-26T06:40:40.108271Z",
     "iopub.status.idle": "2022-03-26T06:40:40.211909Z",
     "shell.execute_reply": "2022-03-26T06:40:40.213241Z",
     "shell.execute_reply.started": "2022-03-26T06:39:23.236921Z"
    },
    "papermill": {
     "duration": 0.167914,
     "end_time": "2022-03-26T06:40:40.213553",
     "exception": false,
     "start_time": "2022-03-26T06:40:40.045639",
     "status": "completed"
    },
    "tags": []
   },
   "outputs": [
    {
     "name": "stdout",
     "output_type": "stream",
     "text": [
      "confussion matrix\n",
      "[[24  3]\n",
      " [ 2 32]]\n",
      "\n",
      "\n",
      "Accuracy of StackingCVClassifier: 91.80327868852459 \n",
      "\n",
      "              precision    recall  f1-score   support\n",
      "\n",
      "           0       0.92      0.89      0.91        27\n",
      "           1       0.91      0.94      0.93        34\n",
      "\n",
      "    accuracy                           0.92        61\n",
      "   macro avg       0.92      0.92      0.92        61\n",
      "weighted avg       0.92      0.92      0.92        61\n",
      "\n"
     ]
    }
   ],
   "source": [
    "scv=StackingCVClassifier(classifiers=[xgb,knn,svc],meta_classifier= svc,random_state=42)\n",
    "scv.fit(X_train,y_train)\n",
    "scv_predicted = scv.predict(X_test)\n",
    "scv_conf_matrix = confusion_matrix(y_test, scv_predicted)\n",
    "scv_acc_score = accuracy_score(y_test, scv_predicted)\n",
    "print(\"confussion matrix\")\n",
    "print(scv_conf_matrix)\n",
    "print(\"\\n\")\n",
    "print(\"Accuracy of StackingCVClassifier:\",scv_acc_score*100,'\\n')\n",
    "print(classification_report(y_test,scv_predicted))"
   ]
  },
  {
   "cell_type": "markdown",
   "metadata": {
    "papermill": {
     "duration": 0.078242,
     "end_time": "2022-03-26T06:40:40.370717",
     "exception": false,
     "start_time": "2022-03-26T06:40:40.292475",
     "status": "completed"
    },
    "tags": []
   },
   "source": [
    "### **Voting**\n",
    "> #### XGB is selected because it has best accuracy\n",
    "> #### KNN and SVM have second best accuracy. KNN is selected over SVM because KNN and XGB are both non-linear.\n",
    "> #### Plurality Voting is implemented."
   ]
  },
  {
   "cell_type": "code",
   "execution_count": 22,
   "metadata": {
    "execution": {
     "iopub.execute_input": "2022-03-26T06:40:40.521344Z",
     "iopub.status.busy": "2022-03-26T06:40:40.505796Z",
     "iopub.status.idle": "2022-03-26T06:40:40.649953Z",
     "shell.execute_reply": "2022-03-26T06:40:40.650868Z",
     "shell.execute_reply.started": "2022-03-26T06:39:23.339278Z"
    },
    "papermill": {
     "duration": 0.215505,
     "end_time": "2022-03-26T06:40:40.651072",
     "exception": false,
     "start_time": "2022-03-26T06:40:40.435567",
     "status": "completed"
    },
    "tags": []
   },
   "outputs": [
    {
     "name": "stdout",
     "output_type": "stream",
     "text": [
      "Time:  104.52389717102051\n",
      "confussion matrix\n",
      "[[26  1]\n",
      " [ 3 31]]\n",
      "\n",
      "\n",
      "Accuracy of Voting Classifier: 93.44262295081968 \n",
      "\n",
      "              precision    recall  f1-score   support\n",
      "\n",
      "           0       0.90      0.96      0.93        27\n",
      "           1       0.97      0.91      0.94        34\n",
      "\n",
      "    accuracy                           0.93        61\n",
      "   macro avg       0.93      0.94      0.93        61\n",
      "weighted avg       0.94      0.93      0.93        61\n",
      "\n",
      "Predicted:  [1]\n",
      "OE Time:  7.796525955200195\n"
     ]
    }
   ],
   "source": [
    "stime = time.time()\n",
    "\n",
    "#Defining Hybrid Ensemble Learning Model\n",
    "# create the sub-models\n",
    "estimators = []\n",
    "\n",
    "#Defining 5 K-NN classifiers\n",
    "model1 = KNeighborsClassifier(n_neighbors = 10, metric = 'minkowski', p = 2)\n",
    "estimators.append(('knn1', model1))\n",
    "model2 = KNeighborsClassifier(n_neighbors = 9, metric = 'minkowski', p = 2)\n",
    "estimators.append(('knn2', model2))\n",
    "model3 = KNeighborsClassifier(n_neighbors = 8, metric = 'minkowski', p = 2)\n",
    "estimators.append(('knn3', model3))\n",
    "model4 = KNeighborsClassifier(n_neighbors = 10, metric = 'minkowski', p = 1)\n",
    "estimators.append(('knn4', model4))\n",
    "model5 = KNeighborsClassifier(n_neighbors = 10, metric = 'minkowski', p = 1)\n",
    "estimators.append(('knn5', model5))\n",
    "\n",
    "\n",
    "#Defining XGB classifiers\n",
    "model6 = XGBClassifier(learning_rate=0.01, n_estimators=25, max_depth=15,gamma=0.6, subsample=0.52,colsample_bytree=0.6,seed=27, \n",
    "                    reg_lambda=2, booster='dart', colsample_bylevel=0.6, colsample_bynode=0.5)\n",
    "estimators.append(('xgb1', model6))\n",
    "model7 = XGBClassifier(learning_rate=0.01, n_estimators=25, max_depth=15,gamma=0.6, subsample=0.52,colsample_bytree=0.6,seed=27, \n",
    "                    reg_lambda=2, booster='dart', colsample_bylevel=0.6, colsample_bynode=0.5)\n",
    "estimators.append(('xgb2', model7))\n",
    "model8 = XGBClassifier(learning_rate=0.01, n_estimators=25, max_depth=15,gamma=0.6, subsample=0.52,colsample_bytree=0.6,seed=27, \n",
    "                    reg_lambda=2, booster='dart', colsample_bylevel=0.6, colsample_bynode=0.5)\n",
    "estimators.append(('xgb3', model8))\n",
    "model9 = XGBClassifier(learning_rate=0.01, n_estimators=25, max_depth=15,gamma=0.6, subsample=0.52,colsample_bytree=0.6,seed=27, \n",
    "                    reg_lambda=2, booster='dart', colsample_bylevel=0.6, colsample_bynode=0.5)\n",
    "estimators.append(('xgb4', model9))\n",
    "model10 = XGBClassifier(learning_rate=0.01, n_estimators=25, max_depth=15,gamma=0.6, subsample=0.52,colsample_bytree=0.6,seed=27, \n",
    "                    reg_lambda=2, booster='dart', colsample_bylevel=0.6, colsample_bynode=0.5)\n",
    "estimators.append(('xgb5', model10))\n",
    "\n",
    "# Defining the ensemble model\n",
    "from sklearn.ensemble import VotingClassifier\n",
    "\n",
    "#estimators=[['xgb', xgb_clf],['knn', knn_clf],['svm', svm_clf], ['lr', lr_clf], ['rf', rf_clf], ['tree', tree_clf], ['nb',GaussianNB()]]\n",
    "ensemble = VotingClassifier(estimators)\n",
    "ensemble.fit(X_train, y_train)\n",
    "y_pred = ensemble.predict(X_test)\n",
    "\n",
    "etime = time.time()\n",
    "print(\"Time: \", (etime-stime)*1000)\n",
    "\n",
    "#Confusion matrix\n",
    "cm_HybridEnsembler = confusion_matrix(y_test, y_pred)\n",
    "acc_score_HybridEnsembler = accuracy_score(y_test, y_pred)\n",
    "\n",
    "print(\"confussion matrix\")\n",
    "print(cm_HybridEnsembler)\n",
    "print(\"\\n\")\n",
    "\n",
    "print(\"Accuracy of Voting Classifier:\",acc_score_HybridEnsembler*100,'\\n')\n",
    "print(classification_report(y_test,y_pred))\n",
    "\n",
    "values= [58.0, 0.0, 0.0, 100.0, 248.0, 0.0, 0.0, 122.0, 0.0, 1.0, 1.0, 0.0, 2.0]\n",
    "indexes=['age', 'sex', 'cp', 'trestbps', 'chol', 'fbs', 'restecg', 'thalach', 'exang', 'oldpeak', 'slope', 'ca', 'thal'] \n",
    "\n",
    "stime = time.time()\n",
    "input_series=pd.Series(values, index=indexes)\n",
    "input_series = scaler.transform(input_series.values.reshape(1,-1))\n",
    "print(\"Predicted: \", ensemble.predict(input_series))\n",
    "etime = time.time()\n",
    "print(\"OE Time: \", (etime-stime)*1000)"
   ]
  },
  {
   "cell_type": "markdown",
   "metadata": {
    "papermill": {
     "duration": 0.079098,
     "end_time": "2022-03-26T06:40:40.810576",
     "exception": false,
     "start_time": "2022-03-26T06:40:40.731478",
     "status": "completed"
    },
    "tags": []
   },
   "source": [
    "### **Cross validation**"
   ]
  },
  {
   "cell_type": "code",
   "execution_count": 23,
   "metadata": {
    "execution": {
     "iopub.execute_input": "2022-03-26T06:40:40.946544Z",
     "iopub.status.busy": "2022-03-26T06:40:40.945415Z",
     "iopub.status.idle": "2022-03-26T06:40:40.949384Z",
     "shell.execute_reply": "2022-03-26T06:40:40.949927Z",
     "shell.execute_reply.started": "2022-03-26T06:39:23.491776Z"
    },
    "papermill": {
     "duration": 0.071869,
     "end_time": "2022-03-26T06:40:40.950078",
     "exception": false,
     "start_time": "2022-03-26T06:40:40.878209",
     "status": "completed"
    },
    "tags": []
   },
   "outputs": [
    {
     "data": {
      "text/plain": [
       "'\\n#Cross validation\\nfrom sklearn.model_selection import KFold\\nfrom sklearn.model_selection import cross_val_score\\nfrom numpy import mean\\nfrom numpy import absolute\\nfrom numpy import sqrt\\n\\ncv = KFold(n_splits=10, random_state=1, shuffle=True)\\n#use k-fold CV to evaluate model\\nscores = cross_val_score(model, X_train, y_train, scoring=\\'neg_mean_absolute_error\\',\\n                         cv=cv, n_jobs=-1)\\n\\n#Performance\\nprint(\"MAE:{}\".format(mean(absolute(scores))))\\nprint(\"RMSE:{}\".format(sqrt(mean(absolute(scores)))))\\n'"
      ]
     },
     "execution_count": 23,
     "metadata": {},
     "output_type": "execute_result"
    }
   ],
   "source": [
    "\"\"\"\n",
    "#Cross validation\n",
    "from sklearn.model_selection import KFold\n",
    "from sklearn.model_selection import cross_val_score\n",
    "from numpy import mean\n",
    "from numpy import absolute\n",
    "from numpy import sqrt\n",
    "\n",
    "cv = KFold(n_splits=10, random_state=1, shuffle=True)\n",
    "#use k-fold CV to evaluate model\n",
    "scores = cross_val_score(model, X_train, y_train, scoring='neg_mean_absolute_error',\n",
    "                         cv=cv, n_jobs=-1)\n",
    "\n",
    "#Performance\n",
    "print(\"MAE:{}\".format(mean(absolute(scores))))\n",
    "print(\"RMSE:{}\".format(sqrt(mean(absolute(scores)))))\n",
    "\"\"\""
   ]
  },
  {
   "cell_type": "markdown",
   "metadata": {
    "papermill": {
     "duration": 0.061626,
     "end_time": "2022-03-26T06:40:41.073243",
     "exception": false,
     "start_time": "2022-03-26T06:40:41.011617",
     "status": "completed"
    },
    "tags": []
   },
   "source": [
    "### **ROC**"
   ]
  },
  {
   "cell_type": "code",
   "execution_count": 24,
   "metadata": {
    "execution": {
     "iopub.execute_input": "2022-03-26T06:40:41.204461Z",
     "iopub.status.busy": "2022-03-26T06:40:41.203724Z",
     "iopub.status.idle": "2022-03-26T06:40:41.575303Z",
     "shell.execute_reply": "2022-03-26T06:40:41.575849Z",
     "shell.execute_reply.started": "2022-03-26T06:39:23.501029Z"
    },
    "papermill": {
     "duration": 0.441917,
     "end_time": "2022-03-26T06:40:41.575995",
     "exception": false,
     "start_time": "2022-03-26T06:40:41.134078",
     "status": "completed"
    },
    "tags": []
   },
   "outputs": [
    {
     "name": "stdout",
     "output_type": "stream",
     "text": [
      "AUROCC for the optimized ensemble: 0.937\n",
      "\n"
     ]
    },
    {
     "data": {
      "image/png": "[encoded data removed]",
      "text/plain": [
       "<Figure size 720x360 with 1 Axes>"
      ]
     },
     "metadata": {},
     "output_type": "display_data"
    }
   ],
   "source": [
    "lr_false_positive_rate,lr_true_positive_rate,lr_threshold = roc_curve(y_test,lr_predict)\n",
    "nb_false_positive_rate,nb_true_positive_rate,nb_threshold = roc_curve(y_test,nbpred)\n",
    "rf_false_positive_rate,rf_true_positive_rate,rf_threshold = roc_curve(y_test,rf_predicted)                                                             \n",
    "xgb_false_positive_rate,xgb_true_positive_rate,xgb_threshold = roc_curve(y_test,xgb_predicted)\n",
    "knn_false_positive_rate,knn_true_positive_rate,knn_threshold = roc_curve(y_test,knn_predicted)\n",
    "dt_false_positive_rate,dt_true_positive_rate,dt_threshold = roc_curve(y_test,dt_predicted)\n",
    "svc_false_positive_rate,svc_true_positive_rate,svc_threshold = roc_curve(y_test,svc_predicted)\n",
    "oe_false_positive_rate,oe_true_positive_rate,oe_threshold = roc_curve(y_test,y_pred)\n",
    "\n",
    "aurocValues = []\n",
    "for i in range(3):\n",
    "    lr={\n",
    "        'model': 'LR',\n",
    "        'FPRate': lr_false_positive_rate.tolist()[i],\n",
    "        'TPRate': lr_true_positive_rate.tolist()[i],\n",
    "    }\n",
    "    nb={\n",
    "        'model': 'NB',\n",
    "        'FPRate': nb_false_positive_rate.tolist()[i],\n",
    "        'TPRate': nb_true_positive_rate.tolist()[i],\n",
    "    }\n",
    "    rf={\n",
    "        'model': 'RF',\n",
    "        'FPRate': rf_false_positive_rate.tolist()[i],\n",
    "        'TPRate': rf_true_positive_rate.tolist()[i],\n",
    "    }\n",
    "    xgb={\n",
    "        'model': 'XGB',\n",
    "        'FPRate': xgb_false_positive_rate.tolist()[i],\n",
    "        'TPRate': xgb_true_positive_rate.tolist()[i],\n",
    "    }\n",
    "    knn={\n",
    "        'model': 'KNN',\n",
    "        'FPRate': knn_false_positive_rate.tolist()[i],\n",
    "        'TPRate': knn_true_positive_rate.tolist()[i],\n",
    "    }\n",
    "    dt={\n",
    "        'model': 'DT',\n",
    "        'FPRate': dt_false_positive_rate.tolist()[i],\n",
    "        'TPRate': dt_true_positive_rate.tolist()[i],\n",
    "    }\n",
    "    svm={\n",
    "        'model': 'SVM',\n",
    "        'FPRate': svc_false_positive_rate.tolist()[i],\n",
    "        'TPRate': svc_true_positive_rate.tolist()[i],\n",
    "    }\n",
    "    oe={\n",
    "        'model': 'OE',\n",
    "        'FPRate': oe_false_positive_rate.tolist()[i],\n",
    "        'TPRate': oe_true_positive_rate.tolist()[i],\n",
    "    }\n",
    "    \n",
    "    aurocValues.append(lr)\n",
    "    aurocValues.append(nb)\n",
    "    aurocValues.append(rf)\n",
    "    aurocValues.append(xgb)\n",
    "    aurocValues.append(knn)\n",
    "    aurocValues.append(dt)\n",
    "    aurocValues.append(svm)\n",
    "    aurocValues.append(oe)\n",
    "    \n",
    "#print(aurocValues)\n",
    "\n",
    "from sklearn.metrics import roc_auc_score\n",
    "auc = roc_auc_score(y_test, y_pred)\n",
    "print('AUROCC for the optimized ensemble: %.3f' % auc)\n",
    "print()\n",
    "\n",
    "sns.set_style('whitegrid')\n",
    "plt.figure(figsize=(10,5))\n",
    "plt.title('Reciver Operating Characterstic Curve')\n",
    "plt.plot(lr_false_positive_rate,lr_true_positive_rate,label='Logistic Regression')\n",
    "plt.plot(nb_false_positive_rate,nb_true_positive_rate,label='Naive Bayes')\n",
    "plt.plot(rf_false_positive_rate,rf_true_positive_rate,label='Random Forest')\n",
    "plt.plot(xgb_false_positive_rate,xgb_true_positive_rate,label='Extreme Gradient Boost')\n",
    "plt.plot(knn_false_positive_rate,knn_true_positive_rate,label='K-Nearest Neighbor')\n",
    "plt.plot(dt_false_positive_rate,dt_true_positive_rate,label='Desion Tree')\n",
    "plt.plot(svc_false_positive_rate,svc_true_positive_rate,label='Support Vector Classifier')\n",
    "plt.plot(oe_false_positive_rate,oe_true_positive_rate,label='OPTIMIZED ENSEMBLE')\n",
    "plt.plot([0,1],ls='--')\n",
    "plt.plot([0,0],[1,0],c='.5')\n",
    "plt.plot([1,1],c='.5')\n",
    "plt.ylabel('True positive rate')\n",
    "plt.xlabel('False positive rate')\n",
    "plt.legend()\n",
    "plt.show()"
   ]
  },
  {
   "cell_type": "markdown",
   "metadata": {
    "papermill": {
     "duration": 0.062795,
     "end_time": "2022-03-26T06:40:41.702152",
     "exception": false,
     "start_time": "2022-03-26T06:40:41.639357",
     "status": "completed"
    },
    "tags": []
   },
   "source": [
    "---\n",
    "## **6) Prediction**"
   ]
  },
  {
   "cell_type": "code",
   "execution_count": 25,
   "metadata": {
    "execution": {
     "iopub.execute_input": "2022-03-26T06:40:41.832790Z",
     "iopub.status.busy": "2022-03-26T06:40:41.831709Z",
     "iopub.status.idle": "2022-03-26T06:40:41.855275Z",
     "shell.execute_reply": "2022-03-26T06:40:41.854026Z",
     "shell.execute_reply.started": "2022-03-26T06:39:24.319620Z"
    },
    "papermill": {
     "duration": 0.090573,
     "end_time": "2022-03-26T06:40:41.855586",
     "exception": false,
     "start_time": "2022-03-26T06:40:41.765013",
     "status": "completed"
    },
    "tags": []
   },
   "outputs": [
    {
     "name": "stdout",
     "output_type": "stream",
     "text": [
      "Predicted:  [1]\n"
     ]
    }
   ],
   "source": [
    "values= [58.0, 0.0, 0.0, 100.0, 248.0, 0.0, 0.0, 122.0, 0.0, 1.0, 1.0, 0.0, 2.0]\n",
    "indexes=['age', 'sex', 'cp', 'trestbps', 'chol', 'fbs', 'restecg', 'thalach', 'exang', 'oldpeak', 'slope', 'ca', 'thal'] \n",
    "\n",
    "input_series=pd.Series(values, index=indexes)\n",
    "input_series = scaler.transform(input_series.values.reshape(1,-1))\n",
    "\n",
    "print(\"Predicted: \", ensemble.predict(input_series))\n"
   ]
  },
  {
   "cell_type": "markdown",
   "metadata": {
    "papermill": {
     "duration": 0.083388,
     "end_time": "2022-03-26T06:40:42.021241",
     "exception": false,
     "start_time": "2022-03-26T06:40:41.937853",
     "status": "completed"
    },
    "tags": []
   },
   "source": [
    "### **Saving Model**"
   ]
  },
  {
   "cell_type": "code",
   "execution_count": 26,
   "metadata": {
    "execution": {
     "iopub.execute_input": "2022-03-26T06:40:42.160923Z",
     "iopub.status.busy": "2022-03-26T06:40:42.160184Z",
     "iopub.status.idle": "2022-03-26T06:40:42.186076Z",
     "shell.execute_reply": "2022-03-26T06:40:42.186737Z",
     "shell.execute_reply.started": "2022-03-26T06:39:24.346482Z"
    },
    "papermill": {
     "duration": 0.095434,
     "end_time": "2022-03-26T06:40:42.186900",
     "exception": false,
     "start_time": "2022-03-26T06:40:42.091466",
     "status": "completed"
    },
    "tags": []
   },
   "outputs": [
    {
     "data": {
      "text/plain": [
       "['model.pkl']"
      ]
     },
     "execution_count": 26,
     "metadata": {},
     "output_type": "execute_result"
    }
   ],
   "source": [
    "import joblib\n",
    "joblib.dump(ensemble, 'model.pkl')"
   ]
  },
  {
   "cell_type": "markdown",
   "metadata": {
    "papermill": {
     "duration": 0.063344,
     "end_time": "2022-03-26T06:40:42.313905",
     "exception": false,
     "start_time": "2022-03-26T06:40:42.250561",
     "status": "completed"
    },
    "tags": []
   },
   "source": [
    "### **Saving Model**"
   ]
  },
  {
   "cell_type": "code",
   "execution_count": 27,
   "metadata": {
    "execution": {
     "iopub.execute_input": "2022-03-26T06:40:42.444868Z",
     "iopub.status.busy": "2022-03-26T06:40:42.444208Z",
     "iopub.status.idle": "2022-03-26T06:40:42.476512Z",
     "shell.execute_reply": "2022-03-26T06:40:42.477310Z",
     "shell.execute_reply.started": "2022-03-26T06:39:24.391888Z"
    },
    "papermill": {
     "duration": 0.09934,
     "end_time": "2022-03-26T06:40:42.477502",
     "exception": false,
     "start_time": "2022-03-26T06:40:42.378162",
     "status": "completed"
    },
    "tags": []
   },
   "outputs": [
    {
     "name": "stdout",
     "output_type": "stream",
     "text": [
      "Predicted:  [1]\n"
     ]
    }
   ],
   "source": [
    "loaded=joblib.load('./model.pkl')\n",
    "print(\"Predicted: \", loaded.predict(input_series))"
   ]
  },
  {
   "cell_type": "markdown",
   "metadata": {
    "papermill": {
     "duration": 0.083076,
     "end_time": "2022-03-26T06:40:42.643436",
     "exception": false,
     "start_time": "2022-03-26T06:40:42.560360",
     "status": "completed"
    },
    "tags": []
   },
   "source": [
    "---\n",
    "## **7. Feature Selection**"
   ]
  },
  {
   "cell_type": "markdown",
   "metadata": {
    "papermill": {
     "duration": 0.063863,
     "end_time": "2022-03-26T06:40:42.776817",
     "exception": false,
     "start_time": "2022-03-26T06:40:42.712954",
     "status": "completed"
    },
    "tags": []
   },
   "source": [
    "### **XGB Feature Selection**"
   ]
  },
  {
   "cell_type": "code",
   "execution_count": 28,
   "metadata": {
    "execution": {
     "iopub.execute_input": "2022-03-26T06:40:42.920683Z",
     "iopub.status.busy": "2022-03-26T06:40:42.919735Z",
     "iopub.status.idle": "2022-03-26T06:40:43.318176Z",
     "shell.execute_reply": "2022-03-26T06:40:43.319272Z",
     "shell.execute_reply.started": "2022-03-26T06:39:24.446069Z"
    },
    "papermill": {
     "duration": 0.478472,
     "end_time": "2022-03-26T06:40:43.319464",
     "exception": false,
     "start_time": "2022-03-26T06:40:42.840992",
     "status": "completed"
    },
    "tags": []
   },
   "outputs": [
    {
     "name": "stdout",
     "output_type": "stream",
     "text": [
      "confussion matrix\n",
      "[[24  3]\n",
      " [ 3 31]]\n",
      "\n",
      "\n",
      "Accuracy of Extreme Gradient Boost: 90.1639344262295 \n",
      "\n",
      "              precision    recall  f1-score   support\n",
      "\n",
      "           0       0.89      0.89      0.89        27\n",
      "           1       0.91      0.91      0.91        34\n",
      "\n",
      "    accuracy                           0.90        61\n",
      "   macro avg       0.90      0.90      0.90        61\n",
      "weighted avg       0.90      0.90      0.90        61\n",
      "\n",
      "Thresh=0.012, n=13, Accuracy: 90.16%\n",
      "Thresh=0.022, n=12, Accuracy: 83.61%\n",
      "Thresh=0.024, n=11, Accuracy: 85.25%\n",
      "Thresh=0.033, n=10, Accuracy: 86.89%\n",
      "Thresh=0.058, n=9, Accuracy: 85.25%\n",
      "Thresh=0.069, n=8, Accuracy: 81.97%\n",
      "Thresh=0.077, n=7, Accuracy: 83.61%\n",
      "Thresh=0.094, n=6, Accuracy: 86.89%\n",
      "Thresh=0.097, n=5, Accuracy: 83.61%\n",
      "Thresh=0.103, n=4, Accuracy: 86.89%\n",
      "Thresh=0.105, n=3, Accuracy: 78.69%\n",
      "Thresh=0.147, n=2, Accuracy: 72.13%\n",
      "Thresh=0.160, n=1, Accuracy: 72.13%\n"
     ]
    }
   ],
   "source": [
    "#XGB feature selection\n",
    "from sklearn.feature_selection import SelectFromModel\n",
    "\n",
    "model = XGBClassifier(learning_rate=0.01, n_estimators=25, max_depth=15,gamma=0.6, subsample=0.52,colsample_bytree=0.6,seed=27, \n",
    "                    reg_lambda=2, booster='dart', colsample_bylevel=0.6, colsample_bynode=0.5)\n",
    "model.fit(X_train, y_train)\n",
    "xgb_predicted = model.predict(X_test)\n",
    "xgb_conf_matrix = confusion_matrix(y_test, xgb_predicted)\n",
    "xgb_acc_score = accuracy_score(y_test, xgb_predicted)\n",
    "print(\"confussion matrix\")\n",
    "print(xgb_conf_matrix)\n",
    "print(\"\\n\")\n",
    "print(\"Accuracy of Extreme Gradient Boost:\",xgb_acc_score*100,'\\n')\n",
    "print(classification_report(y_test,xgb_predicted))\n",
    "\n",
    "thresholds = model.feature_importances_\n",
    "thresholds.sort()\n",
    "for thresh in thresholds:\n",
    "    # select features using threshold\n",
    "    selection = SelectFromModel(model, threshold=thresh, prefit=True)\n",
    "    select_X_train = selection.transform(X_train)\n",
    "    # train model\n",
    "    selection_model = XGBClassifier(learning_rate=0.01, n_estimators=25, max_depth=15,gamma=0.6, subsample=0.52,colsample_bytree=0.6,seed=27, \n",
    "                    reg_lambda=2, booster='dart', colsample_bylevel=0.6, colsample_bynode=0.5)\n",
    "    selection_model.fit(select_X_train, y_train)\n",
    "    # eval model\n",
    "    select_X_test = selection.transform(X_test)\n",
    "    y_pred = selection_model.predict(select_X_test)\n",
    "    predictions = [round(value) for value in y_pred]\n",
    "    accuracy = accuracy_score(y_test, predictions)\n",
    "    print(\"Thresh=%.3f, n=%d, Accuracy: %.2f%%\" % (thresh, select_X_train.shape[1], accuracy*100.0))"
   ]
  },
  {
   "cell_type": "markdown",
   "metadata": {
    "papermill": {
     "duration": 0.083012,
     "end_time": "2022-03-26T06:40:43.487856",
     "exception": false,
     "start_time": "2022-03-26T06:40:43.404844",
     "status": "completed"
    },
    "tags": []
   },
   "source": [
    "### **ExtraTreesClassifier Feature Selection**"
   ]
  },
  {
   "cell_type": "code",
   "execution_count": 29,
   "metadata": {
    "execution": {
     "iopub.execute_input": "2022-03-26T06:40:43.628626Z",
     "iopub.status.busy": "2022-03-26T06:40:43.627942Z",
     "iopub.status.idle": "2022-03-26T06:40:43.789004Z",
     "shell.execute_reply": "2022-03-26T06:40:43.788501Z",
     "shell.execute_reply.started": "2022-03-26T06:39:24.891574Z"
    },
    "papermill": {
     "duration": 0.231994,
     "end_time": "2022-03-26T06:40:43.789122",
     "exception": false,
     "start_time": "2022-03-26T06:40:43.557128",
     "status": "completed"
    },
    "tags": []
   },
   "outputs": [
    {
     "name": "stdout",
     "output_type": "stream",
     "text": [
      "[0.07031533 0.07190322 0.12710869 0.05865035 0.06279138 0.0184254\n",
      " 0.03144632 0.08641119 0.09219433 0.0813174  0.06237106 0.1427006\n",
      " 0.09436474]\n"
     ]
    }
   ],
   "source": [
    "#ExtraTreesClassifier Feature Selection\n",
    "from sklearn.ensemble import ExtraTreesClassifier\n",
    "\n",
    "model = ExtraTreesClassifier()\n",
    "model.fit(X_train, y_train)\n",
    "\n",
    "print(model.feature_importances_)"
   ]
  },
  {
   "cell_type": "markdown",
   "metadata": {
    "papermill": {
     "duration": 0.064939,
     "end_time": "2022-03-26T06:40:43.919134",
     "exception": false,
     "start_time": "2022-03-26T06:40:43.854195",
     "status": "completed"
    },
    "tags": []
   },
   "source": [
    "### **Chisquare Feature Selection**"
   ]
  },
  {
   "cell_type": "code",
   "execution_count": 30,
   "metadata": {
    "execution": {
     "iopub.execute_input": "2022-03-26T06:40:44.058688Z",
     "iopub.status.busy": "2022-03-26T06:40:44.057942Z",
     "iopub.status.idle": "2022-03-26T06:40:44.245080Z",
     "shell.execute_reply": "2022-03-26T06:40:44.245905Z",
     "shell.execute_reply.started": "2022-03-26T06:39:25.095381Z"
    },
    "papermill": {
     "duration": 0.261976,
     "end_time": "2022-03-26T06:40:44.246091",
     "exception": false,
     "start_time": "2022-03-26T06:40:43.984115",
     "status": "completed"
    },
    "tags": []
   },
   "outputs": [
    {
     "name": "stdout",
     "output_type": "stream",
     "text": [
      "Scores:  [ 23.2866   7.5768  62.5981  14.8239  23.9364   0.2029   2.9783 188.3205\n",
      "  38.9144  72.6443   9.8041  66.4408   5.7919]\n",
      "\n",
      "SELECTED FEATURES: \n",
      " [[  3.  233.  150.    0.    2.3   0. ]\n",
      " [  2.  250.  187.    0.    3.5   0. ]\n",
      " [  1.  204.  172.    0.    1.4   0. ]\n",
      " [  1.  236.  178.    0.    0.8   0. ]\n",
      " [  0.  354.  163.    1.    0.6   0. ]]\n",
      "\n",
      "NUMBER OF FEATURES:  6\n",
      "\n",
      "confussion matrix\n",
      "[[20  7]\n",
      " [ 5 29]]\n",
      "\n",
      "\n",
      "Accuracy of Logistic Regression: 80.32786885245902 \n",
      "\n",
      "              precision    recall  f1-score   support\n",
      "\n",
      "           0       0.80      0.74      0.77        27\n",
      "           1       0.81      0.85      0.83        34\n",
      "\n",
      "    accuracy                           0.80        61\n",
      "   macro avg       0.80      0.80      0.80        61\n",
      "weighted avg       0.80      0.80      0.80        61\n",
      "\n",
      "confussion matrix\n",
      "[[20  7]\n",
      " [ 5 29]]\n",
      "\n",
      "\n",
      "Accuracy of Naive Bayes model: 80.32786885245902 \n",
      "\n",
      "              precision    recall  f1-score   support\n",
      "\n",
      "           0       0.80      0.74      0.77        27\n",
      "           1       0.81      0.85      0.83        34\n",
      "\n",
      "    accuracy                           0.80        61\n",
      "   macro avg       0.80      0.80      0.80        61\n",
      "weighted avg       0.80      0.80      0.80        61\n",
      "\n",
      "confussion matrix\n",
      "[[19  8]\n",
      " [ 3 31]]\n",
      "\n",
      "\n",
      "Accuracy of Random Forest: 81.9672131147541 \n",
      "\n",
      "              precision    recall  f1-score   support\n",
      "\n",
      "           0       0.86      0.70      0.78        27\n",
      "           1       0.79      0.91      0.85        34\n",
      "\n",
      "    accuracy                           0.82        61\n",
      "   macro avg       0.83      0.81      0.81        61\n",
      "weighted avg       0.83      0.82      0.82        61\n",
      "\n",
      "confussion matrix\n",
      "[[21  6]\n",
      " [ 6 28]]\n",
      "\n",
      "\n",
      "Accuracy of Extreme Gradient Boost: 80.32786885245902 \n",
      "\n",
      "              precision    recall  f1-score   support\n",
      "\n",
      "           0       0.78      0.78      0.78        27\n",
      "           1       0.82      0.82      0.82        34\n",
      "\n",
      "    accuracy                           0.80        61\n",
      "   macro avg       0.80      0.80      0.80        61\n",
      "weighted avg       0.80      0.80      0.80        61\n",
      "\n",
      "confussion matrix\n",
      "[[19  8]\n",
      " [ 5 29]]\n",
      "\n",
      "\n",
      "Accuracy of K-NeighborsClassifier: 78.68852459016394 \n",
      "\n",
      "              precision    recall  f1-score   support\n",
      "\n",
      "           0       0.79      0.70      0.75        27\n",
      "           1       0.78      0.85      0.82        34\n",
      "\n",
      "    accuracy                           0.79        61\n",
      "   macro avg       0.79      0.78      0.78        61\n",
      "weighted avg       0.79      0.79      0.79        61\n",
      "\n",
      "confussion matrix\n",
      "[[18  9]\n",
      " [ 4 30]]\n",
      "\n",
      "\n",
      "Accuracy of DecisionTreeClassifier: 78.68852459016394 \n",
      "\n",
      "              precision    recall  f1-score   support\n",
      "\n",
      "           0       0.82      0.67      0.73        27\n",
      "           1       0.77      0.88      0.82        34\n",
      "\n",
      "    accuracy                           0.79        61\n",
      "   macro avg       0.79      0.77      0.78        61\n",
      "weighted avg       0.79      0.79      0.78        61\n",
      "\n",
      "confussion matrix\n",
      "[[19  8]\n",
      " [ 5 29]]\n",
      "\n",
      "\n",
      "Accuracy of Support Vector Classifier: 78.68852459016394 \n",
      "\n",
      "              precision    recall  f1-score   support\n",
      "\n",
      "           0       0.79      0.70      0.75        27\n",
      "           1       0.78      0.85      0.82        34\n",
      "\n",
      "    accuracy                           0.79        61\n",
      "   macro avg       0.79      0.78      0.78        61\n",
      "weighted avg       0.79      0.79      0.79        61\n",
      "\n"
     ]
    }
   ],
   "source": [
    "#Chisquare Feature Selection\n",
    "from numpy import set_printoptions\n",
    "from sklearn.feature_selection import SelectKBest\n",
    "from sklearn.feature_selection import f_classif, chi2\n",
    "\n",
    "data = pd.read_csv('../input/health-care-data-set-on-heart-attack-possibility/heart.csv')\n",
    "y = data[\"target\"]\n",
    "X = data.drop('target',axis=1)\n",
    "\n",
    "test = SelectKBest(score_func=chi2, k=6)\n",
    "fit = test.fit(X, y)\n",
    "\n",
    "# summarize scores\n",
    "set_printoptions(precision=4)\n",
    "print(\"Scores: \",fit.scores_)\n",
    "features = fit.transform(X)\n",
    "print()\n",
    "\n",
    "# summarize selected features\n",
    "print(\"SELECTED FEATURES: \\n\",features[0:5,])\n",
    "print()\n",
    "\n",
    "X_train, X_test, y_train, y_test = train_test_split(features, y, test_size=0.20, random_state = 0)\n",
    "scaler = StandardScaler()\n",
    "X_train = scaler.fit_transform(X_train)\n",
    "X_test = scaler.transform(X_test)\n",
    "\n",
    "print (\"NUMBER OF FEATURES: \", X_train.shape[1])\n",
    "print()\n",
    "\n",
    "##################################\n",
    "m1 = 'Logistic Regression'\n",
    "lr = LogisticRegression()\n",
    "model = lr.fit(X_train, y_train)\n",
    "lr_predict = lr.predict(X_test)\n",
    "lr_conf_matrix = confusion_matrix(y_test, lr_predict)\n",
    "lr_acc_score = accuracy_score(y_test, lr_predict)\n",
    "print(\"confussion matrix\")\n",
    "print(lr_conf_matrix)\n",
    "print(\"\\n\")\n",
    "print(\"Accuracy of Logistic Regression:\",lr_acc_score*100,'\\n')\n",
    "print(classification_report(y_test,lr_predict))\n",
    "\n",
    "m2 = 'Naive Bayes'\n",
    "nb = GaussianNB()\n",
    "nb.fit(X_train,y_train)\n",
    "nbpred = nb.predict(X_test)\n",
    "nb_conf_matrix = confusion_matrix(y_test, nbpred)\n",
    "nb_acc_score = accuracy_score(y_test, nbpred)\n",
    "print(\"confussion matrix\")\n",
    "print(nb_conf_matrix)\n",
    "print(\"\\n\")\n",
    "print(\"Accuracy of Naive Bayes model:\",nb_acc_score*100,'\\n')\n",
    "print(classification_report(y_test,nbpred))\n",
    "\n",
    "m3 = 'Random Forest Classfier'\n",
    "rf = RandomForestClassifier(n_estimators=20, random_state=2,max_depth=5)\n",
    "rf.fit(X_train,y_train)\n",
    "rf_predicted = rf.predict(X_test)\n",
    "rf_conf_matrix = confusion_matrix(y_test, rf_predicted)\n",
    "rf_acc_score = accuracy_score(y_test, rf_predicted)\n",
    "print(\"confussion matrix\")\n",
    "print(rf_conf_matrix)\n",
    "print(\"\\n\")\n",
    "print(\"Accuracy of Random Forest:\",rf_acc_score*100,'\\n')\n",
    "print(classification_report(y_test,rf_predicted))\n",
    "\n",
    "m4 = 'Extreme Gradient Boost'\n",
    "xgb = XGBClassifier(learning_rate=0.01, n_estimators=25, max_depth=15,gamma=0.6, subsample=0.52,colsample_bytree=0.6,seed=27, \n",
    "                    reg_lambda=2, booster='dart', colsample_bylevel=0.6, colsample_bynode=0.5)\n",
    "xgb.fit(X_train, y_train)\n",
    "xgb_predicted = xgb.predict(X_test)\n",
    "xgb_conf_matrix = confusion_matrix(y_test, xgb_predicted)\n",
    "xgb_acc_score = accuracy_score(y_test, xgb_predicted)\n",
    "print(\"confussion matrix\")\n",
    "print(xgb_conf_matrix)\n",
    "print(\"\\n\")\n",
    "print(\"Accuracy of Extreme Gradient Boost:\",xgb_acc_score*100,'\\n')\n",
    "print(classification_report(y_test,xgb_predicted))\n",
    "\n",
    "m5 = 'K-NeighborsClassifier'\n",
    "knn = KNeighborsClassifier(n_neighbors=10)\n",
    "knn.fit(X_train, y_train)\n",
    "knn_predicted = knn.predict(X_test)\n",
    "knn_conf_matrix = confusion_matrix(y_test, knn_predicted)\n",
    "knn_acc_score = accuracy_score(y_test, knn_predicted)\n",
    "print(\"confussion matrix\")\n",
    "print(knn_conf_matrix)\n",
    "print(\"\\n\")\n",
    "print(\"Accuracy of K-NeighborsClassifier:\",knn_acc_score*100,'\\n')\n",
    "print(classification_report(y_test,knn_predicted))\n",
    "\n",
    "m6 = 'DecisionTreeClassifier'\n",
    "dt = DecisionTreeClassifier(criterion = 'entropy',random_state=0,max_depth = 6)\n",
    "dt.fit(X_train, y_train)\n",
    "dt_predicted = dt.predict(X_test)\n",
    "dt_conf_matrix = confusion_matrix(y_test, dt_predicted)\n",
    "dt_acc_score = accuracy_score(y_test, dt_predicted)\n",
    "print(\"confussion matrix\")\n",
    "print(dt_conf_matrix)\n",
    "print(\"\\n\")\n",
    "print(\"Accuracy of DecisionTreeClassifier:\",dt_acc_score*100,'\\n')\n",
    "print(classification_report(y_test,dt_predicted))\n",
    "\n",
    "m7 = 'Support Vector Classifier'\n",
    "svc =  SVC(kernel='rbf', C=2)\n",
    "svc.fit(X_train, y_train)\n",
    "svc_predicted = svc.predict(X_test)\n",
    "svc_conf_matrix = confusion_matrix(y_test, svc_predicted)\n",
    "svc_acc_score = accuracy_score(y_test, svc_predicted)\n",
    "print(\"confussion matrix\")\n",
    "print(svc_conf_matrix)\n",
    "print(\"\\n\")\n",
    "print(\"Accuracy of Support Vector Classifier:\",svc_acc_score*100,'\\n')\n",
    "print(classification_report(y_test,svc_predicted))"
   ]
  },
  {
   "cell_type": "markdown",
   "metadata": {
    "papermill": {
     "duration": 0.077766,
     "end_time": "2022-03-26T06:40:44.415888",
     "exception": false,
     "start_time": "2022-03-26T06:40:44.338122",
     "status": "completed"
    },
    "tags": []
   },
   "source": [
    "### **RFE**"
   ]
  },
  {
   "cell_type": "code",
   "execution_count": 31,
   "metadata": {
    "execution": {
     "iopub.execute_input": "2022-03-26T06:40:44.586765Z",
     "iopub.status.busy": "2022-03-26T06:40:44.585964Z",
     "iopub.status.idle": "2022-03-26T06:40:44.868525Z",
     "shell.execute_reply": "2022-03-26T06:40:44.867620Z",
     "shell.execute_reply.started": "2022-03-26T06:39:25.290399Z"
    },
    "papermill": {
     "duration": 0.386701,
     "end_time": "2022-03-26T06:40:44.868690",
     "exception": false,
     "start_time": "2022-03-26T06:40:44.481989",
     "status": "completed"
    },
    "tags": []
   },
   "outputs": [
    {
     "name": "stderr",
     "output_type": "stream",
     "text": [
      "/opt/conda/lib/python3.7/site-packages/sklearn/utils/validation.py:71: FutureWarning: Pass n_features_to_select=11 as keyword args. From version 0.25 passing these as positional arguments will result in an error\n",
      "  FutureWarning)\n",
      "/opt/conda/lib/python3.7/site-packages/sklearn/linear_model/_logistic.py:764: ConvergenceWarning: lbfgs failed to converge (status=1):\n",
      "STOP: TOTAL NO. of ITERATIONS REACHED LIMIT.\n",
      "\n",
      "Increase the number of iterations (max_iter) or scale the data as shown in:\n",
      "    https://scikit-learn.org/stable/modules/preprocessing.html\n",
      "Please also refer to the documentation for alternative solver options:\n",
      "    https://scikit-learn.org/stable/modules/linear_model.html#logistic-regression\n",
      "  extra_warning_msg=_LOGISTIC_SOLVER_CONVERGENCE_MSG)\n",
      "/opt/conda/lib/python3.7/site-packages/sklearn/linear_model/_logistic.py:764: ConvergenceWarning: lbfgs failed to converge (status=1):\n",
      "STOP: TOTAL NO. of ITERATIONS REACHED LIMIT.\n",
      "\n",
      "Increase the number of iterations (max_iter) or scale the data as shown in:\n",
      "    https://scikit-learn.org/stable/modules/preprocessing.html\n",
      "Please also refer to the documentation for alternative solver options:\n",
      "    https://scikit-learn.org/stable/modules/linear_model.html#logistic-regression\n",
      "  extra_warning_msg=_LOGISTIC_SOLVER_CONVERGENCE_MSG)\n",
      "/opt/conda/lib/python3.7/site-packages/sklearn/linear_model/_logistic.py:764: ConvergenceWarning: lbfgs failed to converge (status=1):\n",
      "STOP: TOTAL NO. of ITERATIONS REACHED LIMIT.\n",
      "\n",
      "Increase the number of iterations (max_iter) or scale the data as shown in:\n",
      "    https://scikit-learn.org/stable/modules/preprocessing.html\n",
      "Please also refer to the documentation for alternative solver options:\n",
      "    https://scikit-learn.org/stable/modules/linear_model.html#logistic-regression\n",
      "  extra_warning_msg=_LOGISTIC_SOLVER_CONVERGENCE_MSG)\n"
     ]
    },
    {
     "name": "stdout",
     "output_type": "stream",
     "text": [
      "Num Features: 11\n",
      "Selected Features: [False  True  True  True False  True  True  True  True  True  True  True\n",
      "  True]\n",
      "Feature Ranking: [2 1 1 1 3 1 1 1 1 1 1 1 1]\n",
      "\n",
      "confussion matrix\n",
      "[[21  6]\n",
      " [ 4 30]]\n",
      "\n",
      "\n",
      "Accuracy of Logistic Regression: 83.60655737704919 \n",
      "\n",
      "              precision    recall  f1-score   support\n",
      "\n",
      "           0       0.84      0.78      0.81        27\n",
      "           1       0.83      0.88      0.86        34\n",
      "\n",
      "    accuracy                           0.84        61\n",
      "   macro avg       0.84      0.83      0.83        61\n",
      "weighted avg       0.84      0.84      0.84        61\n",
      "\n",
      "confussion matrix\n",
      "[[22  5]\n",
      " [ 3 31]]\n",
      "\n",
      "\n",
      "Accuracy of Naive Bayes model: 86.88524590163934 \n",
      "\n",
      "              precision    recall  f1-score   support\n",
      "\n",
      "           0       0.88      0.81      0.85        27\n",
      "           1       0.86      0.91      0.89        34\n",
      "\n",
      "    accuracy                           0.87        61\n",
      "   macro avg       0.87      0.86      0.87        61\n",
      "weighted avg       0.87      0.87      0.87        61\n",
      "\n",
      "confussion matrix\n",
      "[[21  6]\n",
      " [ 4 30]]\n",
      "\n",
      "\n",
      "Accuracy of Random Forest: 83.60655737704919 \n",
      "\n",
      "              precision    recall  f1-score   support\n",
      "\n",
      "           0       0.84      0.78      0.81        27\n",
      "           1       0.83      0.88      0.86        34\n",
      "\n",
      "    accuracy                           0.84        61\n",
      "   macro avg       0.84      0.83      0.83        61\n",
      "weighted avg       0.84      0.84      0.84        61\n",
      "\n",
      "confussion matrix\n",
      "[[22  5]\n",
      " [ 4 30]]\n",
      "\n",
      "\n",
      "Accuracy of Extreme Gradient Boost: 85.24590163934425 \n",
      "\n",
      "              precision    recall  f1-score   support\n",
      "\n",
      "           0       0.85      0.81      0.83        27\n",
      "           1       0.86      0.88      0.87        34\n",
      "\n",
      "    accuracy                           0.85        61\n",
      "   macro avg       0.85      0.85      0.85        61\n",
      "weighted avg       0.85      0.85      0.85        61\n",
      "\n",
      "confussion matrix\n",
      "[[22  5]\n",
      " [ 2 32]]\n",
      "\n",
      "\n",
      "Accuracy of K-NeighborsClassifier: 88.52459016393442 \n",
      "\n",
      "              precision    recall  f1-score   support\n",
      "\n",
      "           0       0.92      0.81      0.86        27\n",
      "           1       0.86      0.94      0.90        34\n",
      "\n",
      "    accuracy                           0.89        61\n",
      "   macro avg       0.89      0.88      0.88        61\n",
      "weighted avg       0.89      0.89      0.88        61\n",
      "\n",
      "confussion matrix\n",
      "[[22  5]\n",
      " [12 22]]\n",
      "\n",
      "\n",
      "Accuracy of DecisionTreeClassifier: 72.1311475409836 \n",
      "\n",
      "              precision    recall  f1-score   support\n",
      "\n",
      "           0       0.65      0.81      0.72        27\n",
      "           1       0.81      0.65      0.72        34\n",
      "\n",
      "    accuracy                           0.72        61\n",
      "   macro avg       0.73      0.73      0.72        61\n",
      "weighted avg       0.74      0.72      0.72        61\n",
      "\n",
      "confussion matrix\n",
      "[[22  5]\n",
      " [ 3 31]]\n",
      "\n",
      "\n",
      "Accuracy of Support Vector Classifier: 86.88524590163934 \n",
      "\n",
      "              precision    recall  f1-score   support\n",
      "\n",
      "           0       0.88      0.81      0.85        27\n",
      "           1       0.86      0.91      0.89        34\n",
      "\n",
      "    accuracy                           0.87        61\n",
      "   macro avg       0.87      0.86      0.87        61\n",
      "weighted avg       0.87      0.87      0.87        61\n",
      "\n"
     ]
    }
   ],
   "source": [
    "#RFE\n",
    "from sklearn.feature_selection import RFE\n",
    "from sklearn.linear_model import LogisticRegression\n",
    "\n",
    "# feature extraction\n",
    "model = LogisticRegression(solver='lbfgs')\n",
    "rfe = RFE(model, 11)\n",
    "fit = rfe.fit(X, y)\n",
    "print(\"Num Features: %d\" % fit.n_features_)\n",
    "print(\"Selected Features: %s\" % fit.support_)\n",
    "print(\"Feature Ranking: %s\" % fit.ranking_)\n",
    "print()\n",
    "\n",
    "df=pd.DataFrame()\n",
    "for i in range(len(fit.ranking_)):\n",
    "    if fit.ranking_[i] == 1:\n",
    "        df[X.columns.values[i]]=data[X.columns.values[i]]\n",
    "        \n",
    "X_train, X_test, y_train, y_test = train_test_split(df, y, test_size=0.20, random_state = 0)\n",
    "scaler = StandardScaler()\n",
    "X_train = scaler.fit_transform(X_train)\n",
    "X_test = scaler.transform(X_test)\n",
    "\n",
    "##################################\n",
    "m1 = 'Logistic Regression'\n",
    "lr = LogisticRegression()\n",
    "model = lr.fit(X_train, y_train)\n",
    "lr_predict = lr.predict(X_test)\n",
    "lr_conf_matrix = confusion_matrix(y_test, lr_predict)\n",
    "lr_acc_score = accuracy_score(y_test, lr_predict)\n",
    "print(\"confussion matrix\")\n",
    "print(lr_conf_matrix)\n",
    "print(\"\\n\")\n",
    "print(\"Accuracy of Logistic Regression:\",lr_acc_score*100,'\\n')\n",
    "print(classification_report(y_test,lr_predict))\n",
    "\n",
    "m2 = 'Naive Bayes'\n",
    "nb = GaussianNB()\n",
    "nb.fit(X_train,y_train)\n",
    "nbpred = nb.predict(X_test)\n",
    "nb_conf_matrix = confusion_matrix(y_test, nbpred)\n",
    "nb_acc_score = accuracy_score(y_test, nbpred)\n",
    "print(\"confussion matrix\")\n",
    "print(nb_conf_matrix)\n",
    "print(\"\\n\")\n",
    "print(\"Accuracy of Naive Bayes model:\",nb_acc_score*100,'\\n')\n",
    "print(classification_report(y_test,nbpred))\n",
    "\n",
    "m3 = 'Random Forest Classfier'\n",
    "rf = RandomForestClassifier(n_estimators=20, random_state=2,max_depth=5)\n",
    "rf.fit(X_train,y_train)\n",
    "rf_predicted = rf.predict(X_test)\n",
    "rf_conf_matrix = confusion_matrix(y_test, rf_predicted)\n",
    "rf_acc_score = accuracy_score(y_test, rf_predicted)\n",
    "print(\"confussion matrix\")\n",
    "print(rf_conf_matrix)\n",
    "print(\"\\n\")\n",
    "print(\"Accuracy of Random Forest:\",rf_acc_score*100,'\\n')\n",
    "print(classification_report(y_test,rf_predicted))\n",
    "\n",
    "m4 = 'Extreme Gradient Boost'\n",
    "xgb = XGBClassifier(learning_rate=0.01, n_estimators=25, max_depth=15,gamma=0.6, subsample=0.52,colsample_bytree=0.6,seed=27, \n",
    "                    reg_lambda=2, booster='dart', colsample_bylevel=0.6, colsample_bynode=0.5)\n",
    "xgb.fit(X_train, y_train)\n",
    "xgb_predicted = xgb.predict(X_test)\n",
    "xgb_conf_matrix = confusion_matrix(y_test, xgb_predicted)\n",
    "xgb_acc_score = accuracy_score(y_test, xgb_predicted)\n",
    "print(\"confussion matrix\")\n",
    "print(xgb_conf_matrix)\n",
    "print(\"\\n\")\n",
    "print(\"Accuracy of Extreme Gradient Boost:\",xgb_acc_score*100,'\\n')\n",
    "print(classification_report(y_test,xgb_predicted))\n",
    "\n",
    "m5 = 'K-NeighborsClassifier'\n",
    "knn = KNeighborsClassifier(n_neighbors=10)\n",
    "knn.fit(X_train, y_train)\n",
    "knn_predicted = knn.predict(X_test)\n",
    "knn_conf_matrix = confusion_matrix(y_test, knn_predicted)\n",
    "knn_acc_score = accuracy_score(y_test, knn_predicted)\n",
    "print(\"confussion matrix\")\n",
    "print(knn_conf_matrix)\n",
    "print(\"\\n\")\n",
    "print(\"Accuracy of K-NeighborsClassifier:\",knn_acc_score*100,'\\n')\n",
    "print(classification_report(y_test,knn_predicted))\n",
    "\n",
    "m6 = 'DecisionTreeClassifier'\n",
    "dt = DecisionTreeClassifier(criterion = 'entropy',random_state=0,max_depth = 6)\n",
    "dt.fit(X_train, y_train)\n",
    "dt_predicted = dt.predict(X_test)\n",
    "dt_conf_matrix = confusion_matrix(y_test, dt_predicted)\n",
    "dt_acc_score = accuracy_score(y_test, dt_predicted)\n",
    "print(\"confussion matrix\")\n",
    "print(dt_conf_matrix)\n",
    "print(\"\\n\")\n",
    "print(\"Accuracy of DecisionTreeClassifier:\",dt_acc_score*100,'\\n')\n",
    "print(classification_report(y_test,dt_predicted))\n",
    "\n",
    "m7 = 'Support Vector Classifier'\n",
    "svc =  SVC(kernel='rbf', C=2)\n",
    "svc.fit(X_train, y_train)\n",
    "svc_predicted = svc.predict(X_test)\n",
    "svc_conf_matrix = confusion_matrix(y_test, svc_predicted)\n",
    "svc_acc_score = accuracy_score(y_test, svc_predicted)\n",
    "print(\"confussion matrix\")\n",
    "print(svc_conf_matrix)\n",
    "print(\"\\n\")\n",
    "print(\"Accuracy of Support Vector Classifier:\",svc_acc_score*100,'\\n')\n",
    "print(classification_report(y_test,svc_predicted))"
   ]
  },
  {
   "cell_type": "markdown",
   "metadata": {
    "papermill": {
     "duration": 0.072993,
     "end_time": "2022-03-26T06:40:45.061692",
     "exception": false,
     "start_time": "2022-03-26T06:40:44.988699",
     "status": "completed"
    },
    "tags": []
   },
   "source": [
    "### **PCA**"
   ]
  },
  {
   "cell_type": "code",
   "execution_count": 32,
   "metadata": {
    "execution": {
     "iopub.execute_input": "2022-03-26T06:40:45.205874Z",
     "iopub.status.busy": "2022-03-26T06:40:45.205075Z",
     "iopub.status.idle": "2022-03-26T06:40:45.445252Z",
     "shell.execute_reply": "2022-03-26T06:40:45.446061Z",
     "shell.execute_reply.started": "2022-03-26T06:39:25.589092Z"
    },
    "papermill": {
     "duration": 0.317192,
     "end_time": "2022-03-26T06:40:45.446264",
     "exception": false,
     "start_time": "2022-03-26T06:40:45.129072",
     "status": "completed"
    },
    "tags": []
   },
   "outputs": [
    {
     "name": "stdout",
     "output_type": "stream",
     "text": [
      "Explained Variance: [7.4756e-01 1.5037e-01 8.4597e-02 1.6216e-02 3.8409e-04 2.8123e-04\n",
      " 2.2899e-04 9.9833e-05 7.7214e-05]\n",
      "[[ 3.9461e-02 -1.7828e-03 -1.5372e-03  4.7588e-02  9.9805e-01  1.1639e-04\n",
      "  -1.5524e-03 -7.3584e-03  6.3148e-04  1.3299e-03 -9.9986e-05  1.4677e-03\n",
      "   1.1822e-03]\n",
      " [ 1.8219e-01  7.9373e-04 -1.2542e-02  1.0381e-01 -1.9425e-02  4.6197e-04\n",
      "  -1.2021e-03 -9.7719e-01  7.5482e-03  1.7941e-02 -1.0427e-02  1.0110e-02\n",
      "   2.5924e-03]\n",
      " [ 1.2550e-01 -1.0652e-03  6.1632e-03  9.8228e-01 -5.0865e-02  3.6651e-03\n",
      "  -2.7096e-03  1.2893e-01 -2.8534e-05  9.2143e-03 -2.3021e-03  4.1973e-03\n",
      "   1.2174e-03]\n",
      " [ 9.7405e-01 -4.6345e-03  9.2624e-03 -1.4803e-01 -3.0251e-02  3.4344e-03\n",
      "  -2.9585e-03  1.6648e-01 -7.0240e-03 -8.0349e-04  3.2229e-03  2.2350e-02\n",
      "  -8.6677e-04]\n",
      " [-9.4272e-03  7.8311e-02 -3.3365e-01 -9.7897e-03 -1.3441e-03 -1.4645e-03\n",
      "  -2.6307e-02  2.4082e-02  1.1191e-01  7.8276e-01 -2.3163e-01  4.1908e-01\n",
      "   1.6300e-01]\n",
      " [ 3.5740e-03 -2.8163e-02  7.0083e-01 -7.5795e-03  1.3280e-03 -1.3910e-03\n",
      "   1.4579e-02 -3.0885e-03 -7.1272e-02  5.0205e-01 -2.1078e-01 -4.5122e-01\n",
      "  -5.0828e-02]\n",
      " [-2.3571e-02  4.5642e-02  5.9790e-01 -1.7965e-03  1.0680e-03  6.8363e-02\n",
      "  -3.6933e-03 -8.2778e-03 -1.1742e-01 -1.1563e-01  9.3330e-02  7.7387e-01\n",
      "  -1.9490e-02]\n",
      " [-4.1375e-03 -3.0544e-01 -1.2772e-01  2.2121e-04  2.4870e-04  2.1038e-02\n",
      "  -2.7738e-02  1.2985e-03 -1.1945e-01  9.8198e-02 -1.0594e-01  1.0078e-01\n",
      "  -9.1863e-01]\n",
      " [ 1.1800e-03 -2.1854e-01 -2.6859e-02  2.3969e-03  7.0239e-04 -1.0923e-01\n",
      "   9.2157e-01 -1.7026e-03 -1.0376e-01  1.1190e-01  2.5430e-01  1.9134e-02\n",
      "   4.4292e-02]]\n",
      "[[-1.2267e+01  2.8738e+00  1.4970e+01  6.8929e+00 -7.2468e-02  2.6647e+00\n",
      "   2.6871e-01  1.0847e+00 -9.2420e-01]\n",
      " [ 2.6901e+00 -3.9871e+01  8.7788e-01 -1.0584e+01  2.5988e+00  2.4605e+00\n",
      "  -2.0781e-01  5.1939e-01  1.9434e-01]\n",
      " [-4.2950e+01 -2.3637e+01  1.7594e+00 -7.7867e+00  4.3624e-01  2.9691e-01\n",
      "  -4.3743e-01  5.1473e-01 -2.1027e-01]\n",
      " [-1.0945e+01 -2.8438e+01 -7.0442e+00  8.3281e+00  7.6565e-02  1.3546e-01\n",
      "  -6.7719e-01  7.4112e-02  4.3160e-01]\n",
      " [ 1.0698e+02 -1.5874e+01 -1.4862e+01  3.2238e+00 -2.4200e-01 -5.0228e-01\n",
      "  -1.1884e+00  3.7391e-01  6.6046e-01]]\n",
      "confussion matrix\n",
      "[[22  5]\n",
      " [ 3 31]]\n",
      "\n",
      "\n",
      "Accuracy of Logistic Regression: 86.88524590163934 \n",
      "\n",
      "              precision    recall  f1-score   support\n",
      "\n",
      "           0       0.88      0.81      0.85        27\n",
      "           1       0.86      0.91      0.89        34\n",
      "\n",
      "    accuracy                           0.87        61\n",
      "   macro avg       0.87      0.86      0.87        61\n",
      "weighted avg       0.87      0.87      0.87        61\n",
      "\n",
      "confussion matrix\n",
      "[[23  4]\n",
      " [ 5 29]]\n",
      "\n",
      "\n",
      "Accuracy of Naive Bayes model: 85.24590163934425 \n",
      "\n",
      "              precision    recall  f1-score   support\n",
      "\n",
      "           0       0.82      0.85      0.84        27\n",
      "           1       0.88      0.85      0.87        34\n",
      "\n",
      "    accuracy                           0.85        61\n",
      "   macro avg       0.85      0.85      0.85        61\n",
      "weighted avg       0.85      0.85      0.85        61\n",
      "\n",
      "confussion matrix\n",
      "[[21  6]\n",
      " [ 5 29]]\n",
      "\n",
      "\n",
      "Accuracy of Random Forest: 81.9672131147541 \n",
      "\n",
      "              precision    recall  f1-score   support\n",
      "\n",
      "           0       0.81      0.78      0.79        27\n",
      "           1       0.83      0.85      0.84        34\n",
      "\n",
      "    accuracy                           0.82        61\n",
      "   macro avg       0.82      0.82      0.82        61\n",
      "weighted avg       0.82      0.82      0.82        61\n",
      "\n",
      "confussion matrix\n",
      "[[18  9]\n",
      " [ 4 30]]\n",
      "\n",
      "\n",
      "Accuracy of Extreme Gradient Boost: 78.68852459016394 \n",
      "\n",
      "              precision    recall  f1-score   support\n",
      "\n",
      "           0       0.82      0.67      0.73        27\n",
      "           1       0.77      0.88      0.82        34\n",
      "\n",
      "    accuracy                           0.79        61\n",
      "   macro avg       0.79      0.77      0.78        61\n",
      "weighted avg       0.79      0.79      0.78        61\n",
      "\n",
      "confussion matrix\n",
      "[[19  8]\n",
      " [ 2 32]]\n",
      "\n",
      "\n",
      "Accuracy of K-NeighborsClassifier: 83.60655737704919 \n",
      "\n",
      "              precision    recall  f1-score   support\n",
      "\n",
      "           0       0.90      0.70      0.79        27\n",
      "           1       0.80      0.94      0.86        34\n",
      "\n",
      "    accuracy                           0.84        61\n",
      "   macro avg       0.85      0.82      0.83        61\n",
      "weighted avg       0.85      0.84      0.83        61\n",
      "\n",
      "confussion matrix\n",
      "[[24  3]\n",
      " [10 24]]\n",
      "\n",
      "\n",
      "Accuracy of DecisionTreeClassifier: 78.68852459016394 \n",
      "\n",
      "              precision    recall  f1-score   support\n",
      "\n",
      "           0       0.71      0.89      0.79        27\n",
      "           1       0.89      0.71      0.79        34\n",
      "\n",
      "    accuracy                           0.79        61\n",
      "   macro avg       0.80      0.80      0.79        61\n",
      "weighted avg       0.81      0.79      0.79        61\n",
      "\n",
      "confussion matrix\n",
      "[[23  4]\n",
      " [ 6 28]]\n",
      "\n",
      "\n",
      "Accuracy of Support Vector Classifier: 83.60655737704919 \n",
      "\n",
      "              precision    recall  f1-score   support\n",
      "\n",
      "           0       0.79      0.85      0.82        27\n",
      "           1       0.88      0.82      0.85        34\n",
      "\n",
      "    accuracy                           0.84        61\n",
      "   macro avg       0.83      0.84      0.83        61\n",
      "weighted avg       0.84      0.84      0.84        61\n",
      "\n",
      "9\n"
     ]
    }
   ],
   "source": [
    "#PCA\n",
    "\n",
    "from sklearn.decomposition import PCA\n",
    "# feature extraction\n",
    "pca = PCA(n_components=9)\n",
    "fit = pca.fit(X)\n",
    "# summarize components\n",
    "print(\"Explained Variance: %s\" % fit.explained_variance_ratio_)\n",
    "print(fit.components_)\n",
    "\n",
    "features = fit.transform(X)\n",
    "\n",
    "# summarize selected features\n",
    "print(features[0:5,])\n",
    "\n",
    "X_train, X_test, y_train, y_test = train_test_split(features, y, test_size=0.20, random_state = 0)\n",
    "scaler = StandardScaler()\n",
    "X_train = scaler.fit_transform(X_train)\n",
    "X_test = scaler.transform(X_test)\n",
    "\n",
    "##################################\n",
    "m1 = 'Logistic Regression'\n",
    "lr = LogisticRegression()\n",
    "model = lr.fit(X_train, y_train)\n",
    "lr_predict = lr.predict(X_test)\n",
    "lr_conf_matrix = confusion_matrix(y_test, lr_predict)\n",
    "lr_acc_score = accuracy_score(y_test, lr_predict)\n",
    "print(\"confussion matrix\")\n",
    "print(lr_conf_matrix)\n",
    "print(\"\\n\")\n",
    "print(\"Accuracy of Logistic Regression:\",lr_acc_score*100,'\\n')\n",
    "print(classification_report(y_test,lr_predict))\n",
    "\n",
    "m2 = 'Naive Bayes'\n",
    "nb = GaussianNB()\n",
    "nb.fit(X_train,y_train)\n",
    "nbpred = nb.predict(X_test)\n",
    "nb_conf_matrix = confusion_matrix(y_test, nbpred)\n",
    "nb_acc_score = accuracy_score(y_test, nbpred)\n",
    "print(\"confussion matrix\")\n",
    "print(nb_conf_matrix)\n",
    "print(\"\\n\")\n",
    "print(\"Accuracy of Naive Bayes model:\",nb_acc_score*100,'\\n')\n",
    "print(classification_report(y_test,nbpred))\n",
    "\n",
    "m3 = 'Random Forest Classfier'\n",
    "rf = RandomForestClassifier(n_estimators=20, random_state=2,max_depth=5)\n",
    "rf.fit(X_train,y_train)\n",
    "rf_predicted = rf.predict(X_test)\n",
    "rf_conf_matrix = confusion_matrix(y_test, rf_predicted)\n",
    "rf_acc_score = accuracy_score(y_test, rf_predicted)\n",
    "print(\"confussion matrix\")\n",
    "print(rf_conf_matrix)\n",
    "print(\"\\n\")\n",
    "print(\"Accuracy of Random Forest:\",rf_acc_score*100,'\\n')\n",
    "print(classification_report(y_test,rf_predicted))\n",
    "\n",
    "m4 = 'Extreme Gradient Boost'\n",
    "xgb = XGBClassifier(learning_rate=0.01, n_estimators=25, max_depth=15,gamma=0.6, subsample=0.52,colsample_bytree=0.6,seed=27, \n",
    "                    reg_lambda=2, booster='dart', colsample_bylevel=0.6, colsample_bynode=0.5)\n",
    "xgb.fit(X_train, y_train)\n",
    "xgb_predicted = xgb.predict(X_test)\n",
    "xgb_conf_matrix = confusion_matrix(y_test, xgb_predicted)\n",
    "xgb_acc_score = accuracy_score(y_test, xgb_predicted)\n",
    "print(\"confussion matrix\")\n",
    "print(xgb_conf_matrix)\n",
    "print(\"\\n\")\n",
    "print(\"Accuracy of Extreme Gradient Boost:\",xgb_acc_score*100,'\\n')\n",
    "print(classification_report(y_test,xgb_predicted))\n",
    "\n",
    "m5 = 'K-NeighborsClassifier'\n",
    "knn = KNeighborsClassifier(n_neighbors=10)\n",
    "knn.fit(X_train, y_train)\n",
    "knn_predicted = knn.predict(X_test)\n",
    "knn_conf_matrix = confusion_matrix(y_test, knn_predicted)\n",
    "knn_acc_score = accuracy_score(y_test, knn_predicted)\n",
    "print(\"confussion matrix\")\n",
    "print(knn_conf_matrix)\n",
    "print(\"\\n\")\n",
    "print(\"Accuracy of K-NeighborsClassifier:\",knn_acc_score*100,'\\n')\n",
    "print(classification_report(y_test,knn_predicted))\n",
    "\n",
    "m6 = 'DecisionTreeClassifier'\n",
    "dt = DecisionTreeClassifier(criterion = 'entropy',random_state=0,max_depth = 6)\n",
    "dt.fit(X_train, y_train)\n",
    "dt_predicted = dt.predict(X_test)\n",
    "dt_conf_matrix = confusion_matrix(y_test, dt_predicted)\n",
    "dt_acc_score = accuracy_score(y_test, dt_predicted)\n",
    "print(\"confussion matrix\")\n",
    "print(dt_conf_matrix)\n",
    "print(\"\\n\")\n",
    "print(\"Accuracy of DecisionTreeClassifier:\",dt_acc_score*100,'\\n')\n",
    "print(classification_report(y_test,dt_predicted))\n",
    "\n",
    "m7 = 'Support Vector Classifier'\n",
    "svc =  SVC(kernel='rbf', C=2)\n",
    "svc.fit(X_train, y_train)\n",
    "svc_predicted = svc.predict(X_test)\n",
    "svc_conf_matrix = confusion_matrix(y_test, svc_predicted)\n",
    "svc_acc_score = accuracy_score(y_test, svc_predicted)\n",
    "print(\"confussion matrix\")\n",
    "print(svc_conf_matrix)\n",
    "print(\"\\n\")\n",
    "print(\"Accuracy of Support Vector Classifier:\",svc_acc_score*100,'\\n')\n",
    "print(classification_report(y_test,svc_predicted))\n",
    "\n",
    "print (X_train.shape[1])"
   ]
  },
  {
   "cell_type": "markdown",
   "metadata": {
    "papermill": {
     "duration": 0.077246,
     "end_time": "2022-03-26T06:40:45.611621",
     "exception": false,
     "start_time": "2022-03-26T06:40:45.534375",
     "status": "completed"
    },
    "tags": []
   },
   "source": [
    "### **Defining Hybrid Ensemble Learning Model after Feature Extraction**"
   ]
  },
  {
   "cell_type": "code",
   "execution_count": 33,
   "metadata": {
    "execution": {
     "iopub.execute_input": "2022-03-26T06:40:45.767647Z",
     "iopub.status.busy": "2022-03-26T06:40:45.764888Z",
     "iopub.status.idle": "2022-03-26T06:40:45.824174Z",
     "shell.execute_reply": "2022-03-26T06:40:45.823400Z",
     "shell.execute_reply.started": "2022-03-26T06:39:25.800501Z"
    },
    "papermill": {
     "duration": 0.144956,
     "end_time": "2022-03-26T06:40:45.824388",
     "exception": false,
     "start_time": "2022-03-26T06:40:45.679432",
     "status": "completed"
    },
    "tags": []
   },
   "outputs": [
    {
     "name": "stdout",
     "output_type": "stream",
     "text": [
      "confussion matrix\n",
      "[[19  8]\n",
      " [ 2 32]]\n",
      "\n",
      "\n",
      "Accuracy of Voting Classifier: 83.60655737704919 \n",
      "\n",
      "              precision    recall  f1-score   support\n",
      "\n",
      "           0       0.90      0.70      0.79        27\n",
      "           1       0.80      0.94      0.86        34\n",
      "\n",
      "    accuracy                           0.84        61\n",
      "   macro avg       0.85      0.82      0.83        61\n",
      "weighted avg       0.85      0.84      0.83        61\n",
      "\n"
     ]
    }
   ],
   "source": [
    "#Defining Hybrid Ensemble Learning Model\n",
    "# create the sub-models\n",
    "estimators = []\n",
    "\n",
    "\n",
    "#Defining 5 Support Vector Classifiers\n",
    "model21 = SVC(kernel = 'linear')\n",
    "estimators.append(('svm1', model21))\n",
    "model22 = SVC(kernel = 'poly')\n",
    "estimators.append(('svm2', model22))\n",
    "model23 = SVC(kernel = 'rbf')\n",
    "estimators.append(('svm3', model23))\n",
    "model24 = SVC(kernel = 'rbf')\n",
    "estimators.append(('svm4', model24))\n",
    "model25 = SVC(kernel = 'linear')\n",
    "estimators.append(('svm5', model25))\n",
    "\n",
    "\n",
    "#Defining 5 K-NN classifiers\n",
    "model1 = KNeighborsClassifier(n_neighbors = 10, metric = 'minkowski', p = 2)\n",
    "estimators.append(('knn1', model1))\n",
    "model2 = KNeighborsClassifier(n_neighbors = 9, metric = 'minkowski', p = 2)\n",
    "estimators.append(('knn2', model2))\n",
    "model3 = KNeighborsClassifier(n_neighbors = 8, metric = 'minkowski', p = 2)\n",
    "estimators.append(('knn3', model3))\n",
    "model4 = KNeighborsClassifier(n_neighbors = 10, metric = 'minkowski', p = 1)\n",
    "estimators.append(('knn4', model4))\n",
    "model5 = KNeighborsClassifier(n_neighbors = 10, metric = 'minkowski', p = 1)\n",
    "estimators.append(('knn5', model5))\n",
    "\n",
    "# Defining the ensemble model\n",
    "from sklearn.ensemble import VotingClassifier\n",
    "\n",
    "ensemble = VotingClassifier(estimators)\n",
    "ensemble.fit(X_train, y_train)\n",
    "y_pred = ensemble.predict(X_test)\n",
    "\n",
    "#Confusion matrix\n",
    "cm_HybridEnsembler = confusion_matrix(y_test, y_pred)\n",
    "acc_score_HybridEnsembler = accuracy_score(y_test, y_pred)\n",
    "\n",
    "print(\"confussion matrix\")\n",
    "print(cm_HybridEnsembler)\n",
    "print(\"\\n\")\n",
    "\n",
    "print(\"Accuracy of Voting Classifier:\",acc_score_HybridEnsembler*100,'\\n')\n",
    "print(classification_report(y_test,y_pred))\n"
   ]
  }
 ],
 "metadata": {
  "kernelspec": {
   "display_name": "Python 3",
   "language": "python",
   "name": "python3"
  },
  "language_info": {
   "codemirror_mode": {
    "name": "ipython",
    "version": 3
   },
   "file_extension": ".py",
   "mimetype": "text/x-python",
   "name": "python",
   "nbconvert_exporter": "python",
   "pygments_lexer": "ipython3",
   "version": "3.7.6"
  },
  "papermill": {
   "duration": 38.593132,
   "end_time": "2022-03-26T06:40:46.021662",
   "environment_variables": {},
   "exception": null,
   "input_path": "__notebook__.ipynb",
   "output_path": "__notebook__.ipynb",
   "parameters": {},
   "start_time": "2022-03-26T06:40:07.428530",
   "version": "2.1.0"
  },
  "widgets": {
   "application/vnd.jupyter.widget-state+json": {
    "state": {
     "01e3b1fbbb3f4300a04f8b2e34a1435b": {
      "model_module": "@jupyter-widgets/controls",
      "model_module_version": "1.5.0",
      "model_name": "ProgressStyleModel",
      "state": {
       "_model_module": "@jupyter-widgets/controls",
       "_model_module_version": "1.5.0",
       "_model_name": "ProgressStyleModel",
       "_view_count": null,
       "_view_module": "@jupyter-widgets/base",
       "_view_module_version": "1.2.0",
       "_view_name": "StyleView",
       "bar_color": null,
       "description_width": "initial"
      }
     },
     "041a192edc3d4840b88fc1f2d2f50937": {
      "model_module": "@jupyter-widgets/base",
      "model_module_version": "1.2.0",
      "model_name": "LayoutModel",
      "state": {
       "_model_module": "@jupyter-widgets/base",
       "_model_module_version": "1.2.0",
       "_model_name": "LayoutModel",
       "_view_count": null,
       "_view_module": "@jupyter-widgets/base",
       "_view_module_version": "1.2.0",
       "_view_name": "LayoutView",
       "align_content": null,
       "align_items": null,
       "align_self": null,
       "border": null,
       "bottom": null,
       "display": null,
       "flex": null,
       "flex_flow": null,
       "grid_area": null,
       "grid_auto_columns": null,
       "grid_auto_flow": null,
       "grid_auto_rows": null,
       "grid_column": null,
       "grid_gap": null,
       "grid_row": null,
       "grid_template_areas": null,
       "grid_template_columns": null,
       "grid_template_rows": null,
       "height": null,
       "justify_content": null,
       "justify_items": null,
       "left": null,
       "margin": null,
       "max_height": null,
       "max_width": null,
       "min_height": null,
       "min_width": null,
       "object_fit": null,
       "object_position": null,
       "order": null,
       "overflow": null,
       "overflow_x": null,
       "overflow_y": null,
       "padding": null,
       "right": null,
       "top": null,
       "visibility": null,
       "width": null
      }
     },
     "0c4cbc669bcc46c29d37350e2603db5f": {
      "model_module": "@jupyter-widgets/controls",
      "model_module_version": "1.5.0",
      "model_name": "HTMLModel",
      "state": {
       "_dom_classes": [],
       "_model_module": "@jupyter-widgets/controls",
       "_model_module_version": "1.5.0",
       "_model_name": "HTMLModel",
       "_view_count": null,
       "_view_module": "@jupyter-widgets/controls",
       "_view_module_version": "1.5.0",
       "_view_name": "HTMLView",
       "description": "",
       "description_tooltip": null,
       "layout": "IPY_MODEL_c1abead6dfae44009bf846884292a2c7",
       "placeholder": "​",
       "style": "IPY_MODEL_847c4320a7014861b5ae7060257d311f",
       "value": " 3/3 [00:00&lt;00:00, 46.56it/s]"
      }
     },
     "1da01d4acd7d4a7e8dadd515696a04de": {
      "model_module": "@jupyter-widgets/controls",
      "model_module_version": "1.5.0",
      "model_name": "DescriptionStyleModel",
      "state": {
       "_model_module": "@jupyter-widgets/controls",
       "_model_module_version": "1.5.0",
       "_model_name": "DescriptionStyleModel",
       "_view_count": null,
       "_view_module": "@jupyter-widgets/base",
       "_view_module_version": "1.2.0",
       "_view_name": "StyleView",
       "description_width": ""
      }
     },
     "1e56ce8c3d014b6ab3aadd1e72cbee08": {
      "model_module": "@jupyter-widgets/base",
      "model_module_version": "1.2.0",
      "model_name": "LayoutModel",
      "state": {
       "_model_module": "@jupyter-widgets/base",
       "_model_module_version": "1.2.0",
       "_model_name": "LayoutModel",
       "_view_count": null,
       "_view_module": "@jupyter-widgets/base",
       "_view_module_version": "1.2.0",
       "_view_name": "LayoutView",
       "align_content": null,
       "align_items": null,
       "align_self": null,
       "border": null,
       "bottom": null,
       "display": null,
       "flex": null,
       "flex_flow": null,
       "grid_area": null,
       "grid_auto_columns": null,
       "grid_auto_flow": null,
       "grid_auto_rows": null,
       "grid_column": null,
       "grid_gap": null,
       "grid_row": null,
       "grid_template_areas": null,
       "grid_template_columns": null,
       "grid_template_rows": null,
       "height": null,
       "justify_content": null,
       "justify_items": null,
       "left": null,
       "margin": null,
       "max_height": null,
       "max_width": null,
       "min_height": null,
       "min_width": null,
       "object_fit": null,
       "object_position": null,
       "order": null,
       "overflow": null,
       "overflow_x": null,
       "overflow_y": null,
       "padding": null,
       "right": null,
       "top": null,
       "visibility": null,
       "width": null
      }
     },
     "22ff3b225d5a4000af261814739a4904": {
      "model_module": "@jupyter-widgets/controls",
      "model_module_version": "1.5.0",
      "model_name": "FloatProgressModel",
      "state": {
       "_dom_classes": [],
       "_model_module": "@jupyter-widgets/controls",
       "_model_module_version": "1.5.0",
       "_model_name": "FloatProgressModel",
       "_view_count": null,
       "_view_module": "@jupyter-widgets/controls",
       "_view_module_version": "1.5.0",
       "_view_name": "ProgressView",
       "bar_style": "success",
       "description": "interactions [continuous]: 100%",
       "description_tooltip": null,
       "layout": "IPY_MODEL_36e547667b01460b8b3777dc7f520bdf",
       "max": 36,
       "min": 0,
       "orientation": "horizontal",
       "style": "IPY_MODEL_8fccc6212de54921871d08e06ae52115",
       "value": 36
      }
     },
     "23b11befc55044b8bf54ba13a0d8fc19": {
      "model_module": "@jupyter-widgets/controls",
      "model_module_version": "1.5.0",
      "model_name": "HBoxModel",
      "state": {
       "_dom_classes": [],
       "_model_module": "@jupyter-widgets/controls",
       "_model_module_version": "1.5.0",
       "_model_name": "HBoxModel",
       "_view_count": null,
       "_view_module": "@jupyter-widgets/controls",
       "_view_module_version": "1.5.0",
       "_view_name": "HBoxView",
       "box_style": "",
       "children": [
        "IPY_MODEL_e69583199eea4eec8ff0904bb21697fe",
        "IPY_MODEL_e248b6e861ad4c11bebb36e32985f8ca"
       ],
       "layout": "IPY_MODEL_36da620f39194bba825272a231d8e4b1"
      }
     },
     "249188201c8448f58ca35fd66a551730": {
      "model_module": "@jupyter-widgets/controls",
      "model_module_version": "1.5.0",
      "model_name": "HBoxModel",
      "state": {
       "_dom_classes": [],
       "_model_module": "@jupyter-widgets/controls",
       "_model_module_version": "1.5.0",
       "_model_name": "HBoxModel",
       "_view_count": null,
       "_view_module": "@jupyter-widgets/controls",
       "_view_module_version": "1.5.0",
       "_view_name": "HBoxView",
       "box_style": "",
       "children": [
        "IPY_MODEL_59c0937b28654bb4b67b7de3dcc5a62a",
        "IPY_MODEL_910691cbcab844ef995debd8dc29b901"
       ],
       "layout": "IPY_MODEL_dc9ffc3220a74a04acea743a8ddfa864"
      }
     },
     "2fed7f9117114728ae837d64a42ecbd9": {
      "model_module": "@jupyter-widgets/controls",
      "model_module_version": "1.5.0",
      "model_name": "HBoxModel",
      "state": {
       "_dom_classes": [],
       "_model_module": "@jupyter-widgets/controls",
       "_model_module_version": "1.5.0",
       "_model_name": "HBoxModel",
       "_view_count": null,
       "_view_module": "@jupyter-widgets/controls",
       "_view_module_version": "1.5.0",
       "_view_name": "HBoxView",
       "box_style": "",
       "children": [
        "IPY_MODEL_5a53d5a9d0cc4420bed62d1cc5e910e0",
        "IPY_MODEL_f4a53fe8127a46d8aa68a167f8e32d3e"
       ],
       "layout": "IPY_MODEL_79dc55c0e5fd4af78a623a4677b02482"
      }
     },
     "36da620f39194bba825272a231d8e4b1": {
      "model_module": "@jupyter-widgets/base",
      "model_module_version": "1.2.0",
      "model_name": "LayoutModel",
      "state": {
       "_model_module": "@jupyter-widgets/base",
       "_model_module_version": "1.2.0",
       "_model_name": "LayoutModel",
       "_view_count": null,
       "_view_module": "@jupyter-widgets/base",
       "_view_module_version": "1.2.0",
       "_view_name": "LayoutView",
       "align_content": null,
       "align_items": null,
       "align_self": null,
       "border": null,
       "bottom": null,
       "display": null,
       "flex": null,
       "flex_flow": null,
       "grid_area": null,
       "grid_auto_columns": null,
       "grid_auto_flow": null,
       "grid_auto_rows": null,
       "grid_column": null,
       "grid_gap": null,
       "grid_row": null,
       "grid_template_areas": null,
       "grid_template_columns": null,
       "grid_template_rows": null,
       "height": null,
       "justify_content": null,
       "justify_items": null,
       "left": null,
       "margin": null,
       "max_height": null,
       "max_width": null,
       "min_height": null,
       "min_width": null,
       "object_fit": null,
       "object_position": null,
       "order": null,
       "overflow": null,
       "overflow_x": null,
       "overflow_y": null,
       "padding": null,
       "right": null,
       "top": null,
       "visibility": null,
       "width": null
      }
     },
     "36e547667b01460b8b3777dc7f520bdf": {
      "model_module": "@jupyter-widgets/base",
      "model_module_version": "1.2.0",
      "model_name": "LayoutModel",
      "state": {
       "_model_module": "@jupyter-widgets/base",
       "_model_module_version": "1.2.0",
       "_model_name": "LayoutModel",
       "_view_count": null,
       "_view_module": "@jupyter-widgets/base",
       "_view_module_version": "1.2.0",
       "_view_name": "LayoutView",
       "align_content": null,
       "align_items": null,
       "align_self": null,
       "border": null,
       "bottom": null,
       "display": null,
       "flex": null,
       "flex_flow": null,
       "grid_area": null,
       "grid_auto_columns": null,
       "grid_auto_flow": null,
       "grid_auto_rows": null,
       "grid_column": null,
       "grid_gap": null,
       "grid_row": null,
       "grid_template_areas": null,
       "grid_template_columns": null,
       "grid_template_rows": null,
       "height": null,
       "justify_content": null,
       "justify_items": null,
       "left": null,
       "margin": null,
       "max_height": null,
       "max_width": null,
       "min_height": null,
       "min_width": null,
       "object_fit": null,
       "object_position": null,
       "order": null,
       "overflow": null,
       "overflow_x": null,
       "overflow_y": null,
       "padding": null,
       "right": null,
       "top": null,
       "visibility": null,
       "width": null
      }
     },
     "3d87b10ca7cb4c028b7fa467cb765895": {
      "model_module": "@jupyter-widgets/controls",
      "model_module_version": "1.5.0",
      "model_name": "FloatProgressModel",
      "state": {
       "_dom_classes": [],
       "_model_module": "@jupyter-widgets/controls",
       "_model_module_version": "1.5.0",
       "_model_name": "FloatProgressModel",
       "_view_count": null,
       "_view_module": "@jupyter-widgets/controls",
       "_view_module_version": "1.5.0",
       "_view_name": "ProgressView",
       "bar_style": "success",
       "description": "warnings [correlations]: 100%",
       "description_tooltip": null,
       "layout": "IPY_MODEL_fe76bb2321c44d5396c14350724d8484",
       "max": 3,
       "min": 0,
       "orientation": "horizontal",
       "style": "IPY_MODEL_9036389f5c994648adffad264de3355e",
       "value": 3
      }
     },
     "4c2519b9911f4726ade8fb8a9db07818": {
      "model_module": "@jupyter-widgets/controls",
      "model_module_version": "1.5.0",
      "model_name": "DescriptionStyleModel",
      "state": {
       "_model_module": "@jupyter-widgets/controls",
       "_model_module_version": "1.5.0",
       "_model_name": "DescriptionStyleModel",
       "_view_count": null,
       "_view_module": "@jupyter-widgets/base",
       "_view_module_version": "1.2.0",
       "_view_name": "StyleView",
       "description_width": ""
      }
     },
     "51e6318ea3b34feb8b62ba8eeb464cc1": {
      "model_module": "@jupyter-widgets/controls",
      "model_module_version": "1.5.0",
      "model_name": "FloatProgressModel",
      "state": {
       "_dom_classes": [],
       "_model_module": "@jupyter-widgets/controls",
       "_model_module_version": "1.5.0",
       "_model_name": "FloatProgressModel",
       "_view_count": null,
       "_view_module": "@jupyter-widgets/controls",
       "_view_module_version": "1.5.0",
       "_view_name": "ProgressView",
       "bar_style": "success",
       "description": "table: 100%",
       "description_tooltip": null,
       "layout": "IPY_MODEL_041a192edc3d4840b88fc1f2d2f50937",
       "max": 1,
       "min": 0,
       "orientation": "horizontal",
       "style": "IPY_MODEL_656e704107bc40d6bdb58b8008672dc5",
       "value": 1
      }
     },
     "5219957a953d460daada1c5d6ac4dc00": {
      "model_module": "@jupyter-widgets/controls",
      "model_module_version": "1.5.0",
      "model_name": "DescriptionStyleModel",
      "state": {
       "_model_module": "@jupyter-widgets/controls",
       "_model_module_version": "1.5.0",
       "_model_name": "DescriptionStyleModel",
       "_view_count": null,
       "_view_module": "@jupyter-widgets/base",
       "_view_module_version": "1.2.0",
       "_view_name": "StyleView",
       "description_width": ""
      }
     },
     "59c0937b28654bb4b67b7de3dcc5a62a": {
      "model_module": "@jupyter-widgets/controls",
      "model_module_version": "1.5.0",
      "model_name": "FloatProgressModel",
      "state": {
       "_dom_classes": [],
       "_model_module": "@jupyter-widgets/controls",
       "_model_module_version": "1.5.0",
       "_model_name": "FloatProgressModel",
       "_view_count": null,
       "_view_module": "@jupyter-widgets/controls",
       "_view_module_version": "1.5.0",
       "_view_name": "ProgressView",
       "bar_style": "success",
       "description": "variables: 100%",
       "description_tooltip": null,
       "layout": "IPY_MODEL_8581b6fc1c4a412b9ce1987e706530b0",
       "max": 14,
       "min": 0,
       "orientation": "horizontal",
       "style": "IPY_MODEL_01e3b1fbbb3f4300a04f8b2e34a1435b",
       "value": 14
      }
     },
     "5a53d5a9d0cc4420bed62d1cc5e910e0": {
      "model_module": "@jupyter-widgets/controls",
      "model_module_version": "1.5.0",
      "model_name": "FloatProgressModel",
      "state": {
       "_dom_classes": [],
       "_model_module": "@jupyter-widgets/controls",
       "_model_module_version": "1.5.0",
       "_model_name": "FloatProgressModel",
       "_view_count": null,
       "_view_module": "@jupyter-widgets/controls",
       "_view_module_version": "1.5.0",
       "_view_name": "ProgressView",
       "bar_style": "success",
       "description": "build report structure: 100%",
       "description_tooltip": null,
       "layout": "IPY_MODEL_f11acd58bf1c4bb3b69a6f3d3ed356a2",
       "max": 1,
       "min": 0,
       "orientation": "horizontal",
       "style": "IPY_MODEL_6d131aa9f6e54f728e5e304bc9a5999a",
       "value": 1
      }
     },
     "639e377002fa4ae991bc42d744409187": {
      "model_module": "@jupyter-widgets/controls",
      "model_module_version": "1.5.0",
      "model_name": "FloatProgressModel",
      "state": {
       "_dom_classes": [],
       "_model_module": "@jupyter-widgets/controls",
       "_model_module_version": "1.5.0",
       "_model_name": "FloatProgressModel",
       "_view_count": null,
       "_view_module": "@jupyter-widgets/controls",
       "_view_module_version": "1.5.0",
       "_view_name": "ProgressView",
       "bar_style": "success",
       "description": "package: 100%",
       "description_tooltip": null,
       "layout": "IPY_MODEL_cb8dd89e7bc84d7ab152848b0c8737b3",
       "max": 1,
       "min": 0,
       "orientation": "horizontal",
       "style": "IPY_MODEL_db6ef1a86ebb49db9463b05a07f1648c",
       "value": 1
      }
     },
     "656831a593d8439896654a3d151988d6": {
      "model_module": "@jupyter-widgets/base",
      "model_module_version": "1.2.0",
      "model_name": "LayoutModel",
      "state": {
       "_model_module": "@jupyter-widgets/base",
       "_model_module_version": "1.2.0",
       "_model_name": "LayoutModel",
       "_view_count": null,
       "_view_module": "@jupyter-widgets/base",
       "_view_module_version": "1.2.0",
       "_view_name": "LayoutView",
       "align_content": null,
       "align_items": null,
       "align_self": null,
       "border": null,
       "bottom": null,
       "display": null,
       "flex": null,
       "flex_flow": null,
       "grid_area": null,
       "grid_auto_columns": null,
       "grid_auto_flow": null,
       "grid_auto_rows": null,
       "grid_column": null,
       "grid_gap": null,
       "grid_row": null,
       "grid_template_areas": null,
       "grid_template_columns": null,
       "grid_template_rows": null,
       "height": null,
       "justify_content": null,
       "justify_items": null,
       "left": null,
       "margin": null,
       "max_height": null,
       "max_width": null,
       "min_height": null,
       "min_width": null,
       "object_fit": null,
       "object_position": null,
       "order": null,
       "overflow": null,
       "overflow_x": null,
       "overflow_y": null,
       "padding": null,
       "right": null,
       "top": null,
       "visibility": null,
       "width": null
      }
     },
     "656e704107bc40d6bdb58b8008672dc5": {
      "model_module": "@jupyter-widgets/controls",
      "model_module_version": "1.5.0",
      "model_name": "ProgressStyleModel",
      "state": {
       "_model_module": "@jupyter-widgets/controls",
       "_model_module_version": "1.5.0",
       "_model_name": "ProgressStyleModel",
       "_view_count": null,
       "_view_module": "@jupyter-widgets/base",
       "_view_module_version": "1.2.0",
       "_view_name": "StyleView",
       "bar_color": null,
       "description_width": "initial"
      }
     },
     "6d131aa9f6e54f728e5e304bc9a5999a": {
      "model_module": "@jupyter-widgets/controls",
      "model_module_version": "1.5.0",
      "model_name": "ProgressStyleModel",
      "state": {
       "_model_module": "@jupyter-widgets/controls",
       "_model_module_version": "1.5.0",
       "_model_name": "ProgressStyleModel",
       "_view_count": null,
       "_view_module": "@jupyter-widgets/base",
       "_view_module_version": "1.2.0",
       "_view_name": "StyleView",
       "bar_color": null,
       "description_width": "initial"
      }
     },
     "6ff10c4078884655b776618f1dab067e": {
      "model_module": "@jupyter-widgets/controls",
      "model_module_version": "1.5.0",
      "model_name": "DescriptionStyleModel",
      "state": {
       "_model_module": "@jupyter-widgets/controls",
       "_model_module_version": "1.5.0",
       "_model_name": "DescriptionStyleModel",
       "_view_count": null,
       "_view_module": "@jupyter-widgets/base",
       "_view_module_version": "1.2.0",
       "_view_name": "StyleView",
       "description_width": ""
      }
     },
     "7276f791ecb34c159a1734bcaceb1fd9": {
      "model_module": "@jupyter-widgets/controls",
      "model_module_version": "1.5.0",
      "model_name": "DescriptionStyleModel",
      "state": {
       "_model_module": "@jupyter-widgets/controls",
       "_model_module_version": "1.5.0",
       "_model_name": "DescriptionStyleModel",
       "_view_count": null,
       "_view_module": "@jupyter-widgets/base",
       "_view_module_version": "1.2.0",
       "_view_name": "StyleView",
       "description_width": ""
      }
     },
     "781dff1614884817ab9995596813ed6a": {
      "model_module": "@jupyter-widgets/controls",
      "model_module_version": "1.5.0",
      "model_name": "HTMLModel",
      "state": {
       "_dom_classes": [],
       "_model_module": "@jupyter-widgets/controls",
       "_model_module_version": "1.5.0",
       "_model_name": "HTMLModel",
       "_view_count": null,
       "_view_module": "@jupyter-widgets/controls",
       "_view_module_version": "1.5.0",
       "_view_name": "HTMLView",
       "description": "",
       "description_tooltip": null,
       "layout": "IPY_MODEL_c1dfc91aeba24f1d99c275bc950787f3",
       "placeholder": "​",
       "style": "IPY_MODEL_7276f791ecb34c159a1734bcaceb1fd9",
       "value": " 1/1 [00:00&lt;00:00,  4.67it/s]"
      }
     },
     "79dc55c0e5fd4af78a623a4677b02482": {
      "model_module": "@jupyter-widgets/base",
      "model_module_version": "1.2.0",
      "model_name": "LayoutModel",
      "state": {
       "_model_module": "@jupyter-widgets/base",
       "_model_module_version": "1.2.0",
       "_model_name": "LayoutModel",
       "_view_count": null,
       "_view_module": "@jupyter-widgets/base",
       "_view_module_version": "1.2.0",
       "_view_name": "LayoutView",
       "align_content": null,
       "align_items": null,
       "align_self": null,
       "border": null,
       "bottom": null,
       "display": null,
       "flex": null,
       "flex_flow": null,
       "grid_area": null,
       "grid_auto_columns": null,
       "grid_auto_flow": null,
       "grid_auto_rows": null,
       "grid_column": null,
       "grid_gap": null,
       "grid_row": null,
       "grid_template_areas": null,
       "grid_template_columns": null,
       "grid_template_rows": null,
       "height": null,
       "justify_content": null,
       "justify_items": null,
       "left": null,
       "margin": null,
       "max_height": null,
       "max_width": null,
       "min_height": null,
       "min_width": null,
       "object_fit": null,
       "object_position": null,
       "order": null,
       "overflow": null,
       "overflow_x": null,
       "overflow_y": null,
       "padding": null,
       "right": null,
       "top": null,
       "visibility": null,
       "width": null
      }
     },
     "847c4320a7014861b5ae7060257d311f": {
      "model_module": "@jupyter-widgets/controls",
      "model_module_version": "1.5.0",
      "model_name": "DescriptionStyleModel",
      "state": {
       "_model_module": "@jupyter-widgets/controls",
       "_model_module_version": "1.5.0",
       "_model_name": "DescriptionStyleModel",
       "_view_count": null,
       "_view_module": "@jupyter-widgets/base",
       "_view_module_version": "1.2.0",
       "_view_name": "StyleView",
       "description_width": ""
      }
     },
     "8581b6fc1c4a412b9ce1987e706530b0": {
      "model_module": "@jupyter-widgets/base",
      "model_module_version": "1.2.0",
      "model_name": "LayoutModel",
      "state": {
       "_model_module": "@jupyter-widgets/base",
       "_model_module_version": "1.2.0",
       "_model_name": "LayoutModel",
       "_view_count": null,
       "_view_module": "@jupyter-widgets/base",
       "_view_module_version": "1.2.0",
       "_view_name": "LayoutView",
       "align_content": null,
       "align_items": null,
       "align_self": null,
       "border": null,
       "bottom": null,
       "display": null,
       "flex": null,
       "flex_flow": null,
       "grid_area": null,
       "grid_auto_columns": null,
       "grid_auto_flow": null,
       "grid_auto_rows": null,
       "grid_column": null,
       "grid_gap": null,
       "grid_row": null,
       "grid_template_areas": null,
       "grid_template_columns": null,
       "grid_template_rows": null,
       "height": null,
       "justify_content": null,
       "justify_items": null,
       "left": null,
       "margin": null,
       "max_height": null,
       "max_width": null,
       "min_height": null,
       "min_width": null,
       "object_fit": null,
       "object_position": null,
       "order": null,
       "overflow": null,
       "overflow_x": null,
       "overflow_y": null,
       "padding": null,
       "right": null,
       "top": null,
       "visibility": null,
       "width": null
      }
     },
     "877af7bd103b4dc18d57f97817e48585": {
      "model_module": "@jupyter-widgets/base",
      "model_module_version": "1.2.0",
      "model_name": "LayoutModel",
      "state": {
       "_model_module": "@jupyter-widgets/base",
       "_model_module_version": "1.2.0",
       "_model_name": "LayoutModel",
       "_view_count": null,
       "_view_module": "@jupyter-widgets/base",
       "_view_module_version": "1.2.0",
       "_view_name": "LayoutView",
       "align_content": null,
       "align_items": null,
       "align_self": null,
       "border": null,
       "bottom": null,
       "display": null,
       "flex": null,
       "flex_flow": null,
       "grid_area": null,
       "grid_auto_columns": null,
       "grid_auto_flow": null,
       "grid_auto_rows": null,
       "grid_column": null,
       "grid_gap": null,
       "grid_row": null,
       "grid_template_areas": null,
       "grid_template_columns": null,
       "grid_template_rows": null,
       "height": null,
       "justify_content": null,
       "justify_items": null,
       "left": null,
       "margin": null,
       "max_height": null,
       "max_width": null,
       "min_height": null,
       "min_width": null,
       "object_fit": null,
       "object_position": null,
       "order": null,
       "overflow": null,
       "overflow_x": null,
       "overflow_y": null,
       "padding": null,
       "right": null,
       "top": null,
       "visibility": null,
       "width": null
      }
     },
     "8f842965d36045cf90b23f9d350db9b6": {
      "model_module": "@jupyter-widgets/controls",
      "model_module_version": "1.5.0",
      "model_name": "HTMLModel",
      "state": {
       "_dom_classes": [],
       "_model_module": "@jupyter-widgets/controls",
       "_model_module_version": "1.5.0",
       "_model_name": "HTMLModel",
       "_view_count": null,
       "_view_module": "@jupyter-widgets/controls",
       "_view_module_version": "1.5.0",
       "_view_name": "HTMLView",
       "description": "",
       "description_tooltip": null,
       "layout": "IPY_MODEL_9dc2610382ae4251952554249864ced8",
       "placeholder": "​",
       "style": "IPY_MODEL_1da01d4acd7d4a7e8dadd515696a04de",
       "value": " 6/6 [00:05&lt;00:00,  1.02it/s]"
      }
     },
     "8fccc6212de54921871d08e06ae52115": {
      "model_module": "@jupyter-widgets/controls",
      "model_module_version": "1.5.0",
      "model_name": "ProgressStyleModel",
      "state": {
       "_model_module": "@jupyter-widgets/controls",
       "_model_module_version": "1.5.0",
       "_model_name": "ProgressStyleModel",
       "_view_count": null,
       "_view_module": "@jupyter-widgets/base",
       "_view_module_version": "1.2.0",
       "_view_name": "StyleView",
       "bar_color": null,
       "description_width": "initial"
      }
     },
     "9036389f5c994648adffad264de3355e": {
      "model_module": "@jupyter-widgets/controls",
      "model_module_version": "1.5.0",
      "model_name": "ProgressStyleModel",
      "state": {
       "_model_module": "@jupyter-widgets/controls",
       "_model_module_version": "1.5.0",
       "_model_name": "ProgressStyleModel",
       "_view_count": null,
       "_view_module": "@jupyter-widgets/base",
       "_view_module_version": "1.2.0",
       "_view_name": "StyleView",
       "bar_color": null,
       "description_width": "initial"
      }
     },
     "910691cbcab844ef995debd8dc29b901": {
      "model_module": "@jupyter-widgets/controls",
      "model_module_version": "1.5.0",
      "model_name": "HTMLModel",
      "state": {
       "_dom_classes": [],
       "_model_module": "@jupyter-widgets/controls",
       "_model_module_version": "1.5.0",
       "_model_name": "HTMLModel",
       "_view_count": null,
       "_view_module": "@jupyter-widgets/controls",
       "_view_module_version": "1.5.0",
       "_view_name": "HTMLView",
       "description": "",
       "description_tooltip": null,
       "layout": "IPY_MODEL_a52d3846a92a40259f5c2e8b2be77f5c",
       "placeholder": "​",
       "style": "IPY_MODEL_6ff10c4078884655b776618f1dab067e",
       "value": " 14/14 [00:14&lt;00:00,  1.01s/it]"
      }
     },
     "9127c6faaf1f4037aff1bfa6a7b183ea": {
      "model_module": "@jupyter-widgets/controls",
      "model_module_version": "1.5.0",
      "model_name": "FloatProgressModel",
      "state": {
       "_dom_classes": [],
       "_model_module": "@jupyter-widgets/controls",
       "_model_module_version": "1.5.0",
       "_model_name": "FloatProgressModel",
       "_view_count": null,
       "_view_module": "@jupyter-widgets/controls",
       "_view_module_version": "1.5.0",
       "_view_name": "ProgressView",
       "bar_style": "success",
       "description": "correlations [recoded]: 100%",
       "description_tooltip": null,
       "layout": "IPY_MODEL_1e56ce8c3d014b6ab3aadd1e72cbee08",
       "max": 6,
       "min": 0,
       "orientation": "horizontal",
       "style": "IPY_MODEL_b3a1d60698534c55b8f77dcf9342db13",
       "value": 6
      }
     },
     "92b71c9334f342bfa8dd796a3a3e0643": {
      "model_module": "@jupyter-widgets/controls",
      "model_module_version": "1.5.0",
      "model_name": "HBoxModel",
      "state": {
       "_dom_classes": [],
       "_model_module": "@jupyter-widgets/controls",
       "_model_module_version": "1.5.0",
       "_model_name": "HBoxModel",
       "_view_count": null,
       "_view_module": "@jupyter-widgets/controls",
       "_view_module_version": "1.5.0",
       "_view_name": "HBoxView",
       "box_style": "",
       "children": [
        "IPY_MODEL_639e377002fa4ae991bc42d744409187",
        "IPY_MODEL_781dff1614884817ab9995596813ed6a"
       ],
       "layout": "IPY_MODEL_877af7bd103b4dc18d57f97817e48585"
      }
     },
     "977eb7c67ef049e2add143876a40192e": {
      "model_module": "@jupyter-widgets/base",
      "model_module_version": "1.2.0",
      "model_name": "LayoutModel",
      "state": {
       "_model_module": "@jupyter-widgets/base",
       "_model_module_version": "1.2.0",
       "_model_name": "LayoutModel",
       "_view_count": null,
       "_view_module": "@jupyter-widgets/base",
       "_view_module_version": "1.2.0",
       "_view_name": "LayoutView",
       "align_content": null,
       "align_items": null,
       "align_self": null,
       "border": null,
       "bottom": null,
       "display": null,
       "flex": null,
       "flex_flow": null,
       "grid_area": null,
       "grid_auto_columns": null,
       "grid_auto_flow": null,
       "grid_auto_rows": null,
       "grid_column": null,
       "grid_gap": null,
       "grid_row": null,
       "grid_template_areas": null,
       "grid_template_columns": null,
       "grid_template_rows": null,
       "height": null,
       "justify_content": null,
       "justify_items": null,
       "left": null,
       "margin": null,
       "max_height": null,
       "max_width": null,
       "min_height": null,
       "min_width": null,
       "object_fit": null,
       "object_position": null,
       "order": null,
       "overflow": null,
       "overflow_x": null,
       "overflow_y": null,
       "padding": null,
       "right": null,
       "top": null,
       "visibility": null,
       "width": null
      }
     },
     "9dc2610382ae4251952554249864ced8": {
      "model_module": "@jupyter-widgets/base",
      "model_module_version": "1.2.0",
      "model_name": "LayoutModel",
      "state": {
       "_model_module": "@jupyter-widgets/base",
       "_model_module_version": "1.2.0",
       "_model_name": "LayoutModel",
       "_view_count": null,
       "_view_module": "@jupyter-widgets/base",
       "_view_module_version": "1.2.0",
       "_view_name": "LayoutView",
       "align_content": null,
       "align_items": null,
       "align_self": null,
       "border": null,
       "bottom": null,
       "display": null,
       "flex": null,
       "flex_flow": null,
       "grid_area": null,
       "grid_auto_columns": null,
       "grid_auto_flow": null,
       "grid_auto_rows": null,
       "grid_column": null,
       "grid_gap": null,
       "grid_row": null,
       "grid_template_areas": null,
       "grid_template_columns": null,
       "grid_template_rows": null,
       "height": null,
       "justify_content": null,
       "justify_items": null,
       "left": null,
       "margin": null,
       "max_height": null,
       "max_width": null,
       "min_height": null,
       "min_width": null,
       "object_fit": null,
       "object_position": null,
       "order": null,
       "overflow": null,
       "overflow_x": null,
       "overflow_y": null,
       "padding": null,
       "right": null,
       "top": null,
       "visibility": null,
       "width": null
      }
     },
     "a2af39a8d8be44e8b6a02700aa295782": {
      "model_module": "@jupyter-widgets/base",
      "model_module_version": "1.2.0",
      "model_name": "LayoutModel",
      "state": {
       "_model_module": "@jupyter-widgets/base",
       "_model_module_version": "1.2.0",
       "_model_name": "LayoutModel",
       "_view_count": null,
       "_view_module": "@jupyter-widgets/base",
       "_view_module_version": "1.2.0",
       "_view_name": "LayoutView",
       "align_content": null,
       "align_items": null,
       "align_self": null,
       "border": null,
       "bottom": null,
       "display": null,
       "flex": null,
       "flex_flow": null,
       "grid_area": null,
       "grid_auto_columns": null,
       "grid_auto_flow": null,
       "grid_auto_rows": null,
       "grid_column": null,
       "grid_gap": null,
       "grid_row": null,
       "grid_template_areas": null,
       "grid_template_columns": null,
       "grid_template_rows": null,
       "height": null,
       "justify_content": null,
       "justify_items": null,
       "left": null,
       "margin": null,
       "max_height": null,
       "max_width": null,
       "min_height": null,
       "min_width": null,
       "object_fit": null,
       "object_position": null,
       "order": null,
       "overflow": null,
       "overflow_x": null,
       "overflow_y": null,
       "padding": null,
       "right": null,
       "top": null,
       "visibility": null,
       "width": null
      }
     },
     "a52d3846a92a40259f5c2e8b2be77f5c": {
      "model_module": "@jupyter-widgets/base",
      "model_module_version": "1.2.0",
      "model_name": "LayoutModel",
      "state": {
       "_model_module": "@jupyter-widgets/base",
       "_model_module_version": "1.2.0",
       "_model_name": "LayoutModel",
       "_view_count": null,
       "_view_module": "@jupyter-widgets/base",
       "_view_module_version": "1.2.0",
       "_view_name": "LayoutView",
       "align_content": null,
       "align_items": null,
       "align_self": null,
       "border": null,
       "bottom": null,
       "display": null,
       "flex": null,
       "flex_flow": null,
       "grid_area": null,
       "grid_auto_columns": null,
       "grid_auto_flow": null,
       "grid_auto_rows": null,
       "grid_column": null,
       "grid_gap": null,
       "grid_row": null,
       "grid_template_areas": null,
       "grid_template_columns": null,
       "grid_template_rows": null,
       "height": null,
       "justify_content": null,
       "justify_items": null,
       "left": null,
       "margin": null,
       "max_height": null,
       "max_width": null,
       "min_height": null,
       "min_width": null,
       "object_fit": null,
       "object_position": null,
       "order": null,
       "overflow": null,
       "overflow_x": null,
       "overflow_y": null,
       "padding": null,
       "right": null,
       "top": null,
       "visibility": null,
       "width": null
      }
     },
     "af2831ef691646c981c263c88cbe5b1a": {
      "model_module": "@jupyter-widgets/controls",
      "model_module_version": "1.5.0",
      "model_name": "ProgressStyleModel",
      "state": {
       "_model_module": "@jupyter-widgets/controls",
       "_model_module_version": "1.5.0",
       "_model_name": "ProgressStyleModel",
       "_view_count": null,
       "_view_module": "@jupyter-widgets/base",
       "_view_module_version": "1.2.0",
       "_view_name": "StyleView",
       "bar_color": null,
       "description_width": "initial"
      }
     },
     "b009431defd94fa28b342fbc3d44e21c": {
      "model_module": "@jupyter-widgets/base",
      "model_module_version": "1.2.0",
      "model_name": "LayoutModel",
      "state": {
       "_model_module": "@jupyter-widgets/base",
       "_model_module_version": "1.2.0",
       "_model_name": "LayoutModel",
       "_view_count": null,
       "_view_module": "@jupyter-widgets/base",
       "_view_module_version": "1.2.0",
       "_view_name": "LayoutView",
       "align_content": null,
       "align_items": null,
       "align_self": null,
       "border": null,
       "bottom": null,
       "display": null,
       "flex": null,
       "flex_flow": null,
       "grid_area": null,
       "grid_auto_columns": null,
       "grid_auto_flow": null,
       "grid_auto_rows": null,
       "grid_column": null,
       "grid_gap": null,
       "grid_row": null,
       "grid_template_areas": null,
       "grid_template_columns": null,
       "grid_template_rows": null,
       "height": null,
       "justify_content": null,
       "justify_items": null,
       "left": null,
       "margin": null,
       "max_height": null,
       "max_width": null,
       "min_height": null,
       "min_width": null,
       "object_fit": null,
       "object_position": null,
       "order": null,
       "overflow": null,
       "overflow_x": null,
       "overflow_y": null,
       "padding": null,
       "right": null,
       "top": null,
       "visibility": null,
       "width": null
      }
     },
     "b185b111ef5940d9b95ed44660d54a00": {
      "model_module": "@jupyter-widgets/controls",
      "model_module_version": "1.5.0",
      "model_name": "DescriptionStyleModel",
      "state": {
       "_model_module": "@jupyter-widgets/controls",
       "_model_module_version": "1.5.0",
       "_model_name": "DescriptionStyleModel",
       "_view_count": null,
       "_view_module": "@jupyter-widgets/base",
       "_view_module_version": "1.2.0",
       "_view_name": "StyleView",
       "description_width": ""
      }
     },
     "b3a1d60698534c55b8f77dcf9342db13": {
      "model_module": "@jupyter-widgets/controls",
      "model_module_version": "1.5.0",
      "model_name": "ProgressStyleModel",
      "state": {
       "_model_module": "@jupyter-widgets/controls",
       "_model_module_version": "1.5.0",
       "_model_name": "ProgressStyleModel",
       "_view_count": null,
       "_view_module": "@jupyter-widgets/base",
       "_view_module_version": "1.2.0",
       "_view_name": "StyleView",
       "bar_color": null,
       "description_width": "initial"
      }
     },
     "b7a86bea83734283a4f42ccb14fc4792": {
      "model_module": "@jupyter-widgets/base",
      "model_module_version": "1.2.0",
      "model_name": "LayoutModel",
      "state": {
       "_model_module": "@jupyter-widgets/base",
       "_model_module_version": "1.2.0",
       "_model_name": "LayoutModel",
       "_view_count": null,
       "_view_module": "@jupyter-widgets/base",
       "_view_module_version": "1.2.0",
       "_view_name": "LayoutView",
       "align_content": null,
       "align_items": null,
       "align_self": null,
       "border": null,
       "bottom": null,
       "display": null,
       "flex": null,
       "flex_flow": null,
       "grid_area": null,
       "grid_auto_columns": null,
       "grid_auto_flow": null,
       "grid_auto_rows": null,
       "grid_column": null,
       "grid_gap": null,
       "grid_row": null,
       "grid_template_areas": null,
       "grid_template_columns": null,
       "grid_template_rows": null,
       "height": null,
       "justify_content": null,
       "justify_items": null,
       "left": null,
       "margin": null,
       "max_height": null,
       "max_width": null,
       "min_height": null,
       "min_width": null,
       "object_fit": null,
       "object_position": null,
       "order": null,
       "overflow": null,
       "overflow_x": null,
       "overflow_y": null,
       "padding": null,
       "right": null,
       "top": null,
       "visibility": null,
       "width": null
      }
     },
     "c1abead6dfae44009bf846884292a2c7": {
      "model_module": "@jupyter-widgets/base",
      "model_module_version": "1.2.0",
      "model_name": "LayoutModel",
      "state": {
       "_model_module": "@jupyter-widgets/base",
       "_model_module_version": "1.2.0",
       "_model_name": "LayoutModel",
       "_view_count": null,
       "_view_module": "@jupyter-widgets/base",
       "_view_module_version": "1.2.0",
       "_view_name": "LayoutView",
       "align_content": null,
       "align_items": null,
       "align_self": null,
       "border": null,
       "bottom": null,
       "display": null,
       "flex": null,
       "flex_flow": null,
       "grid_area": null,
       "grid_auto_columns": null,
       "grid_auto_flow": null,
       "grid_auto_rows": null,
       "grid_column": null,
       "grid_gap": null,
       "grid_row": null,
       "grid_template_areas": null,
       "grid_template_columns": null,
       "grid_template_rows": null,
       "height": null,
       "justify_content": null,
       "justify_items": null,
       "left": null,
       "margin": null,
       "max_height": null,
       "max_width": null,
       "min_height": null,
       "min_width": null,
       "object_fit": null,
       "object_position": null,
       "order": null,
       "overflow": null,
       "overflow_x": null,
       "overflow_y": null,
       "padding": null,
       "right": null,
       "top": null,
       "visibility": null,
       "width": null
      }
     },
     "c1dfc91aeba24f1d99c275bc950787f3": {
      "model_module": "@jupyter-widgets/base",
      "model_module_version": "1.2.0",
      "model_name": "LayoutModel",
      "state": {
       "_model_module": "@jupyter-widgets/base",
       "_model_module_version": "1.2.0",
       "_model_name": "LayoutModel",
       "_view_count": null,
       "_view_module": "@jupyter-widgets/base",
       "_view_module_version": "1.2.0",
       "_view_name": "LayoutView",
       "align_content": null,
       "align_items": null,
       "align_self": null,
       "border": null,
       "bottom": null,
       "display": null,
       "flex": null,
       "flex_flow": null,
       "grid_area": null,
       "grid_auto_columns": null,
       "grid_auto_flow": null,
       "grid_auto_rows": null,
       "grid_column": null,
       "grid_gap": null,
       "grid_row": null,
       "grid_template_areas": null,
       "grid_template_columns": null,
       "grid_template_rows": null,
       "height": null,
       "justify_content": null,
       "justify_items": null,
       "left": null,
       "margin": null,
       "max_height": null,
       "max_width": null,
       "min_height": null,
       "min_width": null,
       "object_fit": null,
       "object_position": null,
       "order": null,
       "overflow": null,
       "overflow_x": null,
       "overflow_y": null,
       "padding": null,
       "right": null,
       "top": null,
       "visibility": null,
       "width": null
      }
     },
     "c26dc890af7144e9adb2593c5271d348": {
      "model_module": "@jupyter-widgets/controls",
      "model_module_version": "1.5.0",
      "model_name": "HTMLModel",
      "state": {
       "_dom_classes": [],
       "_model_module": "@jupyter-widgets/controls",
       "_model_module_version": "1.5.0",
       "_model_name": "HTMLModel",
       "_view_count": null,
       "_view_module": "@jupyter-widgets/controls",
       "_view_module_version": "1.5.0",
       "_view_name": "HTMLView",
       "description": "",
       "description_tooltip": null,
       "layout": "IPY_MODEL_d6bc6e2f09c44b80867171b67e63d7bf",
       "placeholder": "​",
       "style": "IPY_MODEL_5219957a953d460daada1c5d6ac4dc00",
       "value": " 1/1 [00:02&lt;00:00,  2.94s/it]"
      }
     },
     "c2fa0a5150f940778625fd5bbf9648bf": {
      "model_module": "@jupyter-widgets/base",
      "model_module_version": "1.2.0",
      "model_name": "LayoutModel",
      "state": {
       "_model_module": "@jupyter-widgets/base",
       "_model_module_version": "1.2.0",
       "_model_name": "LayoutModel",
       "_view_count": null,
       "_view_module": "@jupyter-widgets/base",
       "_view_module_version": "1.2.0",
       "_view_name": "LayoutView",
       "align_content": null,
       "align_items": null,
       "align_self": null,
       "border": null,
       "bottom": null,
       "display": null,
       "flex": null,
       "flex_flow": null,
       "grid_area": null,
       "grid_auto_columns": null,
       "grid_auto_flow": null,
       "grid_auto_rows": null,
       "grid_column": null,
       "grid_gap": null,
       "grid_row": null,
       "grid_template_areas": null,
       "grid_template_columns": null,
       "grid_template_rows": null,
       "height": null,
       "justify_content": null,
       "justify_items": null,
       "left": null,
       "margin": null,
       "max_height": null,
       "max_width": null,
       "min_height": null,
       "min_width": null,
       "object_fit": null,
       "object_position": null,
       "order": null,
       "overflow": null,
       "overflow_x": null,
       "overflow_y": null,
       "padding": null,
       "right": null,
       "top": null,
       "visibility": null,
       "width": null
      }
     },
     "c3f7f935855547c7a0194db7f219eccd": {
      "model_module": "@jupyter-widgets/controls",
      "model_module_version": "1.5.0",
      "model_name": "HBoxModel",
      "state": {
       "_dom_classes": [],
       "_model_module": "@jupyter-widgets/controls",
       "_model_module_version": "1.5.0",
       "_model_name": "HBoxModel",
       "_view_count": null,
       "_view_module": "@jupyter-widgets/controls",
       "_view_module_version": "1.5.0",
       "_view_name": "HBoxView",
       "box_style": "",
       "children": [
        "IPY_MODEL_51e6318ea3b34feb8b62ba8eeb464cc1",
        "IPY_MODEL_c26dc890af7144e9adb2593c5271d348"
       ],
       "layout": "IPY_MODEL_b009431defd94fa28b342fbc3d44e21c"
      }
     },
     "c951c57547834d5298321cd725fd205e": {
      "model_module": "@jupyter-widgets/base",
      "model_module_version": "1.2.0",
      "model_name": "LayoutModel",
      "state": {
       "_model_module": "@jupyter-widgets/base",
       "_model_module_version": "1.2.0",
       "_model_name": "LayoutModel",
       "_view_count": null,
       "_view_module": "@jupyter-widgets/base",
       "_view_module_version": "1.2.0",
       "_view_name": "LayoutView",
       "align_content": null,
       "align_items": null,
       "align_self": null,
       "border": null,
       "bottom": null,
       "display": null,
       "flex": null,
       "flex_flow": null,
       "grid_area": null,
       "grid_auto_columns": null,
       "grid_auto_flow": null,
       "grid_auto_rows": null,
       "grid_column": null,
       "grid_gap": null,
       "grid_row": null,
       "grid_template_areas": null,
       "grid_template_columns": null,
       "grid_template_rows": null,
       "height": null,
       "justify_content": null,
       "justify_items": null,
       "left": null,
       "margin": null,
       "max_height": null,
       "max_width": null,
       "min_height": null,
       "min_width": null,
       "object_fit": null,
       "object_position": null,
       "order": null,
       "overflow": null,
       "overflow_x": null,
       "overflow_y": null,
       "padding": null,
       "right": null,
       "top": null,
       "visibility": null,
       "width": null
      }
     },
     "cb8dd89e7bc84d7ab152848b0c8737b3": {
      "model_module": "@jupyter-widgets/base",
      "model_module_version": "1.2.0",
      "model_name": "LayoutModel",
      "state": {
       "_model_module": "@jupyter-widgets/base",
       "_model_module_version": "1.2.0",
       "_model_name": "LayoutModel",
       "_view_count": null,
       "_view_module": "@jupyter-widgets/base",
       "_view_module_version": "1.2.0",
       "_view_name": "LayoutView",
       "align_content": null,
       "align_items": null,
       "align_self": null,
       "border": null,
       "bottom": null,
       "display": null,
       "flex": null,
       "flex_flow": null,
       "grid_area": null,
       "grid_auto_columns": null,
       "grid_auto_flow": null,
       "grid_auto_rows": null,
       "grid_column": null,
       "grid_gap": null,
       "grid_row": null,
       "grid_template_areas": null,
       "grid_template_columns": null,
       "grid_template_rows": null,
       "height": null,
       "justify_content": null,
       "justify_items": null,
       "left": null,
       "margin": null,
       "max_height": null,
       "max_width": null,
       "min_height": null,
       "min_width": null,
       "object_fit": null,
       "object_position": null,
       "order": null,
       "overflow": null,
       "overflow_x": null,
       "overflow_y": null,
       "padding": null,
       "right": null,
       "top": null,
       "visibility": null,
       "width": null
      }
     },
     "d56a8bf625b545929307918b87430a8d": {
      "model_module": "@jupyter-widgets/controls",
      "model_module_version": "1.5.0",
      "model_name": "HBoxModel",
      "state": {
       "_dom_classes": [],
       "_model_module": "@jupyter-widgets/controls",
       "_model_module_version": "1.5.0",
       "_model_name": "HBoxModel",
       "_view_count": null,
       "_view_module": "@jupyter-widgets/controls",
       "_view_module_version": "1.5.0",
       "_view_name": "HBoxView",
       "box_style": "",
       "children": [
        "IPY_MODEL_22ff3b225d5a4000af261814739a4904",
        "IPY_MODEL_f577e1e7243a4aa780cd29df13a8cff8"
       ],
       "layout": "IPY_MODEL_977eb7c67ef049e2add143876a40192e"
      }
     },
     "d6bc6e2f09c44b80867171b67e63d7bf": {
      "model_module": "@jupyter-widgets/base",
      "model_module_version": "1.2.0",
      "model_name": "LayoutModel",
      "state": {
       "_model_module": "@jupyter-widgets/base",
       "_model_module_version": "1.2.0",
       "_model_name": "LayoutModel",
       "_view_count": null,
       "_view_module": "@jupyter-widgets/base",
       "_view_module_version": "1.2.0",
       "_view_name": "LayoutView",
       "align_content": null,
       "align_items": null,
       "align_self": null,
       "border": null,
       "bottom": null,
       "display": null,
       "flex": null,
       "flex_flow": null,
       "grid_area": null,
       "grid_auto_columns": null,
       "grid_auto_flow": null,
       "grid_auto_rows": null,
       "grid_column": null,
       "grid_gap": null,
       "grid_row": null,
       "grid_template_areas": null,
       "grid_template_columns": null,
       "grid_template_rows": null,
       "height": null,
       "justify_content": null,
       "justify_items": null,
       "left": null,
       "margin": null,
       "max_height": null,
       "max_width": null,
       "min_height": null,
       "min_width": null,
       "object_fit": null,
       "object_position": null,
       "order": null,
       "overflow": null,
       "overflow_x": null,
       "overflow_y": null,
       "padding": null,
       "right": null,
       "top": null,
       "visibility": null,
       "width": null
      }
     },
     "dacfe280f073492a80f8ac6b43fe02c1": {
      "model_module": "@jupyter-widgets/base",
      "model_module_version": "1.2.0",
      "model_name": "LayoutModel",
      "state": {
       "_model_module": "@jupyter-widgets/base",
       "_model_module_version": "1.2.0",
       "_model_name": "LayoutModel",
       "_view_count": null,
       "_view_module": "@jupyter-widgets/base",
       "_view_module_version": "1.2.0",
       "_view_name": "LayoutView",
       "align_content": null,
       "align_items": null,
       "align_self": null,
       "border": null,
       "bottom": null,
       "display": null,
       "flex": null,
       "flex_flow": null,
       "grid_area": null,
       "grid_auto_columns": null,
       "grid_auto_flow": null,
       "grid_auto_rows": null,
       "grid_column": null,
       "grid_gap": null,
       "grid_row": null,
       "grid_template_areas": null,
       "grid_template_columns": null,
       "grid_template_rows": null,
       "height": null,
       "justify_content": null,
       "justify_items": null,
       "left": null,
       "margin": null,
       "max_height": null,
       "max_width": null,
       "min_height": null,
       "min_width": null,
       "object_fit": null,
       "object_position": null,
       "order": null,
       "overflow": null,
       "overflow_x": null,
       "overflow_y": null,
       "padding": null,
       "right": null,
       "top": null,
       "visibility": null,
       "width": null
      }
     },
     "db6ef1a86ebb49db9463b05a07f1648c": {
      "model_module": "@jupyter-widgets/controls",
      "model_module_version": "1.5.0",
      "model_name": "ProgressStyleModel",
      "state": {
       "_model_module": "@jupyter-widgets/controls",
       "_model_module_version": "1.5.0",
       "_model_name": "ProgressStyleModel",
       "_view_count": null,
       "_view_module": "@jupyter-widgets/base",
       "_view_module_version": "1.2.0",
       "_view_name": "StyleView",
       "bar_color": null,
       "description_width": "initial"
      }
     },
     "dc9ffc3220a74a04acea743a8ddfa864": {
      "model_module": "@jupyter-widgets/base",
      "model_module_version": "1.2.0",
      "model_name": "LayoutModel",
      "state": {
       "_model_module": "@jupyter-widgets/base",
       "_model_module_version": "1.2.0",
       "_model_name": "LayoutModel",
       "_view_count": null,
       "_view_module": "@jupyter-widgets/base",
       "_view_module_version": "1.2.0",
       "_view_name": "LayoutView",
       "align_content": null,
       "align_items": null,
       "align_self": null,
       "border": null,
       "bottom": null,
       "display": null,
       "flex": null,
       "flex_flow": null,
       "grid_area": null,
       "grid_auto_columns": null,
       "grid_auto_flow": null,
       "grid_auto_rows": null,
       "grid_column": null,
       "grid_gap": null,
       "grid_row": null,
       "grid_template_areas": null,
       "grid_template_columns": null,
       "grid_template_rows": null,
       "height": null,
       "justify_content": null,
       "justify_items": null,
       "left": null,
       "margin": null,
       "max_height": null,
       "max_width": null,
       "min_height": null,
       "min_width": null,
       "object_fit": null,
       "object_position": null,
       "order": null,
       "overflow": null,
       "overflow_x": null,
       "overflow_y": null,
       "padding": null,
       "right": null,
       "top": null,
       "visibility": null,
       "width": null
      }
     },
     "e248b6e861ad4c11bebb36e32985f8ca": {
      "model_module": "@jupyter-widgets/controls",
      "model_module_version": "1.5.0",
      "model_name": "HTMLModel",
      "state": {
       "_dom_classes": [],
       "_model_module": "@jupyter-widgets/controls",
       "_model_module_version": "1.5.0",
       "_model_name": "HTMLModel",
       "_view_count": null,
       "_view_module": "@jupyter-widgets/controls",
       "_view_module_version": "1.5.0",
       "_view_name": "HTMLView",
       "description": "",
       "description_tooltip": null,
       "layout": "IPY_MODEL_dacfe280f073492a80f8ac6b43fe02c1",
       "placeholder": "​",
       "style": "IPY_MODEL_4c2519b9911f4726ade8fb8a9db07818",
       "value": " 2/2 [00:02&lt;00:00,  1.45s/it]"
      }
     },
     "e69583199eea4eec8ff0904bb21697fe": {
      "model_module": "@jupyter-widgets/controls",
      "model_module_version": "1.5.0",
      "model_name": "FloatProgressModel",
      "state": {
       "_dom_classes": [],
       "_model_module": "@jupyter-widgets/controls",
       "_model_module_version": "1.5.0",
       "_model_name": "FloatProgressModel",
       "_view_count": null,
       "_view_module": "@jupyter-widgets/controls",
       "_view_module_version": "1.5.0",
       "_view_name": "ProgressView",
       "bar_style": "success",
       "description": "missing [matrix]: 100%",
       "description_tooltip": null,
       "layout": "IPY_MODEL_c951c57547834d5298321cd725fd205e",
       "max": 2,
       "min": 0,
       "orientation": "horizontal",
       "style": "IPY_MODEL_af2831ef691646c981c263c88cbe5b1a",
       "value": 2
      }
     },
     "efc8afdaa2c440a29ffc653768072992": {
      "model_module": "@jupyter-widgets/controls",
      "model_module_version": "1.5.0",
      "model_name": "HBoxModel",
      "state": {
       "_dom_classes": [],
       "_model_module": "@jupyter-widgets/controls",
       "_model_module_version": "1.5.0",
       "_model_name": "HBoxModel",
       "_view_count": null,
       "_view_module": "@jupyter-widgets/controls",
       "_view_module_version": "1.5.0",
       "_view_name": "HBoxView",
       "box_style": "",
       "children": [
        "IPY_MODEL_9127c6faaf1f4037aff1bfa6a7b183ea",
        "IPY_MODEL_8f842965d36045cf90b23f9d350db9b6"
       ],
       "layout": "IPY_MODEL_b7a86bea83734283a4f42ccb14fc4792"
      }
     },
     "f11acd58bf1c4bb3b69a6f3d3ed356a2": {
      "model_module": "@jupyter-widgets/base",
      "model_module_version": "1.2.0",
      "model_name": "LayoutModel",
      "state": {
       "_model_module": "@jupyter-widgets/base",
       "_model_module_version": "1.2.0",
       "_model_name": "LayoutModel",
       "_view_count": null,
       "_view_module": "@jupyter-widgets/base",
       "_view_module_version": "1.2.0",
       "_view_name": "LayoutView",
       "align_content": null,
       "align_items": null,
       "align_self": null,
       "border": null,
       "bottom": null,
       "display": null,
       "flex": null,
       "flex_flow": null,
       "grid_area": null,
       "grid_auto_columns": null,
       "grid_auto_flow": null,
       "grid_auto_rows": null,
       "grid_column": null,
       "grid_gap": null,
       "grid_row": null,
       "grid_template_areas": null,
       "grid_template_columns": null,
       "grid_template_rows": null,
       "height": null,
       "justify_content": null,
       "justify_items": null,
       "left": null,
       "margin": null,
       "max_height": null,
       "max_width": null,
       "min_height": null,
       "min_width": null,
       "object_fit": null,
       "object_position": null,
       "order": null,
       "overflow": null,
       "overflow_x": null,
       "overflow_y": null,
       "padding": null,
       "right": null,
       "top": null,
       "visibility": null,
       "width": null
      }
     },
     "f4a53fe8127a46d8aa68a167f8e32d3e": {
      "model_module": "@jupyter-widgets/controls",
      "model_module_version": "1.5.0",
      "model_name": "HTMLModel",
      "state": {
       "_dom_classes": [],
       "_model_module": "@jupyter-widgets/controls",
       "_model_module_version": "1.5.0",
       "_model_name": "HTMLModel",
       "_view_count": null,
       "_view_module": "@jupyter-widgets/controls",
       "_view_module_version": "1.5.0",
       "_view_name": "HTMLView",
       "description": "",
       "description_tooltip": null,
       "layout": "IPY_MODEL_c2fa0a5150f940778625fd5bbf9648bf",
       "placeholder": "​",
       "style": "IPY_MODEL_b185b111ef5940d9b95ed44660d54a00",
       "value": " 1/1 [00:05&lt;00:00,  5.54s/it]"
      }
     },
     "f577e1e7243a4aa780cd29df13a8cff8": {
      "model_module": "@jupyter-widgets/controls",
      "model_module_version": "1.5.0",
      "model_name": "HTMLModel",
      "state": {
       "_dom_classes": [],
       "_model_module": "@jupyter-widgets/controls",
       "_model_module_version": "1.5.0",
       "_model_name": "HTMLModel",
       "_view_count": null,
       "_view_module": "@jupyter-widgets/controls",
       "_view_module_version": "1.5.0",
       "_view_name": "HTMLView",
       "description": "",
       "description_tooltip": null,
       "layout": "IPY_MODEL_656831a593d8439896654a3d151988d6",
       "placeholder": "​",
       "style": "IPY_MODEL_fa5659f701b645ba92e1955d04cce616",
       "value": " 36/36 [00:08&lt;00:00,  4.07it/s]"
      }
     },
     "f95f787f5d2a45b8860754272f2e937f": {
      "model_module": "@jupyter-widgets/controls",
      "model_module_version": "1.5.0",
      "model_name": "HBoxModel",
      "state": {
       "_dom_classes": [],
       "_model_module": "@jupyter-widgets/controls",
       "_model_module_version": "1.5.0",
       "_model_name": "HBoxModel",
       "_view_count": null,
       "_view_module": "@jupyter-widgets/controls",
       "_view_module_version": "1.5.0",
       "_view_name": "HBoxView",
       "box_style": "",
       "children": [
        "IPY_MODEL_3d87b10ca7cb4c028b7fa467cb765895",
        "IPY_MODEL_0c4cbc669bcc46c29d37350e2603db5f"
       ],
       "layout": "IPY_MODEL_a2af39a8d8be44e8b6a02700aa295782"
      }
     },
     "fa5659f701b645ba92e1955d04cce616": {
      "model_module": "@jupyter-widgets/controls",
      "model_module_version": "1.5.0",
      "model_name": "DescriptionStyleModel",
      "state": {
       "_model_module": "@jupyter-widgets/controls",
       "_model_module_version": "1.5.0",
       "_model_name": "DescriptionStyleModel",
       "_view_count": null,
       "_view_module": "@jupyter-widgets/base",
       "_view_module_version": "1.2.0",
       "_view_name": "StyleView",
       "description_width": ""
      }
     },
     "fe76bb2321c44d5396c14350724d8484": {
      "model_module": "@jupyter-widgets/base",
      "model_module_version": "1.2.0",
      "model_name": "LayoutModel",
      "state": {
       "_model_module": "@jupyter-widgets/base",
       "_model_module_version": "1.2.0",
       "_model_name": "LayoutModel",
       "_view_count": null,
       "_view_module": "@jupyter-widgets/base",
       "_view_module_version": "1.2.0",
       "_view_name": "LayoutView",
       "align_content": null,
       "align_items": null,
       "align_self": null,
       "border": null,
       "bottom": null,
       "display": null,
       "flex": null,
       "flex_flow": null,
       "grid_area": null,
       "grid_auto_columns": null,
       "grid_auto_flow": null,
       "grid_auto_rows": null,
       "grid_column": null,
       "grid_gap": null,
       "grid_row": null,
       "grid_template_areas": null,
       "grid_template_columns": null,
       "grid_template_rows": null,
       "height": null,
       "justify_content": null,
       "justify_items": null,
       "left": null,
       "margin": null,
       "max_height": null,
       "max_width": null,
       "min_height": null,
       "min_width": null,
       "object_fit": null,
       "object_position": null,
       "order": null,
       "overflow": null,
       "overflow_x": null,
       "overflow_y": null,
       "padding": null,
       "right": null,
       "top": null,
       "visibility": null,
       "width": null
      }
     }
    },
    "version_major": 2,
    "version_minor": 0
   }
  }
 },
 "nbformat": 4,
 "nbformat_minor": 4
}
